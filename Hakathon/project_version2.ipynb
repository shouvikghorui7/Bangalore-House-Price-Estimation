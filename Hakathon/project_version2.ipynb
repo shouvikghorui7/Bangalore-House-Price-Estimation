{
 "cells": [
  {
   "cell_type": "code",
   "execution_count": 1,
   "metadata": {},
   "outputs": [],
   "source": [
    "import json\n",
    "import pandas as pd\n",
    "import seaborn as sns\n",
    "import matplotlib.pyplot as plt\n",
    "from datetime import datetime\n",
    "from sklearn.preprocessing import LabelEncoder"
   ]
  },
  {
   "cell_type": "code",
   "execution_count": null,
   "metadata": {},
   "outputs": [
    {
     "data": {
      "text/html": [
       "<div>\n",
       "<style scoped>\n",
       "    .dataframe tbody tr th:only-of-type {\n",
       "        vertical-align: middle;\n",
       "    }\n",
       "\n",
       "    .dataframe tbody tr th {\n",
       "        vertical-align: top;\n",
       "    }\n",
       "\n",
       "    .dataframe thead th {\n",
       "        text-align: right;\n",
       "    }\n",
       "</style>\n",
       "<table border=\"1\" class=\"dataframe\">\n",
       "  <thead>\n",
       "    <tr style=\"text-align: right;\">\n",
       "      <th></th>\n",
       "      <th>id</th>\n",
       "      <th>type</th>\n",
       "      <th>locality</th>\n",
       "      <th>activation_date</th>\n",
       "      <th>latitude</th>\n",
       "      <th>longitude</th>\n",
       "      <th>lease_type</th>\n",
       "      <th>gym</th>\n",
       "      <th>lift</th>\n",
       "      <th>swimming_pool</th>\n",
       "      <th>...</th>\n",
       "      <th>bathroom</th>\n",
       "      <th>facing</th>\n",
       "      <th>cup_board</th>\n",
       "      <th>floor</th>\n",
       "      <th>total_floor</th>\n",
       "      <th>amenities</th>\n",
       "      <th>water_supply</th>\n",
       "      <th>building_type</th>\n",
       "      <th>balconies</th>\n",
       "      <th>rent</th>\n",
       "    </tr>\n",
       "  </thead>\n",
       "  <tbody>\n",
       "    <tr>\n",
       "      <th>10720</th>\n",
       "      <td>ff8081815cee9dbf015cef798b14214e</td>\n",
       "      <td>BHK3</td>\n",
       "      <td>Annapurneshwari Nagar</td>\n",
       "      <td>2018-10-01 21:57:00</td>\n",
       "      <td>12.977327</td>\n",
       "      <td>77.501541</td>\n",
       "      <td>ANYONE</td>\n",
       "      <td>0.0</td>\n",
       "      <td>0.0</td>\n",
       "      <td>0.0</td>\n",
       "      <td>...</td>\n",
       "      <td>3.0</td>\n",
       "      <td>E</td>\n",
       "      <td>3.0</td>\n",
       "      <td>2.0</td>\n",
       "      <td>3.0</td>\n",
       "      <td>{\"LIFT\":false,\"GYM\":false,\"INTERNET\":true,\"AC\"...</td>\n",
       "      <td>CORP_BORE</td>\n",
       "      <td>IF</td>\n",
       "      <td>5.0</td>\n",
       "      <td>17000.0</td>\n",
       "    </tr>\n",
       "    <tr>\n",
       "      <th>10244</th>\n",
       "      <td>ff80818162e6a3300162f0efd8276384</td>\n",
       "      <td>BHK2</td>\n",
       "      <td>Sangeeta Topaz, Hoodi, Bengaluru, Karnataka, I...</td>\n",
       "      <td>23-04-2018 14:02</td>\n",
       "      <td>12.989211</td>\n",
       "      <td>77.715397</td>\n",
       "      <td>FAMILY</td>\n",
       "      <td>0.0</td>\n",
       "      <td>0.0</td>\n",
       "      <td>0.0</td>\n",
       "      <td>...</td>\n",
       "      <td>2.0</td>\n",
       "      <td>N</td>\n",
       "      <td>7.0</td>\n",
       "      <td>2.0</td>\n",
       "      <td>4.0</td>\n",
       "      <td>{\"SC\":true,\"INTERCOM\":true,\"AC\":false,\"PB\":tru...</td>\n",
       "      <td>CORPORATION</td>\n",
       "      <td>AP</td>\n",
       "      <td>3.0</td>\n",
       "      <td>23000.0</td>\n",
       "    </tr>\n",
       "    <tr>\n",
       "      <th>7326</th>\n",
       "      <td>ff80818153d5d5b70153e00a5cce0c4c</td>\n",
       "      <td>BHK2</td>\n",
       "      <td>Murugesh Pallya</td>\n",
       "      <td>2018-08-02 19:47:00</td>\n",
       "      <td>12.959188</td>\n",
       "      <td>77.656335</td>\n",
       "      <td>ANYONE</td>\n",
       "      <td>0.0</td>\n",
       "      <td>0.0</td>\n",
       "      <td>0.0</td>\n",
       "      <td>...</td>\n",
       "      <td>2.0</td>\n",
       "      <td>N</td>\n",
       "      <td>2.0</td>\n",
       "      <td>0.0</td>\n",
       "      <td>1.0</td>\n",
       "      <td>{\"LIFT\":false,\"GYM\":false,\"INTERNET\":true,\"AC\"...</td>\n",
       "      <td>CORP_BORE</td>\n",
       "      <td>IF</td>\n",
       "      <td>0.0</td>\n",
       "      <td>24000.0</td>\n",
       "    </tr>\n",
       "    <tr>\n",
       "      <th>1436</th>\n",
       "      <td>ff808181641c39eb01641cbf32fe6b78</td>\n",
       "      <td>BHK2</td>\n",
       "      <td>Kaggadasapura</td>\n",
       "      <td>22-06-2018 11:09</td>\n",
       "      <td>12.976973</td>\n",
       "      <td>77.670153</td>\n",
       "      <td>ANYONE</td>\n",
       "      <td>0.0</td>\n",
       "      <td>0.0</td>\n",
       "      <td>0.0</td>\n",
       "      <td>...</td>\n",
       "      <td>1.0</td>\n",
       "      <td>E</td>\n",
       "      <td>0.0</td>\n",
       "      <td>1.0</td>\n",
       "      <td>1.0</td>\n",
       "      <td>{\"LIFT\":false,\"GYM\":false,\"INTERNET\":false,\"AC...</td>\n",
       "      <td>CORP_BORE</td>\n",
       "      <td>IF</td>\n",
       "      <td>0.0</td>\n",
       "      <td>13000.0</td>\n",
       "    </tr>\n",
       "    <tr>\n",
       "      <th>2299</th>\n",
       "      <td>ff8081816035b49201604440a4536d0c</td>\n",
       "      <td>BHK2</td>\n",
       "      <td>Koramangala</td>\n",
       "      <td>2017-11-12 16:04:00</td>\n",
       "      <td>12.934838</td>\n",
       "      <td>77.612270</td>\n",
       "      <td>FAMILY</td>\n",
       "      <td>1.0</td>\n",
       "      <td>1.0</td>\n",
       "      <td>0.0</td>\n",
       "      <td>...</td>\n",
       "      <td>2.0</td>\n",
       "      <td>E</td>\n",
       "      <td>2.0</td>\n",
       "      <td>0.0</td>\n",
       "      <td>7.0</td>\n",
       "      <td>{\"LIFT\":true,\"GYM\":true,\"INTERNET\":true,\"AC\":t...</td>\n",
       "      <td>CORP_BORE</td>\n",
       "      <td>AP</td>\n",
       "      <td>0.0</td>\n",
       "      <td>35000.0</td>\n",
       "    </tr>\n",
       "    <tr>\n",
       "      <th>18569</th>\n",
       "      <td>ff808181630c64f00163108121861e3e</td>\n",
       "      <td>BHK2</td>\n",
       "      <td>Panathur</td>\n",
       "      <td>29-04-2018 15:47</td>\n",
       "      <td>12.934903</td>\n",
       "      <td>77.702967</td>\n",
       "      <td>FAMILY</td>\n",
       "      <td>0.0</td>\n",
       "      <td>1.0</td>\n",
       "      <td>0.0</td>\n",
       "      <td>...</td>\n",
       "      <td>2.0</td>\n",
       "      <td>E</td>\n",
       "      <td>6.0</td>\n",
       "      <td>4.0</td>\n",
       "      <td>5.0</td>\n",
       "      <td>{\"LIFT\":true,\"GYM\":false,\"INTERNET\":true,\"AC\":...</td>\n",
       "      <td>BOREWELL</td>\n",
       "      <td>AP</td>\n",
       "      <td>2.0</td>\n",
       "      <td>25000.0</td>\n",
       "    </tr>\n",
       "    <tr>\n",
       "      <th>4541</th>\n",
       "      <td>ff808181592254fb0159252d951f24ff</td>\n",
       "      <td>BHK3</td>\n",
       "      <td>Ejipura</td>\n",
       "      <td>16-06-2018 21:04</td>\n",
       "      <td>12.933155</td>\n",
       "      <td>77.636593</td>\n",
       "      <td>ANYONE</td>\n",
       "      <td>0.0</td>\n",
       "      <td>1.0</td>\n",
       "      <td>1.0</td>\n",
       "      <td>...</td>\n",
       "      <td>3.0</td>\n",
       "      <td>SW</td>\n",
       "      <td>3.0</td>\n",
       "      <td>1.0</td>\n",
       "      <td>4.0</td>\n",
       "      <td>{\"LIFT\":true,\"GYM\":false,\"INTERNET\":true,\"AC\":...</td>\n",
       "      <td>CORP_BORE</td>\n",
       "      <td>IF</td>\n",
       "      <td>3.0</td>\n",
       "      <td>38000.0</td>\n",
       "    </tr>\n",
       "    <tr>\n",
       "      <th>18370</th>\n",
       "      <td>ff808181523600dd015236198a920101</td>\n",
       "      <td>RK1</td>\n",
       "      <td>Marathahalli</td>\n",
       "      <td>2018-09-02 15:24:00</td>\n",
       "      <td>12.950288</td>\n",
       "      <td>77.699063</td>\n",
       "      <td>ANYONE</td>\n",
       "      <td>0.0</td>\n",
       "      <td>0.0</td>\n",
       "      <td>0.0</td>\n",
       "      <td>...</td>\n",
       "      <td>1.0</td>\n",
       "      <td>E</td>\n",
       "      <td>0.0</td>\n",
       "      <td>3.0</td>\n",
       "      <td>3.0</td>\n",
       "      <td>{\"LIFT\":false,\"GYM\":false,\"INTERNET\":true,\"AC\"...</td>\n",
       "      <td>CORP_BORE</td>\n",
       "      <td>IF</td>\n",
       "      <td>0.0</td>\n",
       "      <td>8500.0</td>\n",
       "    </tr>\n",
       "    <tr>\n",
       "      <th>13038</th>\n",
       "      <td>ff808181550b5f7b01550bcec08a0e03</td>\n",
       "      <td>BHK1</td>\n",
       "      <td>J P Nagar</td>\n",
       "      <td>2017-07-11 12:54:00</td>\n",
       "      <td>12.900169</td>\n",
       "      <td>77.585651</td>\n",
       "      <td>ANYONE</td>\n",
       "      <td>0.0</td>\n",
       "      <td>0.0</td>\n",
       "      <td>0.0</td>\n",
       "      <td>...</td>\n",
       "      <td>1.0</td>\n",
       "      <td>N</td>\n",
       "      <td>2.0</td>\n",
       "      <td>3.0</td>\n",
       "      <td>4.0</td>\n",
       "      <td>{\"LIFT\":false,\"GYM\":false,\"INTERNET\":true,\"AC\"...</td>\n",
       "      <td>CORP_BORE</td>\n",
       "      <td>IF</td>\n",
       "      <td>1.0</td>\n",
       "      <td>9500.0</td>\n",
       "    </tr>\n",
       "    <tr>\n",
       "      <th>2859</th>\n",
       "      <td>ff8081815fcf9c0a015fd26cd4b74d3f</td>\n",
       "      <td>BHK3</td>\n",
       "      <td>Kumaraswamy Layout</td>\n",
       "      <td>19-11-2017 15:01</td>\n",
       "      <td>12.908354</td>\n",
       "      <td>77.561678</td>\n",
       "      <td>ANYONE</td>\n",
       "      <td>0.0</td>\n",
       "      <td>0.0</td>\n",
       "      <td>0.0</td>\n",
       "      <td>...</td>\n",
       "      <td>2.0</td>\n",
       "      <td>N</td>\n",
       "      <td>0.0</td>\n",
       "      <td>2.0</td>\n",
       "      <td>3.0</td>\n",
       "      <td>{\"LIFT\":false,\"GYM\":false,\"INTERNET\":true,\"AC\"...</td>\n",
       "      <td>CORP_BORE</td>\n",
       "      <td>IF</td>\n",
       "      <td>1.0</td>\n",
       "      <td>14000.0</td>\n",
       "    </tr>\n",
       "  </tbody>\n",
       "</table>\n",
       "<p>10 rows × 25 columns</p>\n",
       "</div>"
      ],
      "text/plain": [
       "                                     id  type  \\\n",
       "10720  ff8081815cee9dbf015cef798b14214e  BHK3   \n",
       "10244  ff80818162e6a3300162f0efd8276384  BHK2   \n",
       "7326   ff80818153d5d5b70153e00a5cce0c4c  BHK2   \n",
       "1436   ff808181641c39eb01641cbf32fe6b78  BHK2   \n",
       "2299   ff8081816035b49201604440a4536d0c  BHK2   \n",
       "18569  ff808181630c64f00163108121861e3e  BHK2   \n",
       "4541   ff808181592254fb0159252d951f24ff  BHK3   \n",
       "18370  ff808181523600dd015236198a920101   RK1   \n",
       "13038  ff808181550b5f7b01550bcec08a0e03  BHK1   \n",
       "2859   ff8081815fcf9c0a015fd26cd4b74d3f  BHK3   \n",
       "\n",
       "                                                locality      activation_date  \\\n",
       "10720                              Annapurneshwari Nagar  2018-10-01 21:57:00   \n",
       "10244  Sangeeta Topaz, Hoodi, Bengaluru, Karnataka, I...     23-04-2018 14:02   \n",
       "7326                                     Murugesh Pallya  2018-08-02 19:47:00   \n",
       "1436                                       Kaggadasapura     22-06-2018 11:09   \n",
       "2299                                         Koramangala  2017-11-12 16:04:00   \n",
       "18569                                           Panathur     29-04-2018 15:47   \n",
       "4541                                             Ejipura     16-06-2018 21:04   \n",
       "18370                                       Marathahalli  2018-09-02 15:24:00   \n",
       "13038                                          J P Nagar  2017-07-11 12:54:00   \n",
       "2859                                  Kumaraswamy Layout     19-11-2017 15:01   \n",
       "\n",
       "        latitude  longitude lease_type  gym  lift  swimming_pool  ...  \\\n",
       "10720  12.977327  77.501541     ANYONE  0.0   0.0            0.0  ...   \n",
       "10244  12.989211  77.715397     FAMILY  0.0   0.0            0.0  ...   \n",
       "7326   12.959188  77.656335     ANYONE  0.0   0.0            0.0  ...   \n",
       "1436   12.976973  77.670153     ANYONE  0.0   0.0            0.0  ...   \n",
       "2299   12.934838  77.612270     FAMILY  1.0   1.0            0.0  ...   \n",
       "18569  12.934903  77.702967     FAMILY  0.0   1.0            0.0  ...   \n",
       "4541   12.933155  77.636593     ANYONE  0.0   1.0            1.0  ...   \n",
       "18370  12.950288  77.699063     ANYONE  0.0   0.0            0.0  ...   \n",
       "13038  12.900169  77.585651     ANYONE  0.0   0.0            0.0  ...   \n",
       "2859   12.908354  77.561678     ANYONE  0.0   0.0            0.0  ...   \n",
       "\n",
       "       bathroom facing cup_board  floor  total_floor  \\\n",
       "10720       3.0      E       3.0    2.0          3.0   \n",
       "10244       2.0      N       7.0    2.0          4.0   \n",
       "7326        2.0      N       2.0    0.0          1.0   \n",
       "1436        1.0      E       0.0    1.0          1.0   \n",
       "2299        2.0      E       2.0    0.0          7.0   \n",
       "18569       2.0      E       6.0    4.0          5.0   \n",
       "4541        3.0     SW       3.0    1.0          4.0   \n",
       "18370       1.0      E       0.0    3.0          3.0   \n",
       "13038       1.0      N       2.0    3.0          4.0   \n",
       "2859        2.0      N       0.0    2.0          3.0   \n",
       "\n",
       "                                               amenities water_supply  \\\n",
       "10720  {\"LIFT\":false,\"GYM\":false,\"INTERNET\":true,\"AC\"...    CORP_BORE   \n",
       "10244  {\"SC\":true,\"INTERCOM\":true,\"AC\":false,\"PB\":tru...  CORPORATION   \n",
       "7326   {\"LIFT\":false,\"GYM\":false,\"INTERNET\":true,\"AC\"...    CORP_BORE   \n",
       "1436   {\"LIFT\":false,\"GYM\":false,\"INTERNET\":false,\"AC...    CORP_BORE   \n",
       "2299   {\"LIFT\":true,\"GYM\":true,\"INTERNET\":true,\"AC\":t...    CORP_BORE   \n",
       "18569  {\"LIFT\":true,\"GYM\":false,\"INTERNET\":true,\"AC\":...     BOREWELL   \n",
       "4541   {\"LIFT\":true,\"GYM\":false,\"INTERNET\":true,\"AC\":...    CORP_BORE   \n",
       "18370  {\"LIFT\":false,\"GYM\":false,\"INTERNET\":true,\"AC\"...    CORP_BORE   \n",
       "13038  {\"LIFT\":false,\"GYM\":false,\"INTERNET\":true,\"AC\"...    CORP_BORE   \n",
       "2859   {\"LIFT\":false,\"GYM\":false,\"INTERNET\":true,\"AC\"...    CORP_BORE   \n",
       "\n",
       "       building_type  balconies     rent  \n",
       "10720             IF        5.0  17000.0  \n",
       "10244             AP        3.0  23000.0  \n",
       "7326              IF        0.0  24000.0  \n",
       "1436              IF        0.0  13000.0  \n",
       "2299              AP        0.0  35000.0  \n",
       "18569             AP        2.0  25000.0  \n",
       "4541              IF        3.0  38000.0  \n",
       "18370             IF        0.0   8500.0  \n",
       "13038             IF        1.0   9500.0  \n",
       "2859              IF        1.0  14000.0  \n",
       "\n",
       "[10 rows x 25 columns]"
      ]
     },
     "execution_count": 2,
     "metadata": {},
     "output_type": "execute_result"
    }
   ],
   "source": [
    "# Load the dataset\n",
    "data = pd.read_excel('House_Rent_Train.xlsx')\n",
    "data.sample(10)"
   ]
  },
  {
   "cell_type": "code",
   "execution_count": 3,
   "metadata": {},
   "outputs": [
    {
     "data": {
      "text/html": [
       "<div>\n",
       "<style scoped>\n",
       "    .dataframe tbody tr th:only-of-type {\n",
       "        vertical-align: middle;\n",
       "    }\n",
       "\n",
       "    .dataframe tbody tr th {\n",
       "        vertical-align: top;\n",
       "    }\n",
       "\n",
       "    .dataframe thead th {\n",
       "        text-align: right;\n",
       "    }\n",
       "</style>\n",
       "<table border=\"1\" class=\"dataframe\">\n",
       "  <thead>\n",
       "    <tr style=\"text-align: right;\">\n",
       "      <th></th>\n",
       "      <th>latitude</th>\n",
       "      <th>longitude</th>\n",
       "      <th>gym</th>\n",
       "      <th>lift</th>\n",
       "      <th>swimming_pool</th>\n",
       "      <th>negotiable</th>\n",
       "      <th>property_size</th>\n",
       "      <th>property_age</th>\n",
       "      <th>bathroom</th>\n",
       "      <th>cup_board</th>\n",
       "      <th>floor</th>\n",
       "      <th>total_floor</th>\n",
       "      <th>balconies</th>\n",
       "      <th>rent</th>\n",
       "    </tr>\n",
       "  </thead>\n",
       "  <tbody>\n",
       "    <tr>\n",
       "      <th>0</th>\n",
       "      <td>12.934471</td>\n",
       "      <td>77.634471</td>\n",
       "      <td>1.0</td>\n",
       "      <td>1.0</td>\n",
       "      <td>1.0</td>\n",
       "      <td>0.0</td>\n",
       "      <td>1250.0</td>\n",
       "      <td>25.0</td>\n",
       "      <td>2.0</td>\n",
       "      <td>2.0</td>\n",
       "      <td>6.0</td>\n",
       "      <td>12.0</td>\n",
       "      <td>2.0</td>\n",
       "      <td>40000.0</td>\n",
       "    </tr>\n",
       "    <tr>\n",
       "      <th>1</th>\n",
       "      <td>12.929557</td>\n",
       "      <td>77.672280</td>\n",
       "      <td>0.0</td>\n",
       "      <td>1.0</td>\n",
       "      <td>0.0</td>\n",
       "      <td>1.0</td>\n",
       "      <td>1400.0</td>\n",
       "      <td>4.0</td>\n",
       "      <td>2.0</td>\n",
       "      <td>2.0</td>\n",
       "      <td>3.0</td>\n",
       "      <td>4.0</td>\n",
       "      <td>2.0</td>\n",
       "      <td>22000.0</td>\n",
       "    </tr>\n",
       "    <tr>\n",
       "      <th>2</th>\n",
       "      <td>12.982870</td>\n",
       "      <td>80.262012</td>\n",
       "      <td>0.0</td>\n",
       "      <td>1.0</td>\n",
       "      <td>0.0</td>\n",
       "      <td>0.0</td>\n",
       "      <td>1350.0</td>\n",
       "      <td>6.0</td>\n",
       "      <td>3.0</td>\n",
       "      <td>3.0</td>\n",
       "      <td>1.0</td>\n",
       "      <td>5.0</td>\n",
       "      <td>3.0</td>\n",
       "      <td>28000.0</td>\n",
       "    </tr>\n",
       "    <tr>\n",
       "      <th>3</th>\n",
       "      <td>12.955991</td>\n",
       "      <td>77.531634</td>\n",
       "      <td>0.0</td>\n",
       "      <td>0.0</td>\n",
       "      <td>0.0</td>\n",
       "      <td>1.0</td>\n",
       "      <td>600.0</td>\n",
       "      <td>3.0</td>\n",
       "      <td>1.0</td>\n",
       "      <td>1.0</td>\n",
       "      <td>1.0</td>\n",
       "      <td>2.0</td>\n",
       "      <td>0.0</td>\n",
       "      <td>8000.0</td>\n",
       "    </tr>\n",
       "    <tr>\n",
       "      <th>4</th>\n",
       "      <td>12.963903</td>\n",
       "      <td>77.649446</td>\n",
       "      <td>0.0</td>\n",
       "      <td>0.0</td>\n",
       "      <td>0.0</td>\n",
       "      <td>1.0</td>\n",
       "      <td>1500.0</td>\n",
       "      <td>15.0</td>\n",
       "      <td>3.0</td>\n",
       "      <td>4.0</td>\n",
       "      <td>0.0</td>\n",
       "      <td>0.0</td>\n",
       "      <td>1.0</td>\n",
       "      <td>45000.0</td>\n",
       "    </tr>\n",
       "  </tbody>\n",
       "</table>\n",
       "</div>"
      ],
      "text/plain": [
       "    latitude  longitude  gym  lift  swimming_pool  negotiable  property_size  \\\n",
       "0  12.934471  77.634471  1.0   1.0            1.0         0.0         1250.0   \n",
       "1  12.929557  77.672280  0.0   1.0            0.0         1.0         1400.0   \n",
       "2  12.982870  80.262012  0.0   1.0            0.0         0.0         1350.0   \n",
       "3  12.955991  77.531634  0.0   0.0            0.0         1.0          600.0   \n",
       "4  12.963903  77.649446  0.0   0.0            0.0         1.0         1500.0   \n",
       "\n",
       "   property_age  bathroom  cup_board  floor  total_floor  balconies     rent  \n",
       "0          25.0       2.0        2.0    6.0         12.0        2.0  40000.0  \n",
       "1           4.0       2.0        2.0    3.0          4.0        2.0  22000.0  \n",
       "2           6.0       3.0        3.0    1.0          5.0        3.0  28000.0  \n",
       "3           3.0       1.0        1.0    1.0          2.0        0.0   8000.0  \n",
       "4          15.0       3.0        4.0    0.0          0.0        1.0  45000.0  "
      ]
     },
     "execution_count": 3,
     "metadata": {},
     "output_type": "execute_result"
    }
   ],
   "source": [
    "df_num = data.select_dtypes(include = ['float64', 'int64'])\n",
    "df_num.head()"
   ]
  },
  {
   "cell_type": "code",
   "execution_count": 4,
   "metadata": {},
   "outputs": [
    {
     "data": {
      "text/plain": [
       "array([[<AxesSubplot:title={'center':'latitude'}>,\n",
       "        <AxesSubplot:title={'center':'longitude'}>,\n",
       "        <AxesSubplot:title={'center':'gym'}>,\n",
       "        <AxesSubplot:title={'center':'lift'}>],\n",
       "       [<AxesSubplot:title={'center':'swimming_pool'}>,\n",
       "        <AxesSubplot:title={'center':'negotiable'}>,\n",
       "        <AxesSubplot:title={'center':'property_size'}>,\n",
       "        <AxesSubplot:title={'center':'property_age'}>],\n",
       "       [<AxesSubplot:title={'center':'bathroom'}>,\n",
       "        <AxesSubplot:title={'center':'cup_board'}>,\n",
       "        <AxesSubplot:title={'center':'floor'}>,\n",
       "        <AxesSubplot:title={'center':'total_floor'}>],\n",
       "       [<AxesSubplot:title={'center':'balconies'}>,\n",
       "        <AxesSubplot:title={'center':'rent'}>, <AxesSubplot:>,\n",
       "        <AxesSubplot:>]], dtype=object)"
      ]
     },
     "execution_count": 4,
     "metadata": {},
     "output_type": "execute_result"
    },
    {
     "data": {
      "image/png": "[encoded data removed]",
      "text/plain": [
       "<Figure size 1600x2000 with 16 Axes>"
      ]
     },
     "metadata": {},
     "output_type": "display_data"
    }
   ],
   "source": [
    "df_num.hist(figsize=(16, 20), bins=50, xlabelsize=8, ylabelsize=8)"
   ]
  },
  {
   "cell_type": "code",
   "execution_count": 6,
   "metadata": {},
   "outputs": [
    {
     "name": "stdout",
     "output_type": "stream",
     "text": [
      "<class 'pandas.core.frame.DataFrame'>\n",
      "RangeIndex: 20555 entries, 0 to 20554\n",
      "Data columns (total 25 columns):\n",
      " #   Column           Non-Null Count  Dtype  \n",
      "---  ------           --------------  -----  \n",
      " 0   id               20555 non-null  object \n",
      " 1   type             20528 non-null  object \n",
      " 2   locality         20395 non-null  object \n",
      " 3   activation_date  20532 non-null  object \n",
      " 4   latitude         20532 non-null  float64\n",
      " 5   longitude        20532 non-null  float64\n",
      " 6   lease_type       20532 non-null  object \n",
      " 7   gym              20555 non-null  float64\n",
      " 8   lift             20555 non-null  float64\n",
      " 9   swimming_pool    20555 non-null  float64\n",
      " 10  negotiable       20555 non-null  float64\n",
      " 11  furnishing       20555 non-null  object \n",
      " 12  parking          20555 non-null  object \n",
      " 13  property_size    20555 non-null  float64\n",
      " 14  property_age     20532 non-null  float64\n",
      " 15  bathroom         20532 non-null  float64\n",
      " 16  facing           20532 non-null  object \n",
      " 17  cup_board        20532 non-null  float64\n",
      " 18  floor            20532 non-null  float64\n",
      " 19  total_floor      20532 non-null  float64\n",
      " 20  amenities        20532 non-null  object \n",
      " 21  water_supply     20532 non-null  object \n",
      " 22  building_type    20532 non-null  object \n",
      " 23  balconies        20532 non-null  float64\n",
      " 24  rent             20532 non-null  float64\n",
      "dtypes: float64(14), object(11)\n",
      "memory usage: 3.9+ MB\n"
     ]
    }
   ],
   "source": [
    "data.info()"
   ]
  },
  {
   "cell_type": "code",
   "execution_count": 7,
   "metadata": {},
   "outputs": [
    {
     "name": "stdout",
     "output_type": "stream",
     "text": [
      "id                   0\n",
      "type                27\n",
      "locality           160\n",
      "activation_date     23\n",
      "latitude            23\n",
      "longitude           23\n",
      "lease_type          23\n",
      "gym                  0\n",
      "lift                 0\n",
      "swimming_pool        0\n",
      "negotiable           0\n",
      "furnishing           0\n",
      "parking              0\n",
      "property_size        0\n",
      "property_age        23\n",
      "bathroom            23\n",
      "facing              23\n",
      "cup_board           23\n",
      "floor               23\n",
      "total_floor         23\n",
      "amenities           23\n",
      "water_supply        23\n",
      "building_type       23\n",
      "balconies           23\n",
      "rent                23\n",
      "dtype: int64\n"
     ]
    }
   ],
   "source": [
    "#chaking NA values \n",
    "data['activation_date'] = pd.to_datetime(data['activation_date'])\n",
    "nan_counts_per_column = data.isna().sum()\n",
    "print(nan_counts_per_column)"
   ]
  },
  {
   "cell_type": "code",
   "execution_count": 8,
   "metadata": {},
   "outputs": [
    {
     "name": "stdout",
     "output_type": "stream",
     "text": [
      "id                 0.000000\n",
      "type               0.131355\n",
      "locality           0.778399\n",
      "activation_date    0.111895\n",
      "latitude           0.111895\n",
      "longitude          0.111895\n",
      "lease_type         0.111895\n",
      "gym                0.000000\n",
      "lift               0.000000\n",
      "swimming_pool      0.000000\n",
      "negotiable         0.000000\n",
      "furnishing         0.000000\n",
      "parking            0.000000\n",
      "property_size      0.000000\n",
      "property_age       0.111895\n",
      "bathroom           0.111895\n",
      "facing             0.111895\n",
      "cup_board          0.111895\n",
      "floor              0.111895\n",
      "total_floor        0.111895\n",
      "amenities          0.111895\n",
      "water_supply       0.111895\n",
      "building_type      0.111895\n",
      "balconies          0.111895\n",
      "rent               0.111895\n",
      "dtype: float64\n"
     ]
    }
   ],
   "source": [
    "# NA values %\n",
    "nan_percentage_per_column = (data.isna().sum() / len(data)) * 100\n",
    "print(nan_percentage_per_column)"
   ]
  },
  {
   "cell_type": "code",
   "execution_count": 9,
   "metadata": {},
   "outputs": [],
   "source": [
    "#Fill Na Values with mode and median\n",
    "columns_cata = ['type', 'locality', 'activation_date', 'lease_type', 'furnishing', 'facing', 'amenities', 'water_supply', 'building_type','parking']\n",
    "\n",
    "for col in columns_cata:\n",
    "    mode_value = data[col].mode()[0]\n",
    "    data[col].fillna(mode_value, inplace=True)\n",
    "columns_int=set(data.columns) - set(columns_cata) - set(['id'])\n",
    "for col in columns_int:\n",
    "    median_value = data[col].median()\n",
    "    data[col].fillna(median_value, inplace=True)\n"
   ]
  },
  {
   "cell_type": "code",
   "execution_count": 10,
   "metadata": {},
   "outputs": [
    {
     "name": "stdout",
     "output_type": "stream",
     "text": [
      "id                 0.0\n",
      "type               0.0\n",
      "locality           0.0\n",
      "activation_date    0.0\n",
      "latitude           0.0\n",
      "longitude          0.0\n",
      "lease_type         0.0\n",
      "gym                0.0\n",
      "lift               0.0\n",
      "swimming_pool      0.0\n",
      "negotiable         0.0\n",
      "furnishing         0.0\n",
      "parking            0.0\n",
      "property_size      0.0\n",
      "property_age       0.0\n",
      "bathroom           0.0\n",
      "facing             0.0\n",
      "cup_board          0.0\n",
      "floor              0.0\n",
      "total_floor        0.0\n",
      "amenities          0.0\n",
      "water_supply       0.0\n",
      "building_type      0.0\n",
      "balconies          0.0\n",
      "rent               0.0\n",
      "dtype: float64\n"
     ]
    }
   ],
   "source": [
    "# NA values %\n",
    "nan_percentage_per_column = (data.isna().sum() / len(data)) * 100\n",
    "print(nan_percentage_per_column)"
   ]
  },
  {
   "cell_type": "code",
   "execution_count": 11,
   "metadata": {},
   "outputs": [],
   "source": [
    "#categorical variable\n",
    "#Extract the amenities column and convert it from a JSON-like string to a dictionary\n",
    "data['amenities'] = data['amenities'].apply(json.loads)\n",
    "#Extract amenities and create new columns\n",
    "amenities_list = ['LIFT', 'GYM', 'INTERNET', 'AC', 'CLUB', 'INTERCOM', 'POOL', 'CPA', 'FS', 'SERVANT', 'SECURITY', 'SC', 'GP', 'PARK', 'RWH', 'STP', 'HK', 'PB', 'VP']\n",
    "for amenity in amenities_list:\n",
    "    data[amenity] = data['amenities'].apply(lambda x: 1 if amenity in x and x[amenity] else 0)\n",
    "#Drop the original 'amenities' column if no longer needed\n",
    "data.drop('amenities', axis=1, inplace=True)"
   ]
  },
  {
   "cell_type": "code",
   "execution_count": 14,
   "metadata": {},
   "outputs": [
    {
     "data": {
      "image/png": "[encoded data removed]",
      "text/plain": [
       "<Figure size 1200x1000 with 2 Axes>"
      ]
     },
     "metadata": {},
     "output_type": "display_data"
    }
   ],
   "source": [
    "correlation_matrix = data.corr()\n",
    "\n",
    "# Plot a heatmap of the correlation matrix\n",
    "plt.figure(figsize=(12, 10))\n",
    "sns.heatmap(correlation_matrix, cmap='coolwarm')\n",
    "plt.title(\"Correlation Heatmap\")\n",
    "plt.show()"
   ]
  },
  {
   "cell_type": "code",
   "execution_count": 15,
   "metadata": {},
   "outputs": [
    {
     "name": "stdout",
     "output_type": "stream",
     "text": [
      "Correlation with the target variable:\n",
      "rent             1.000000\n",
      "bathroom         0.677390\n",
      "property_size    0.588315\n",
      "LIFT             0.490032\n",
      "PB               0.483128\n",
      "balconies        0.472221\n",
      "lift             0.461437\n",
      "POOL             0.453851\n",
      "GYM              0.448649\n",
      "total_floor      0.436968\n",
      "swimming_pool    0.434263\n",
      "gym              0.431120\n",
      "CLUB             0.427005\n",
      "SECURITY         0.412161\n",
      "FS               0.410886\n",
      "INTERCOM         0.396101\n",
      "CPA              0.339661\n",
      "VP               0.318468\n",
      "HK               0.307470\n",
      "floor            0.306242\n",
      "RWH              0.286969\n",
      "STP              0.274494\n",
      "AC               0.235029\n",
      "GP               0.224291\n",
      "SERVANT          0.204210\n",
      "longitude        0.163755\n",
      "PARK             0.141179\n",
      "negotiable       0.062429\n",
      "latitude         0.032829\n",
      "cup_board       -0.001245\n",
      "SC              -0.009572\n",
      "property_age    -0.010619\n",
      "INTERNET        -0.021140\n",
      "Name: rent, dtype: float64\n"
     ]
    }
   ],
   "source": [
    "# Extract correlations with the target variable\n",
    "target_correlations = correlation_matrix['rent'].sort_values(ascending=False)\n",
    "\n",
    "print(\"Correlation with the target variable:\")\n",
    "print(target_correlations)\n"
   ]
  },
  {
   "cell_type": "code",
   "execution_count": 56,
   "metadata": {},
   "outputs": [
    {
     "data": {
      "text/html": [
       "<div>\n",
       "<style scoped>\n",
       "    .dataframe tbody tr th:only-of-type {\n",
       "        vertical-align: middle;\n",
       "    }\n",
       "\n",
       "    .dataframe tbody tr th {\n",
       "        vertical-align: top;\n",
       "    }\n",
       "\n",
       "    .dataframe thead th {\n",
       "        text-align: right;\n",
       "    }\n",
       "</style>\n",
       "<table border=\"1\" class=\"dataframe\">\n",
       "  <thead>\n",
       "    <tr style=\"text-align: right;\">\n",
       "      <th></th>\n",
       "      <th>Unnamed: 0</th>\n",
       "      <th>id</th>\n",
       "      <th>type</th>\n",
       "      <th>locality</th>\n",
       "      <th>activation_date</th>\n",
       "      <th>latitude</th>\n",
       "      <th>longitude</th>\n",
       "      <th>lease_type</th>\n",
       "      <th>gym</th>\n",
       "      <th>lift</th>\n",
       "      <th>...</th>\n",
       "      <th>SERVANT</th>\n",
       "      <th>SECURITY</th>\n",
       "      <th>SC</th>\n",
       "      <th>GP</th>\n",
       "      <th>PARK</th>\n",
       "      <th>RWH</th>\n",
       "      <th>STP</th>\n",
       "      <th>HK</th>\n",
       "      <th>PB</th>\n",
       "      <th>VP</th>\n",
       "    </tr>\n",
       "  </thead>\n",
       "  <tbody>\n",
       "    <tr>\n",
       "      <th>7249</th>\n",
       "      <td>7249</td>\n",
       "      <td>ff80818151669a40015180250fa54e4d</td>\n",
       "      <td>BHK2</td>\n",
       "      <td>Doddanekundi</td>\n",
       "      <td>2018-02-16 09:57:00</td>\n",
       "      <td>12.971877</td>\n",
       "      <td>77.695300</td>\n",
       "      <td>FAMILY</td>\n",
       "      <td>1.0</td>\n",
       "      <td>1.0</td>\n",
       "      <td>...</td>\n",
       "      <td>0</td>\n",
       "      <td>1</td>\n",
       "      <td>1</td>\n",
       "      <td>0</td>\n",
       "      <td>1</td>\n",
       "      <td>1</td>\n",
       "      <td>0</td>\n",
       "      <td>1</td>\n",
       "      <td>0</td>\n",
       "      <td>0</td>\n",
       "    </tr>\n",
       "    <tr>\n",
       "      <th>3118</th>\n",
       "      <td>3118</td>\n",
       "      <td>ff808181639be5140163a2019f417f28</td>\n",
       "      <td>BHK2</td>\n",
       "      <td>Doddanekkundi</td>\n",
       "      <td>2018-07-29 19:41:00</td>\n",
       "      <td>12.977272</td>\n",
       "      <td>77.679756</td>\n",
       "      <td>ANYONE</td>\n",
       "      <td>0.0</td>\n",
       "      <td>0.0</td>\n",
       "      <td>...</td>\n",
       "      <td>0</td>\n",
       "      <td>0</td>\n",
       "      <td>0</td>\n",
       "      <td>0</td>\n",
       "      <td>1</td>\n",
       "      <td>1</td>\n",
       "      <td>0</td>\n",
       "      <td>0</td>\n",
       "      <td>0</td>\n",
       "      <td>0</td>\n",
       "    </tr>\n",
       "    <tr>\n",
       "      <th>16200</th>\n",
       "      <td>16200</td>\n",
       "      <td>ff808181577fe2c60157850f49dc0e88</td>\n",
       "      <td>RK1</td>\n",
       "      <td>Koramangala</td>\n",
       "      <td>2017-11-21 15:15:00</td>\n",
       "      <td>12.928461</td>\n",
       "      <td>77.632793</td>\n",
       "      <td>ANYONE</td>\n",
       "      <td>0.0</td>\n",
       "      <td>0.0</td>\n",
       "      <td>...</td>\n",
       "      <td>0</td>\n",
       "      <td>0</td>\n",
       "      <td>1</td>\n",
       "      <td>0</td>\n",
       "      <td>1</td>\n",
       "      <td>0</td>\n",
       "      <td>0</td>\n",
       "      <td>0</td>\n",
       "      <td>0</td>\n",
       "      <td>0</td>\n",
       "    </tr>\n",
       "    <tr>\n",
       "      <th>4306</th>\n",
       "      <td>4306</td>\n",
       "      <td>ff808181597a44b501597d9f1bac24c8</td>\n",
       "      <td>BHK2</td>\n",
       "      <td>Panathur</td>\n",
       "      <td>2018-06-22 19:05:00</td>\n",
       "      <td>12.936200</td>\n",
       "      <td>77.705575</td>\n",
       "      <td>ANYONE</td>\n",
       "      <td>1.0</td>\n",
       "      <td>1.0</td>\n",
       "      <td>...</td>\n",
       "      <td>0</td>\n",
       "      <td>1</td>\n",
       "      <td>1</td>\n",
       "      <td>0</td>\n",
       "      <td>1</td>\n",
       "      <td>0</td>\n",
       "      <td>0</td>\n",
       "      <td>1</td>\n",
       "      <td>1</td>\n",
       "      <td>0</td>\n",
       "    </tr>\n",
       "    <tr>\n",
       "      <th>17536</th>\n",
       "      <td>17536</td>\n",
       "      <td>ff8081815fa638b3015fa9b8c74e1e3f</td>\n",
       "      <td>BHK2</td>\n",
       "      <td>Kumaraswamy Layout</td>\n",
       "      <td>2017-11-11 13:09:00</td>\n",
       "      <td>12.905185</td>\n",
       "      <td>77.562918</td>\n",
       "      <td>FAMILY</td>\n",
       "      <td>0.0</td>\n",
       "      <td>0.0</td>\n",
       "      <td>...</td>\n",
       "      <td>0</td>\n",
       "      <td>0</td>\n",
       "      <td>1</td>\n",
       "      <td>0</td>\n",
       "      <td>1</td>\n",
       "      <td>0</td>\n",
       "      <td>0</td>\n",
       "      <td>0</td>\n",
       "      <td>0</td>\n",
       "      <td>0</td>\n",
       "    </tr>\n",
       "    <tr>\n",
       "      <th>6994</th>\n",
       "      <td>6994</td>\n",
       "      <td>ff8081815e756939015e79a3529a650b</td>\n",
       "      <td>BHK2</td>\n",
       "      <td>JP Nagar 1st Phase</td>\n",
       "      <td>2017-09-13 12:17:00</td>\n",
       "      <td>12.907097</td>\n",
       "      <td>77.573176</td>\n",
       "      <td>ANYONE</td>\n",
       "      <td>0.0</td>\n",
       "      <td>0.0</td>\n",
       "      <td>...</td>\n",
       "      <td>0</td>\n",
       "      <td>0</td>\n",
       "      <td>1</td>\n",
       "      <td>0</td>\n",
       "      <td>1</td>\n",
       "      <td>0</td>\n",
       "      <td>0</td>\n",
       "      <td>0</td>\n",
       "      <td>0</td>\n",
       "      <td>0</td>\n",
       "    </tr>\n",
       "    <tr>\n",
       "      <th>18738</th>\n",
       "      <td>18738</td>\n",
       "      <td>ff808181633a5aa701633b2e53803872</td>\n",
       "      <td>BHK2</td>\n",
       "      <td>Marathahalli</td>\n",
       "      <td>2018-08-05 10:24:00</td>\n",
       "      <td>12.955090</td>\n",
       "      <td>77.703055</td>\n",
       "      <td>FAMILY</td>\n",
       "      <td>1.0</td>\n",
       "      <td>1.0</td>\n",
       "      <td>...</td>\n",
       "      <td>0</td>\n",
       "      <td>1</td>\n",
       "      <td>0</td>\n",
       "      <td>0</td>\n",
       "      <td>1</td>\n",
       "      <td>1</td>\n",
       "      <td>1</td>\n",
       "      <td>1</td>\n",
       "      <td>1</td>\n",
       "      <td>0</td>\n",
       "    </tr>\n",
       "    <tr>\n",
       "      <th>2539</th>\n",
       "      <td>2539</td>\n",
       "      <td>ff8081816035b0e50160369423b02bbd</td>\n",
       "      <td>BHK1</td>\n",
       "      <td>HSR Layout 5th Sector</td>\n",
       "      <td>2018-04-01 17:45:00</td>\n",
       "      <td>12.917139</td>\n",
       "      <td>77.629556</td>\n",
       "      <td>FAMILY</td>\n",
       "      <td>0.0</td>\n",
       "      <td>0.0</td>\n",
       "      <td>...</td>\n",
       "      <td>0</td>\n",
       "      <td>0</td>\n",
       "      <td>0</td>\n",
       "      <td>0</td>\n",
       "      <td>1</td>\n",
       "      <td>0</td>\n",
       "      <td>0</td>\n",
       "      <td>0</td>\n",
       "      <td>1</td>\n",
       "      <td>0</td>\n",
       "    </tr>\n",
       "    <tr>\n",
       "      <th>19329</th>\n",
       "      <td>19329</td>\n",
       "      <td>ff8081815511306d0155162515f1438e</td>\n",
       "      <td>BHK2</td>\n",
       "      <td>Munnekollal</td>\n",
       "      <td>2017-06-09 16:01:00</td>\n",
       "      <td>12.944898</td>\n",
       "      <td>77.708082</td>\n",
       "      <td>ANYONE</td>\n",
       "      <td>0.0</td>\n",
       "      <td>0.0</td>\n",
       "      <td>...</td>\n",
       "      <td>0</td>\n",
       "      <td>0</td>\n",
       "      <td>0</td>\n",
       "      <td>0</td>\n",
       "      <td>0</td>\n",
       "      <td>0</td>\n",
       "      <td>0</td>\n",
       "      <td>0</td>\n",
       "      <td>0</td>\n",
       "      <td>0</td>\n",
       "    </tr>\n",
       "    <tr>\n",
       "      <th>20435</th>\n",
       "      <td>20435</td>\n",
       "      <td>ff8081815e7a0b30015e7b4995132c5f</td>\n",
       "      <td>BHK3</td>\n",
       "      <td>Banashankari</td>\n",
       "      <td>2017-09-13 19:24:00</td>\n",
       "      <td>12.938951</td>\n",
       "      <td>77.560433</td>\n",
       "      <td>FAMILY</td>\n",
       "      <td>0.0</td>\n",
       "      <td>0.0</td>\n",
       "      <td>...</td>\n",
       "      <td>0</td>\n",
       "      <td>0</td>\n",
       "      <td>1</td>\n",
       "      <td>0</td>\n",
       "      <td>1</td>\n",
       "      <td>0</td>\n",
       "      <td>0</td>\n",
       "      <td>0</td>\n",
       "      <td>0</td>\n",
       "      <td>0</td>\n",
       "    </tr>\n",
       "  </tbody>\n",
       "</table>\n",
       "<p>10 rows × 44 columns</p>\n",
       "</div>"
      ],
      "text/plain": [
       "       Unnamed: 0                                id  type  \\\n",
       "7249         7249  ff80818151669a40015180250fa54e4d  BHK2   \n",
       "3118         3118  ff808181639be5140163a2019f417f28  BHK2   \n",
       "16200       16200  ff808181577fe2c60157850f49dc0e88   RK1   \n",
       "4306         4306  ff808181597a44b501597d9f1bac24c8  BHK2   \n",
       "17536       17536  ff8081815fa638b3015fa9b8c74e1e3f  BHK2   \n",
       "6994         6994  ff8081815e756939015e79a3529a650b  BHK2   \n",
       "18738       18738  ff808181633a5aa701633b2e53803872  BHK2   \n",
       "2539         2539  ff8081816035b0e50160369423b02bbd  BHK1   \n",
       "19329       19329  ff8081815511306d0155162515f1438e  BHK2   \n",
       "20435       20435  ff8081815e7a0b30015e7b4995132c5f  BHK3   \n",
       "\n",
       "                    locality      activation_date   latitude  longitude  \\\n",
       "7249            Doddanekundi  2018-02-16 09:57:00  12.971877  77.695300   \n",
       "3118           Doddanekkundi  2018-07-29 19:41:00  12.977272  77.679756   \n",
       "16200            Koramangala  2017-11-21 15:15:00  12.928461  77.632793   \n",
       "4306                Panathur  2018-06-22 19:05:00  12.936200  77.705575   \n",
       "17536     Kumaraswamy Layout  2017-11-11 13:09:00  12.905185  77.562918   \n",
       "6994      JP Nagar 1st Phase  2017-09-13 12:17:00  12.907097  77.573176   \n",
       "18738           Marathahalli  2018-08-05 10:24:00  12.955090  77.703055   \n",
       "2539   HSR Layout 5th Sector  2018-04-01 17:45:00  12.917139  77.629556   \n",
       "19329            Munnekollal  2017-06-09 16:01:00  12.944898  77.708082   \n",
       "20435           Banashankari  2017-09-13 19:24:00  12.938951  77.560433   \n",
       "\n",
       "      lease_type  gym  lift  ...  SERVANT  SECURITY SC GP  PARK  RWH  STP HK  \\\n",
       "7249      FAMILY  1.0   1.0  ...        0         1  1  0     1    1    0  1   \n",
       "3118      ANYONE  0.0   0.0  ...        0         0  0  0     1    1    0  0   \n",
       "16200     ANYONE  0.0   0.0  ...        0         0  1  0     1    0    0  0   \n",
       "4306      ANYONE  1.0   1.0  ...        0         1  1  0     1    0    0  1   \n",
       "17536     FAMILY  0.0   0.0  ...        0         0  1  0     1    0    0  0   \n",
       "6994      ANYONE  0.0   0.0  ...        0         0  1  0     1    0    0  0   \n",
       "18738     FAMILY  1.0   1.0  ...        0         1  0  0     1    1    1  1   \n",
       "2539      FAMILY  0.0   0.0  ...        0         0  0  0     1    0    0  0   \n",
       "19329     ANYONE  0.0   0.0  ...        0         0  0  0     0    0    0  0   \n",
       "20435     FAMILY  0.0   0.0  ...        0         0  1  0     1    0    0  0   \n",
       "\n",
       "       PB  VP  \n",
       "7249    0   0  \n",
       "3118    0   0  \n",
       "16200   0   0  \n",
       "4306    1   0  \n",
       "17536   0   0  \n",
       "6994    0   0  \n",
       "18738   1   0  \n",
       "2539    1   0  \n",
       "19329   0   0  \n",
       "20435   0   0  \n",
       "\n",
       "[10 rows x 44 columns]"
      ]
     },
     "execution_count": 56,
     "metadata": {},
     "output_type": "execute_result"
    }
   ],
   "source": [
    "data = pd.read_csv('no_commas_location.csv',index_col=False)\n",
    "data.sample(10)"
   ]
  },
  {
   "cell_type": "code",
   "execution_count": 57,
   "metadata": {},
   "outputs": [
    {
     "name": "stdout",
     "output_type": "stream",
     "text": [
      "<class 'pandas.core.frame.DataFrame'>\n",
      "RangeIndex: 20555 entries, 0 to 20554\n",
      "Data columns (total 44 columns):\n",
      " #   Column           Non-Null Count  Dtype  \n",
      "---  ------           --------------  -----  \n",
      " 0   Unnamed: 0       20555 non-null  int64  \n",
      " 1   id               20555 non-null  object \n",
      " 2   type             20555 non-null  object \n",
      " 3   locality         20555 non-null  object \n",
      " 4   activation_date  20555 non-null  object \n",
      " 5   latitude         20555 non-null  float64\n",
      " 6   longitude        20555 non-null  float64\n",
      " 7   lease_type       20555 non-null  object \n",
      " 8   gym              20555 non-null  float64\n",
      " 9   lift             20555 non-null  float64\n",
      " 10  swimming_pool    20555 non-null  float64\n",
      " 11  negotiable       20555 non-null  float64\n",
      " 12  furnishing       20555 non-null  object \n",
      " 13  parking          20555 non-null  object \n",
      " 14  property_size    20555 non-null  float64\n",
      " 15  property_age     20555 non-null  float64\n",
      " 16  bathroom         20555 non-null  float64\n",
      " 17  facing           20555 non-null  object \n",
      " 18  cup_board        20555 non-null  float64\n",
      " 19  floor            20555 non-null  float64\n",
      " 20  total_floor      20555 non-null  float64\n",
      " 21  water_supply     20555 non-null  object \n",
      " 22  building_type    20555 non-null  object \n",
      " 23  balconies        20555 non-null  float64\n",
      " 24  rent             20555 non-null  float64\n",
      " 25  LIFT             20555 non-null  int64  \n",
      " 26  GYM              20555 non-null  int64  \n",
      " 27  INTERNET         20555 non-null  int64  \n",
      " 28  AC               20555 non-null  int64  \n",
      " 29  CLUB             20555 non-null  int64  \n",
      " 30  INTERCOM         20555 non-null  int64  \n",
      " 31  POOL             20555 non-null  int64  \n",
      " 32  CPA              20555 non-null  int64  \n",
      " 33  FS               20555 non-null  int64  \n",
      " 34  SERVANT          20555 non-null  int64  \n",
      " 35  SECURITY         20555 non-null  int64  \n",
      " 36  SC               20555 non-null  int64  \n",
      " 37  GP               20555 non-null  int64  \n",
      " 38  PARK             20555 non-null  int64  \n",
      " 39  RWH              20555 non-null  int64  \n",
      " 40  STP              20555 non-null  int64  \n",
      " 41  HK               20555 non-null  int64  \n",
      " 42  PB               20555 non-null  int64  \n",
      " 43  VP               20555 non-null  int64  \n",
      "dtypes: float64(14), int64(20), object(10)\n",
      "memory usage: 6.9+ MB\n"
     ]
    }
   ],
   "source": [
    "#drop when corr value < 0.1 with rent data set\n",
    "columns_to_drop=['negotiable','cup_board','SC','property_age','INTERNET']\n",
    "df=data.drop(columns=columns_to_drop)\n",
    "data.info()"
   ]
  },
  {
   "cell_type": "code",
   "execution_count": 58,
   "metadata": {},
   "outputs": [
    {
     "data": {
      "text/plain": [
       "Index(['Unnamed: 0', 'id', 'type', 'locality', 'latitude', 'longitude',\n",
       "       'lease_type', 'gym', 'lift', 'swimming_pool', 'furnishing', 'parking',\n",
       "       'property_size', 'bathroom', 'facing', 'floor', 'total_floor',\n",
       "       'water_supply', 'building_type', 'balconies', 'rent', 'LIFT', 'GYM',\n",
       "       'AC', 'CLUB', 'INTERCOM', 'POOL', 'CPA', 'FS', 'SERVANT', 'SECURITY',\n",
       "       'GP', 'PARK', 'RWH', 'STP', 'HK', 'PB', 'VP', 'age_of_property'],\n",
       "      dtype='object')"
      ]
     },
     "execution_count": 58,
     "metadata": {},
     "output_type": "execute_result"
    }
   ],
   "source": [
    "# calculate Age and drop the date time\n",
    "current_date = datetime.today()\n",
    "df['activation_date']=pd.to_datetime(data['activation_date'])\n",
    "df['age_of_property'] = (current_date - df['activation_date']).dt.days // 365\n",
    "df.drop(columns=['activation_date'],inplace=True)\n",
    "df.columns"
   ]
  },
  {
   "cell_type": "code",
   "execution_count": 59,
   "metadata": {},
   "outputs": [],
   "source": [
    "#drop high correlated value > 0.8\n",
    "df.drop(columns=['lift','gym','swimming_pool'],inplace=True)"
   ]
  },
  {
   "cell_type": "code",
   "execution_count": 60,
   "metadata": {},
   "outputs": [
    {
     "data": {
      "image/png": "[encoded data removed]",
      "text/plain": [
       "<Figure size 1200x1000 with 2 Axes>"
      ]
     },
     "metadata": {},
     "output_type": "display_data"
    }
   ],
   "source": [
    "correlation_matrix = df.corr()\n",
    "# Filter correlation values based on the threshold\n",
    "threshold = 0.75\n",
    "filtered_corr_matrix = correlation_matrix[abs(correlation_matrix) > threshold]\n",
    "\n",
    "# Plot a heatmap of the filtered correlation matrix\n",
    "plt.figure(figsize=(12, 10))\n",
    "sns.heatmap(filtered_corr_matrix, cmap='coolwarm')\n",
    "plt.title(\"Correlation Heatmap (Threshold > 0.85)\")\n",
    "plt.show()"
   ]
  },
  {
   "cell_type": "code",
   "execution_count": 61,
   "metadata": {},
   "outputs": [
    {
     "data": {
      "text/plain": [
       "(20555, 36)"
      ]
     },
     "execution_count": 61,
     "metadata": {},
     "output_type": "execute_result"
    }
   ],
   "source": [
    "df.shape"
   ]
  },
  {
   "cell_type": "code",
   "execution_count": 62,
   "metadata": {},
   "outputs": [
    {
     "name": "stdout",
     "output_type": "stream",
     "text": [
      "<class 'pandas.core.frame.DataFrame'>\n",
      "RangeIndex: 20555 entries, 0 to 20554\n",
      "Data columns (total 35 columns):\n",
      " #   Column           Non-Null Count  Dtype  \n",
      "---  ------           --------------  -----  \n",
      " 0   id               20555 non-null  object \n",
      " 1   type             20555 non-null  object \n",
      " 2   locality         20555 non-null  object \n",
      " 3   latitude         20555 non-null  float64\n",
      " 4   longitude        20555 non-null  float64\n",
      " 5   lease_type       20555 non-null  object \n",
      " 6   furnishing       20555 non-null  object \n",
      " 7   parking          20555 non-null  object \n",
      " 8   property_size    20555 non-null  float64\n",
      " 9   bathroom         20555 non-null  float64\n",
      " 10  facing           20555 non-null  object \n",
      " 11  floor            20555 non-null  float64\n",
      " 12  total_floor      20555 non-null  float64\n",
      " 13  water_supply     20555 non-null  object \n",
      " 14  building_type    20555 non-null  object \n",
      " 15  balconies        20555 non-null  float64\n",
      " 16  rent             20555 non-null  float64\n",
      " 17  LIFT             20555 non-null  int64  \n",
      " 18  GYM              20555 non-null  int64  \n",
      " 19  AC               20555 non-null  int64  \n",
      " 20  CLUB             20555 non-null  int64  \n",
      " 21  INTERCOM         20555 non-null  int64  \n",
      " 22  POOL             20555 non-null  int64  \n",
      " 23  CPA              20555 non-null  int64  \n",
      " 24  FS               20555 non-null  int64  \n",
      " 25  SERVANT          20555 non-null  int64  \n",
      " 26  SECURITY         20555 non-null  int64  \n",
      " 27  GP               20555 non-null  int64  \n",
      " 28  PARK             20555 non-null  int64  \n",
      " 29  RWH              20555 non-null  int64  \n",
      " 30  STP              20555 non-null  int64  \n",
      " 31  HK               20555 non-null  int64  \n",
      " 32  PB               20555 non-null  int64  \n",
      " 33  VP               20555 non-null  int64  \n",
      " 34  age_of_property  20555 non-null  int64  \n",
      "dtypes: float64(8), int64(18), object(9)\n",
      "memory usage: 5.5+ MB\n"
     ]
    }
   ],
   "source": [
    "df.drop(columns=['Unnamed: 0'],inplace=True)\n",
    "df.info()"
   ]
  },
  {
   "cell_type": "markdown",
   "metadata": {},
   "source": [
    "# Chcek Column by column for outliers "
   ]
  },
  {
   "cell_type": "code",
   "execution_count": 63,
   "metadata": {},
   "outputs": [
    {
     "data": {
      "text/plain": [
       "BHK2        11705\n",
       "BHK3         4388\n",
       "BHK1         3613\n",
       "RK1           553\n",
       "BHK4          233\n",
       "BHK4PLUS       31\n",
       "bhk2           16\n",
       "bhk3           12\n",
       "1BHK1           4\n",
       "Name: type, dtype: int64"
      ]
     },
     "execution_count": 63,
     "metadata": {},
     "output_type": "execute_result"
    }
   ],
   "source": [
    "df['type'].value_counts()"
   ]
  },
  {
   "cell_type": "code",
   "execution_count": 64,
   "metadata": {},
   "outputs": [
    {
     "data": {
      "text/plain": [
       "BHK2        11721\n",
       "BHK3         4400\n",
       "BHK1         3617\n",
       "RK1           553\n",
       "BHK4          233\n",
       "BHK4PLUS       31\n",
       "Name: type, dtype: int64"
      ]
     },
     "execution_count": 64,
     "metadata": {},
     "output_type": "execute_result"
    }
   ],
   "source": [
    "df['type'] = df['type'].replace('1BHK1', 'BHK1')\n",
    "df['type'] = df['type'].replace('bhk2', 'BHK2')\n",
    "df['type'] = df['type'].replace('bhk3', 'BHK3')\n",
    "df['type'].value_counts()\n"
   ]
  },
  {
   "cell_type": "code",
   "execution_count": 65,
   "metadata": {},
   "outputs": [
    {
     "data": {
      "text/plain": [
       "FAMILY      10213\n",
       "ANYONE       9697\n",
       "BACHELOR      587\n",
       "COMPANY        58\n",
       "Name: lease_type, dtype: int64"
      ]
     },
     "execution_count": 65,
     "metadata": {},
     "output_type": "execute_result"
    }
   ],
   "source": [
    "df['lease_type'].value_counts()"
   ]
  },
  {
   "cell_type": "code",
   "execution_count": 66,
   "metadata": {},
   "outputs": [
    {
     "data": {
      "text/plain": [
       "SEMI_FURNISHED     17950\n",
       "NOT_FURNISHED       1429\n",
       "FULLY_FURNISHED     1176\n",
       "Name: furnishing, dtype: int64"
      ]
     },
     "execution_count": 66,
     "metadata": {},
     "output_type": "execute_result"
    }
   ],
   "source": [
    "df['furnishing'].value_counts()"
   ]
  },
  {
   "cell_type": "code",
   "execution_count": 67,
   "metadata": {},
   "outputs": [
    {
     "data": {
      "text/plain": [
       "BOTH            10841\n",
       "TWO_WHEELER      7224\n",
       "FOUR_WHEELER     1448\n",
       "NONE             1042\n",
       "Name: parking, dtype: int64"
      ]
     },
     "execution_count": 67,
     "metadata": {},
     "output_type": "execute_result"
    }
   ],
   "source": [
    "df['parking'].value_counts()"
   ]
  },
  {
   "cell_type": "code",
   "execution_count": 68,
   "metadata": {},
   "outputs": [
    {
     "data": {
      "text/plain": [
       "CORP_BORE      10732\n",
       "CORPORATION     6729\n",
       "BOREWELL        3094\n",
       "Name: water_supply, dtype: int64"
      ]
     },
     "execution_count": 68,
     "metadata": {},
     "output_type": "execute_result"
    }
   ],
   "source": [
    "df['water_supply'].value_counts()"
   ]
  },
  {
   "cell_type": "code",
   "execution_count": 69,
   "metadata": {},
   "outputs": [
    {
     "data": {
      "text/plain": [
       "IF    9263\n",
       "AP    8876\n",
       "IH    2399\n",
       "GC      17\n",
       "Name: building_type, dtype: int64"
      ]
     },
     "execution_count": 69,
     "metadata": {},
     "output_type": "execute_result"
    }
   ],
   "source": [
    "df['building_type'].value_counts()"
   ]
  },
  {
   "cell_type": "code",
   "execution_count": 70,
   "metadata": {},
   "outputs": [
    {
     "data": {
      "text/plain": [
       "BHK2        11721\n",
       "BHK3         4400\n",
       "BHK1         3617\n",
       "RK1           553\n",
       "BHK4          233\n",
       "BHK4PLUS       31\n",
       "Name: type, dtype: int64"
      ]
     },
     "execution_count": 70,
     "metadata": {},
     "output_type": "execute_result"
    }
   ],
   "source": [
    "df['type'].value_counts()"
   ]
  },
  {
   "cell_type": "code",
   "execution_count": 71,
   "metadata": {},
   "outputs": [],
   "source": [
    "# Group by 'locality' and count occurrences\n",
    "locality_counts = df.groupby('locality').size()\n",
    "\n",
    "# Create a boolean mask to filter rows with repeating unique values\n",
    "repeating_unique_mask = df['locality'].map(locality_counts) > 20\n",
    "\n",
    "# Filter the DataFrame to keep only rows wit\n",
    "df = df[repeating_unique_mask]"
   ]
  },
  {
   "cell_type": "code",
   "execution_count": 72,
   "metadata": {},
   "outputs": [
    {
     "data": {
      "text/plain": [
       "Whitefield              1502\n",
       "HSR Layout               797\n",
       "Banashankari             746\n",
       "Bellandur                619\n",
       "Marathahalli             527\n",
       "                        ... \n",
       "Chikkakannalli            22\n",
       "Hanumanthnagar            21\n",
       "Thirumalashettyhally      21\n",
       "Yemalur                   21\n",
       "GM Palya                  21\n",
       "Name: locality, Length: 135, dtype: int64"
      ]
     },
     "execution_count": 72,
     "metadata": {},
     "output_type": "execute_result"
    }
   ],
   "source": [
    "df['locality'].value_counts()"
   ]
  },
  {
   "cell_type": "code",
   "execution_count": 28,
   "metadata": {},
   "outputs": [
    {
     "data": {
      "text/plain": [
       "(18932, 35)"
      ]
     },
     "execution_count": 28,
     "metadata": {},
     "output_type": "execute_result"
    }
   ],
   "source": [
    "df.shape"
   ]
  },
  {
   "cell_type": "code",
   "execution_count": 73,
   "metadata": {},
   "outputs": [],
   "source": [
    "label_encoder = LabelEncoder()\n",
    "# For lease_type\n",
    "df['lease_type_encoded'] = label_encoder.fit_transform(df['lease_type'])\n",
    "# Drop the original 'lease_type' column\n",
    "df.drop(columns=['lease_type'], inplace=True)\n",
    "\n",
    "#\n",
    "df['furnishing_encoded'] = label_encoder.fit_transform(df['furnishing'])\n",
    "df.drop(columns=['furnishing'], inplace=True)\n",
    "\n",
    "#\n",
    "df['parking_encoded'] = label_encoder.fit_transform(df['parking'])\n",
    "df.drop(columns=['parking'], inplace=True)\n",
    "\n",
    "#\n",
    "df['water_supply_encoded'] = label_encoder.fit_transform(df['water_supply'])\n",
    "df.drop(columns=['water_supply'], inplace=True)\n",
    "\n",
    "#\n",
    "df['building_type_encoded'] = label_encoder.fit_transform(df['building_type'])\n",
    "df.drop(columns=['building_type'], inplace=True)\n",
    "\n",
    "#\n",
    "df['BHK_type_encoded'] = label_encoder.fit_transform(df['type'])\n",
    "df.drop(columns = ['type'], inplace=True)\n",
    "df['locality_encoded'] = label_encoder.fit_transform(df['locality'])\n",
    "df.drop(columns = ['locality'], inplace=True)"
   ]
  },
  {
   "cell_type": "code",
   "execution_count": 74,
   "metadata": {},
   "outputs": [
    {
     "data": {
      "text/html": [
       "<div>\n",
       "<style scoped>\n",
       "    .dataframe tbody tr th:only-of-type {\n",
       "        vertical-align: middle;\n",
       "    }\n",
       "\n",
       "    .dataframe tbody tr th {\n",
       "        vertical-align: top;\n",
       "    }\n",
       "\n",
       "    .dataframe thead th {\n",
       "        text-align: right;\n",
       "    }\n",
       "</style>\n",
       "<table border=\"1\" class=\"dataframe\">\n",
       "  <thead>\n",
       "    <tr style=\"text-align: right;\">\n",
       "      <th></th>\n",
       "      <th>id</th>\n",
       "      <th>latitude</th>\n",
       "      <th>longitude</th>\n",
       "      <th>property_size</th>\n",
       "      <th>bathroom</th>\n",
       "      <th>facing</th>\n",
       "      <th>floor</th>\n",
       "      <th>total_floor</th>\n",
       "      <th>balconies</th>\n",
       "      <th>rent</th>\n",
       "      <th>...</th>\n",
       "      <th>PB</th>\n",
       "      <th>VP</th>\n",
       "      <th>age_of_property</th>\n",
       "      <th>lease_type_encoded</th>\n",
       "      <th>furnishing_encoded</th>\n",
       "      <th>parking_encoded</th>\n",
       "      <th>water_supply_encoded</th>\n",
       "      <th>building_type_encoded</th>\n",
       "      <th>BHK_type_encoded</th>\n",
       "      <th>locality_encoded</th>\n",
       "    </tr>\n",
       "  </thead>\n",
       "  <tbody>\n",
       "    <tr>\n",
       "      <th>0</th>\n",
       "      <td>ff8081815733a243015733b2876600a6</td>\n",
       "      <td>12.934471</td>\n",
       "      <td>77.634471</td>\n",
       "      <td>1250.0</td>\n",
       "      <td>2.0</td>\n",
       "      <td>E</td>\n",
       "      <td>6.0</td>\n",
       "      <td>12.0</td>\n",
       "      <td>2.0</td>\n",
       "      <td>40000.0</td>\n",
       "      <td>...</td>\n",
       "      <td>1</td>\n",
       "      <td>1</td>\n",
       "      <td>5</td>\n",
       "      <td>3</td>\n",
       "      <td>2</td>\n",
       "      <td>0</td>\n",
       "      <td>2</td>\n",
       "      <td>0</td>\n",
       "      <td>1</td>\n",
       "      <td>131</td>\n",
       "    </tr>\n",
       "    <tr>\n",
       "      <th>1</th>\n",
       "      <td>ff8081815ee25e15015ee50004da2acd</td>\n",
       "      <td>12.929557</td>\n",
       "      <td>77.672280</td>\n",
       "      <td>1400.0</td>\n",
       "      <td>2.0</td>\n",
       "      <td>NE</td>\n",
       "      <td>3.0</td>\n",
       "      <td>4.0</td>\n",
       "      <td>2.0</td>\n",
       "      <td>22000.0</td>\n",
       "      <td>...</td>\n",
       "      <td>1</td>\n",
       "      <td>1</td>\n",
       "      <td>5</td>\n",
       "      <td>0</td>\n",
       "      <td>2</td>\n",
       "      <td>0</td>\n",
       "      <td>1</td>\n",
       "      <td>0</td>\n",
       "      <td>1</td>\n",
       "      <td>19</td>\n",
       "    </tr>\n",
       "    <tr>\n",
       "      <th>3</th>\n",
       "      <td>ff80818164b68a700164b74b1b247a1d</td>\n",
       "      <td>12.955991</td>\n",
       "      <td>77.531634</td>\n",
       "      <td>600.0</td>\n",
       "      <td>1.0</td>\n",
       "      <td>E</td>\n",
       "      <td>1.0</td>\n",
       "      <td>2.0</td>\n",
       "      <td>0.0</td>\n",
       "      <td>8000.0</td>\n",
       "      <td>...</td>\n",
       "      <td>0</td>\n",
       "      <td>0</td>\n",
       "      <td>5</td>\n",
       "      <td>3</td>\n",
       "      <td>2</td>\n",
       "      <td>3</td>\n",
       "      <td>1</td>\n",
       "      <td>3</td>\n",
       "      <td>0</td>\n",
       "      <td>4</td>\n",
       "    </tr>\n",
       "    <tr>\n",
       "      <th>4</th>\n",
       "      <td>ff80818163b1faf00163b4b9b8a163b1</td>\n",
       "      <td>12.963903</td>\n",
       "      <td>77.649446</td>\n",
       "      <td>1500.0</td>\n",
       "      <td>3.0</td>\n",
       "      <td>E</td>\n",
       "      <td>0.0</td>\n",
       "      <td>0.0</td>\n",
       "      <td>1.0</td>\n",
       "      <td>45000.0</td>\n",
       "      <td>...</td>\n",
       "      <td>0</td>\n",
       "      <td>1</td>\n",
       "      <td>5</td>\n",
       "      <td>3</td>\n",
       "      <td>2</td>\n",
       "      <td>0</td>\n",
       "      <td>1</td>\n",
       "      <td>3</td>\n",
       "      <td>2</td>\n",
       "      <td>73</td>\n",
       "    </tr>\n",
       "    <tr>\n",
       "      <th>5</th>\n",
       "      <td>ff8081815f48e4aa015f4dd1a9c6696b</td>\n",
       "      <td>12.986196</td>\n",
       "      <td>77.718314</td>\n",
       "      <td>1080.0</td>\n",
       "      <td>2.0</td>\n",
       "      <td>E</td>\n",
       "      <td>3.0</td>\n",
       "      <td>5.0</td>\n",
       "      <td>2.0</td>\n",
       "      <td>18000.0</td>\n",
       "      <td>...</td>\n",
       "      <td>1</td>\n",
       "      <td>0</td>\n",
       "      <td>5</td>\n",
       "      <td>3</td>\n",
       "      <td>2</td>\n",
       "      <td>0</td>\n",
       "      <td>2</td>\n",
       "      <td>0</td>\n",
       "      <td>0</td>\n",
       "      <td>51</td>\n",
       "    </tr>\n",
       "  </tbody>\n",
       "</table>\n",
       "<p>5 rows × 35 columns</p>\n",
       "</div>"
      ],
      "text/plain": [
       "                                 id   latitude  longitude  property_size  \\\n",
       "0  ff8081815733a243015733b2876600a6  12.934471  77.634471         1250.0   \n",
       "1  ff8081815ee25e15015ee50004da2acd  12.929557  77.672280         1400.0   \n",
       "3  ff80818164b68a700164b74b1b247a1d  12.955991  77.531634          600.0   \n",
       "4  ff80818163b1faf00163b4b9b8a163b1  12.963903  77.649446         1500.0   \n",
       "5  ff8081815f48e4aa015f4dd1a9c6696b  12.986196  77.718314         1080.0   \n",
       "\n",
       "   bathroom facing  floor  total_floor  balconies     rent  ...  PB  VP  \\\n",
       "0       2.0      E    6.0         12.0        2.0  40000.0  ...   1   1   \n",
       "1       2.0     NE    3.0          4.0        2.0  22000.0  ...   1   1   \n",
       "3       1.0      E    1.0          2.0        0.0   8000.0  ...   0   0   \n",
       "4       3.0      E    0.0          0.0        1.0  45000.0  ...   0   1   \n",
       "5       2.0      E    3.0          5.0        2.0  18000.0  ...   1   0   \n",
       "\n",
       "   age_of_property  lease_type_encoded  furnishing_encoded  parking_encoded  \\\n",
       "0                5                   3                   2                0   \n",
       "1                5                   0                   2                0   \n",
       "3                5                   3                   2                3   \n",
       "4                5                   3                   2                0   \n",
       "5                5                   3                   2                0   \n",
       "\n",
       "   water_supply_encoded  building_type_encoded  BHK_type_encoded  \\\n",
       "0                     2                      0                 1   \n",
       "1                     1                      0                 1   \n",
       "3                     1                      3                 0   \n",
       "4                     1                      3                 2   \n",
       "5                     2                      0                 0   \n",
       "\n",
       "   locality_encoded  \n",
       "0               131  \n",
       "1                19  \n",
       "3                 4  \n",
       "4                73  \n",
       "5                51  \n",
       "\n",
       "[5 rows x 35 columns]"
      ]
     },
     "execution_count": 74,
     "metadata": {},
     "output_type": "execute_result"
    }
   ],
   "source": [
    "df.head()"
   ]
  },
  {
   "cell_type": "code",
   "execution_count": 75,
   "metadata": {
    "scrolled": true
   },
   "outputs": [
    {
     "data": {
      "text/plain": [
       "1200.0    1571\n",
       "600.0     1241\n",
       "1000.0    1122\n",
       "800.0      920\n",
       "1100.0     805\n",
       "          ... \n",
       "582.0        1\n",
       "1617.0       1\n",
       "1219.0       1\n",
       "1269.0       1\n",
       "415.0        1\n",
       "Name: property_size, Length: 1097, dtype: int64"
      ]
     },
     "execution_count": 75,
     "metadata": {},
     "output_type": "execute_result"
    }
   ],
   "source": [
    "df['property_size'].value_counts()"
   ]
  },
  {
   "cell_type": "code",
   "execution_count": 33,
   "metadata": {
    "scrolled": true
   },
   "outputs": [
    {
     "data": {
      "image/png": "[encoded data removed]",
      "text/plain": [
       "<Figure size 800x600 with 1 Axes>"
      ]
     },
     "metadata": {},
     "output_type": "display_data"
    }
   ],
   "source": [
    "# Create a box plot\n",
    "plt.figure(figsize=(8, 6))\n",
    "plt.boxplot(df['property_size'], vert=False)\n",
    "plt.title('Box Plot of Property Size')\n",
    "plt.xlabel('Property Size')\n",
    "plt.show()"
   ]
  },
  {
   "cell_type": "code",
   "execution_count": 76,
   "metadata": {},
   "outputs": [],
   "source": [
    "# Remove the outliers\n",
    "Q1 = df['property_size'].quantile(0.25)\n",
    "Q3 = df['property_size'].quantile(0.75)\n",
    "IQR = Q3 - Q1\n",
    "#Identify and print outliers \n",
    "df = df[(df['property_size'] >= Q1 - 1.5 * IQR) & (df['property_size'] <= Q3 + 1.5 * IQR)]"
   ]
  },
  {
   "cell_type": "code",
   "execution_count": 77,
   "metadata": {},
   "outputs": [
    {
     "data": {
      "image/png": "[encoded data removed]",
      "text/plain": [
       "<Figure size 800x600 with 1 Axes>"
      ]
     },
     "metadata": {},
     "output_type": "display_data"
    }
   ],
   "source": [
    "# Create a box plot\n",
    "plt.figure(figsize=(8, 6))\n",
    "plt.boxplot(df['property_size'], vert=False)\n",
    "plt.title('Box Plot of Property Size')\n",
    "plt.xlabel('Property Size')\n",
    "plt.show()"
   ]
  },
  {
   "cell_type": "code",
   "execution_count": 78,
   "metadata": {
    "scrolled": false
   },
   "outputs": [
    {
     "data": {
      "text/plain": [
       "2.0     9921\n",
       "1.0     5381\n",
       "3.0     2224\n",
       "4.0      135\n",
       "5.0        5\n",
       "21.0       1\n",
       "Name: bathroom, dtype: int64"
      ]
     },
     "execution_count": 78,
     "metadata": {},
     "output_type": "execute_result"
    }
   ],
   "source": [
    "df['bathroom'].value_counts()"
   ]
  },
  {
   "cell_type": "code",
   "execution_count": 79,
   "metadata": {
    "scrolled": true
   },
   "outputs": [
    {
     "data": {
      "image/png": "[encoded data removed]",
      "text/plain": [
       "<Figure size 800x600 with 1 Axes>"
      ]
     },
     "metadata": {},
     "output_type": "display_data"
    }
   ],
   "source": [
    "# Create a box plot\n",
    "plt.figure(figsize=(8, 6))\n",
    "plt.boxplot(df['bathroom'], vert=False)\n",
    "plt.title('Box Plot of Property Size')\n",
    "plt.xlabel('bathroom ')\n",
    "plt.show()"
   ]
  },
  {
   "cell_type": "code",
   "execution_count": 80,
   "metadata": {},
   "outputs": [
    {
     "data": {
      "text/html": [
       "<div>\n",
       "<style scoped>\n",
       "    .dataframe tbody tr th:only-of-type {\n",
       "        vertical-align: middle;\n",
       "    }\n",
       "\n",
       "    .dataframe tbody tr th {\n",
       "        vertical-align: top;\n",
       "    }\n",
       "\n",
       "    .dataframe thead th {\n",
       "        text-align: right;\n",
       "    }\n",
       "</style>\n",
       "<table border=\"1\" class=\"dataframe\">\n",
       "  <thead>\n",
       "    <tr style=\"text-align: right;\">\n",
       "      <th></th>\n",
       "      <th>rent</th>\n",
       "    </tr>\n",
       "    <tr>\n",
       "      <th>bathroom</th>\n",
       "      <th></th>\n",
       "    </tr>\n",
       "  </thead>\n",
       "  <tbody>\n",
       "    <tr>\n",
       "      <th>1.0</th>\n",
       "      <td>12180.735551</td>\n",
       "    </tr>\n",
       "    <tr>\n",
       "      <th>2.0</th>\n",
       "      <td>20053.154924</td>\n",
       "    </tr>\n",
       "    <tr>\n",
       "      <th>3.0</th>\n",
       "      <td>29102.111511</td>\n",
       "    </tr>\n",
       "    <tr>\n",
       "      <th>4.0</th>\n",
       "      <td>34170.370370</td>\n",
       "    </tr>\n",
       "    <tr>\n",
       "      <th>5.0</th>\n",
       "      <td>34000.000000</td>\n",
       "    </tr>\n",
       "    <tr>\n",
       "      <th>21.0</th>\n",
       "      <td>27000.000000</td>\n",
       "    </tr>\n",
       "  </tbody>\n",
       "</table>\n",
       "</div>"
      ],
      "text/plain": [
       "                  rent\n",
       "bathroom              \n",
       "1.0       12180.735551\n",
       "2.0       20053.154924\n",
       "3.0       29102.111511\n",
       "4.0       34170.370370\n",
       "5.0       34000.000000\n",
       "21.0      27000.000000"
      ]
     },
     "execution_count": 80,
     "metadata": {},
     "output_type": "execute_result"
    }
   ],
   "source": [
    "df[['bathroom','rent']].groupby(['bathroom']).mean()"
   ]
  },
  {
   "cell_type": "markdown",
   "metadata": {},
   "source": [
    "## Facing"
   ]
  },
  {
   "cell_type": "code",
   "execution_count": 81,
   "metadata": {},
   "outputs": [
    {
     "data": {
      "text/plain": [
       "E     8264\n",
       "N     5042\n",
       "W     2300\n",
       "S     1013\n",
       "NE     709\n",
       "SE     163\n",
       "NW     126\n",
       "SW      50\n",
       "Name: facing, dtype: int64"
      ]
     },
     "execution_count": 81,
     "metadata": {},
     "output_type": "execute_result"
    }
   ],
   "source": [
    "df['facing'].value_counts()"
   ]
  },
  {
   "cell_type": "code",
   "execution_count": 82,
   "metadata": {},
   "outputs": [
    {
     "data": {
      "text/html": [
       "<div>\n",
       "<style scoped>\n",
       "    .dataframe tbody tr th:only-of-type {\n",
       "        vertical-align: middle;\n",
       "    }\n",
       "\n",
       "    .dataframe tbody tr th {\n",
       "        vertical-align: top;\n",
       "    }\n",
       "\n",
       "    .dataframe thead th {\n",
       "        text-align: right;\n",
       "    }\n",
       "</style>\n",
       "<table border=\"1\" class=\"dataframe\">\n",
       "  <thead>\n",
       "    <tr style=\"text-align: right;\">\n",
       "      <th></th>\n",
       "      <th>rent</th>\n",
       "    </tr>\n",
       "    <tr>\n",
       "      <th>facing</th>\n",
       "      <th></th>\n",
       "    </tr>\n",
       "  </thead>\n",
       "  <tbody>\n",
       "    <tr>\n",
       "      <th>E</th>\n",
       "      <td>18937.869555</td>\n",
       "    </tr>\n",
       "    <tr>\n",
       "      <th>N</th>\n",
       "      <td>17731.770131</td>\n",
       "    </tr>\n",
       "    <tr>\n",
       "      <th>NE</th>\n",
       "      <td>21456.623413</td>\n",
       "    </tr>\n",
       "    <tr>\n",
       "      <th>NW</th>\n",
       "      <td>21654.761905</td>\n",
       "    </tr>\n",
       "    <tr>\n",
       "      <th>S</th>\n",
       "      <td>18443.139191</td>\n",
       "    </tr>\n",
       "    <tr>\n",
       "      <th>SE</th>\n",
       "      <td>21407.668712</td>\n",
       "    </tr>\n",
       "    <tr>\n",
       "      <th>SW</th>\n",
       "      <td>23550.000000</td>\n",
       "    </tr>\n",
       "    <tr>\n",
       "      <th>W</th>\n",
       "      <td>20359.890870</td>\n",
       "    </tr>\n",
       "  </tbody>\n",
       "</table>\n",
       "</div>"
      ],
      "text/plain": [
       "                rent\n",
       "facing              \n",
       "E       18937.869555\n",
       "N       17731.770131\n",
       "NE      21456.623413\n",
       "NW      21654.761905\n",
       "S       18443.139191\n",
       "SE      21407.668712\n",
       "SW      23550.000000\n",
       "W       20359.890870"
      ]
     },
     "execution_count": 82,
     "metadata": {},
     "output_type": "execute_result"
    }
   ],
   "source": [
    "df[['facing','rent']].groupby(['facing']).mean()"
   ]
  },
  {
   "cell_type": "code",
   "execution_count": 83,
   "metadata": {},
   "outputs": [
    {
     "data": {
      "text/plain": [
       "<seaborn.axisgrid.JointGrid at 0x25b714b4460>"
      ]
     },
     "execution_count": 83,
     "metadata": {},
     "output_type": "execute_result"
    },
    {
     "data": {
      "image/png": "[encoded data removed]",
      "text/plain": [
       "<Figure size 600x600 with 3 Axes>"
      ]
     },
     "metadata": {},
     "output_type": "display_data"
    }
   ],
   "source": [
    "sns.jointplot(x = 'facing', y = 'rent', data = df)"
   ]
  },
  {
   "cell_type": "code",
   "execution_count": 100,
   "metadata": {},
   "outputs": [],
   "source": [
    "label_encoder = LabelEncoder()\n",
    "df['facing_encoded'] = label_encoder.fit_transform(df['facing'])\n",
    "df.drop(columns=['facing'], inplace=True)"
   ]
  },
  {
   "cell_type": "code",
   "execution_count": 85,
   "metadata": {},
   "outputs": [
    {
     "data": {
      "text/plain": [
       "1.0     5102\n",
       "0.0     4136\n",
       "2.0     3914\n",
       "3.0     2284\n",
       "4.0     1061\n",
       "5.0      263\n",
       "6.0      179\n",
       "7.0      158\n",
       "9.0      116\n",
       "8.0      108\n",
       "10.0      92\n",
       "11.0      78\n",
       "12.0      53\n",
       "14.0      39\n",
       "13.0      29\n",
       "15.0      17\n",
       "16.0      16\n",
       "17.0       8\n",
       "19.0       5\n",
       "18.0       4\n",
       "20.0       3\n",
       "25.0       1\n",
       "22.0       1\n",
       "Name: floor, dtype: int64"
      ]
     },
     "execution_count": 85,
     "metadata": {},
     "output_type": "execute_result"
    }
   ],
   "source": [
    "df['floor'].value_counts()"
   ]
  },
  {
   "cell_type": "code",
   "execution_count": 86,
   "metadata": {},
   "outputs": [
    {
     "data": {
      "text/plain": [
       "<AxesSubplot:xlabel='floor', ylabel='Count'>"
      ]
     },
     "execution_count": 86,
     "metadata": {},
     "output_type": "execute_result"
    },
    {
     "data": {
      "image/png": "[encoded data removed]",
      "text/plain": [
       "<Figure size 640x480 with 1 Axes>"
      ]
     },
     "metadata": {},
     "output_type": "display_data"
    }
   ],
   "source": [
    "sns.histplot(data=df, x=\"floor\")"
   ]
  },
  {
   "cell_type": "code",
   "execution_count": 87,
   "metadata": {},
   "outputs": [
    {
     "data": {
      "text/plain": [
       "4.0     4307\n",
       "3.0     4024\n",
       "2.0     4014\n",
       "1.0     1714\n",
       "5.0     1365\n",
       "0.0      281\n",
       "14.0     224\n",
       "9.0      189\n",
       "12.0     185\n",
       "6.0      185\n",
       "8.0      168\n",
       "10.0     167\n",
       "11.0     166\n",
       "13.0     163\n",
       "7.0      149\n",
       "15.0     111\n",
       "16.0      63\n",
       "19.0      59\n",
       "18.0      48\n",
       "17.0      32\n",
       "20.0      20\n",
       "21.0      11\n",
       "23.0       8\n",
       "24.0       6\n",
       "25.0       4\n",
       "22.0       2\n",
       "26.0       2\n",
       "Name: total_floor, dtype: int64"
      ]
     },
     "execution_count": 87,
     "metadata": {},
     "output_type": "execute_result"
    }
   ],
   "source": [
    "df['total_floor'].value_counts()"
   ]
  },
  {
   "cell_type": "code",
   "execution_count": 88,
   "metadata": {
    "scrolled": true
   },
   "outputs": [
    {
     "data": {
      "image/png": "[encoded data removed]",
      "text/plain": [
       "<Figure size 800x600 with 1 Axes>"
      ]
     },
     "metadata": {},
     "output_type": "display_data"
    }
   ],
   "source": [
    "plt.figure(figsize=(8, 6))\n",
    "sns.scatterplot(x=df['floor'], y=df['total_floor'])\n",
    "plt.title(\"Scatter Plot: {} vs {}\".format('total_floor', 'floor'))\n",
    "plt.xlabel('floor')\n",
    "plt.ylabel('total_floor')\n",
    "plt.show()"
   ]
  },
  {
   "cell_type": "code",
   "execution_count": 89,
   "metadata": {},
   "outputs": [
    {
     "data": {
      "text/plain": [
       "1.0     6927\n",
       "0.0     4933\n",
       "2.0     4153\n",
       "3.0     1383\n",
       "4.0      243\n",
       "5.0       25\n",
       "13.0       1\n",
       "6.0        1\n",
       "10.0       1\n",
       "Name: balconies, dtype: int64"
      ]
     },
     "execution_count": 89,
     "metadata": {},
     "output_type": "execute_result"
    }
   ],
   "source": [
    "df['balconies'].value_counts()"
   ]
  },
  {
   "cell_type": "code",
   "execution_count": 90,
   "metadata": {},
   "outputs": [],
   "source": [
    "df.drop(columns = ['id'], inplace=True)"
   ]
  },
  {
   "cell_type": "code",
   "execution_count": 91,
   "metadata": {},
   "outputs": [
    {
     "data": {
      "text/plain": [
       "(17667, 34)"
      ]
     },
     "execution_count": 91,
     "metadata": {},
     "output_type": "execute_result"
    }
   ],
   "source": [
    "df.shape"
   ]
  },
  {
   "cell_type": "code",
   "execution_count": 101,
   "metadata": {},
   "outputs": [
    {
     "name": "stdout",
     "output_type": "stream",
     "text": [
      "<class 'pandas.core.frame.DataFrame'>\n",
      "Int64Index: 17667 entries, 0 to 20554\n",
      "Data columns (total 34 columns):\n",
      " #   Column                 Non-Null Count  Dtype  \n",
      "---  ------                 --------------  -----  \n",
      " 0   latitude               17667 non-null  float64\n",
      " 1   longitude              17667 non-null  float64\n",
      " 2   property_size          17667 non-null  float64\n",
      " 3   bathroom               17667 non-null  float64\n",
      " 4   floor                  17667 non-null  float64\n",
      " 5   total_floor            17667 non-null  float64\n",
      " 6   balconies              17667 non-null  float64\n",
      " 7   rent                   17667 non-null  float64\n",
      " 8   LIFT                   17667 non-null  int64  \n",
      " 9   GYM                    17667 non-null  int64  \n",
      " 10  AC                     17667 non-null  int64  \n",
      " 11  CLUB                   17667 non-null  int64  \n",
      " 12  INTERCOM               17667 non-null  int64  \n",
      " 13  POOL                   17667 non-null  int64  \n",
      " 14  CPA                    17667 non-null  int64  \n",
      " 15  FS                     17667 non-null  int64  \n",
      " 16  SERVANT                17667 non-null  int64  \n",
      " 17  SECURITY               17667 non-null  int64  \n",
      " 18  GP                     17667 non-null  int64  \n",
      " 19  PARK                   17667 non-null  int64  \n",
      " 20  RWH                    17667 non-null  int64  \n",
      " 21  STP                    17667 non-null  int64  \n",
      " 22  HK                     17667 non-null  int64  \n",
      " 23  PB                     17667 non-null  int64  \n",
      " 24  VP                     17667 non-null  int64  \n",
      " 25  age_of_property        17667 non-null  int64  \n",
      " 26  lease_type_encoded     17667 non-null  int32  \n",
      " 27  furnishing_encoded     17667 non-null  int32  \n",
      " 28  parking_encoded        17667 non-null  int32  \n",
      " 29  water_supply_encoded   17667 non-null  int32  \n",
      " 30  building_type_encoded  17667 non-null  int32  \n",
      " 31  BHK_type_encoded       17667 non-null  int32  \n",
      " 32  locality_encoded       17667 non-null  int32  \n",
      " 33  facing_encoded         17667 non-null  int32  \n",
      "dtypes: float64(8), int32(8), int64(18)\n",
      "memory usage: 4.2 MB\n"
     ]
    }
   ],
   "source": [
    "df.info()"
   ]
  },
  {
   "cell_type": "code",
   "execution_count": 93,
   "metadata": {},
   "outputs": [
    {
     "data": {
      "text/html": [
       "<div>\n",
       "<style scoped>\n",
       "    .dataframe tbody tr th:only-of-type {\n",
       "        vertical-align: middle;\n",
       "    }\n",
       "\n",
       "    .dataframe tbody tr th {\n",
       "        vertical-align: top;\n",
       "    }\n",
       "\n",
       "    .dataframe thead th {\n",
       "        text-align: right;\n",
       "    }\n",
       "</style>\n",
       "<table border=\"1\" class=\"dataframe\">\n",
       "  <thead>\n",
       "    <tr style=\"text-align: right;\">\n",
       "      <th></th>\n",
       "      <th>latitude</th>\n",
       "      <th>longitude</th>\n",
       "      <th>property_size</th>\n",
       "      <th>bathroom</th>\n",
       "      <th>floor</th>\n",
       "      <th>total_floor</th>\n",
       "      <th>balconies</th>\n",
       "      <th>rent</th>\n",
       "      <th>LIFT</th>\n",
       "      <th>GYM</th>\n",
       "      <th>...</th>\n",
       "      <th>PB</th>\n",
       "      <th>VP</th>\n",
       "      <th>age_of_property</th>\n",
       "      <th>lease_type_encoded</th>\n",
       "      <th>furnishing_encoded</th>\n",
       "      <th>parking_encoded</th>\n",
       "      <th>water_supply_encoded</th>\n",
       "      <th>building_type_encoded</th>\n",
       "      <th>BHK_type_encoded</th>\n",
       "      <th>locality_encoded</th>\n",
       "    </tr>\n",
       "  </thead>\n",
       "  <tbody>\n",
       "    <tr>\n",
       "      <th>count</th>\n",
       "      <td>17667.000000</td>\n",
       "      <td>17667.000000</td>\n",
       "      <td>17667.000000</td>\n",
       "      <td>17667.000000</td>\n",
       "      <td>17667.000000</td>\n",
       "      <td>17667.000000</td>\n",
       "      <td>17667.000000</td>\n",
       "      <td>17667.000000</td>\n",
       "      <td>17667.000000</td>\n",
       "      <td>17667.000000</td>\n",
       "      <td>...</td>\n",
       "      <td>17667.000000</td>\n",
       "      <td>17667.000000</td>\n",
       "      <td>17667.000000</td>\n",
       "      <td>17667.000000</td>\n",
       "      <td>17667.000000</td>\n",
       "      <td>17667.000000</td>\n",
       "      <td>17667.000000</td>\n",
       "      <td>17667.000000</td>\n",
       "      <td>17667.000000</td>\n",
       "      <td>17667.000000</td>\n",
       "    </tr>\n",
       "    <tr>\n",
       "      <th>mean</th>\n",
       "      <td>12.945511</td>\n",
       "      <td>77.637230</td>\n",
       "      <td>1035.396219</td>\n",
       "      <td>1.838512</td>\n",
       "      <td>1.906775</td>\n",
       "      <td>3.871229</td>\n",
       "      <td>1.160808</td>\n",
       "      <td>18906.717836</td>\n",
       "      <td>0.409577</td>\n",
       "      <td>0.256127</td>\n",
       "      <td>...</td>\n",
       "      <td>0.377200</td>\n",
       "      <td>0.244184</td>\n",
       "      <td>5.048622</td>\n",
       "      <td>1.521028</td>\n",
       "      <td>1.816890</td>\n",
       "      <td>1.209883</td>\n",
       "      <td>1.367578</td>\n",
       "      <td>1.208638</td>\n",
       "      <td>1.153110</td>\n",
       "      <td>65.924209</td>\n",
       "    </tr>\n",
       "    <tr>\n",
       "      <th>std</th>\n",
       "      <td>0.029318</td>\n",
       "      <td>0.071526</td>\n",
       "      <td>404.911914</td>\n",
       "      <td>0.676726</td>\n",
       "      <td>2.201029</td>\n",
       "      <td>3.189530</td>\n",
       "      <td>0.980916</td>\n",
       "      <td>8031.712341</td>\n",
       "      <td>0.491770</td>\n",
       "      <td>0.436505</td>\n",
       "      <td>...</td>\n",
       "      <td>0.484699</td>\n",
       "      <td>0.429615</td>\n",
       "      <td>0.471852</td>\n",
       "      <td>1.478801</td>\n",
       "      <td>0.516162</td>\n",
       "      <td>1.388518</td>\n",
       "      <td>0.737128</td>\n",
       "      <td>1.132483</td>\n",
       "      <td>0.910424</td>\n",
       "      <td>40.881470</td>\n",
       "    </tr>\n",
       "    <tr>\n",
       "      <th>min</th>\n",
       "      <td>12.900004</td>\n",
       "      <td>77.500177</td>\n",
       "      <td>1.000000</td>\n",
       "      <td>1.000000</td>\n",
       "      <td>0.000000</td>\n",
       "      <td>0.000000</td>\n",
       "      <td>0.000000</td>\n",
       "      <td>8000.000000</td>\n",
       "      <td>0.000000</td>\n",
       "      <td>0.000000</td>\n",
       "      <td>...</td>\n",
       "      <td>0.000000</td>\n",
       "      <td>0.000000</td>\n",
       "      <td>4.000000</td>\n",
       "      <td>0.000000</td>\n",
       "      <td>0.000000</td>\n",
       "      <td>0.000000</td>\n",
       "      <td>0.000000</td>\n",
       "      <td>0.000000</td>\n",
       "      <td>0.000000</td>\n",
       "      <td>0.000000</td>\n",
       "    </tr>\n",
       "    <tr>\n",
       "      <th>25%</th>\n",
       "      <td>12.918288</td>\n",
       "      <td>77.574020</td>\n",
       "      <td>700.000000</td>\n",
       "      <td>1.000000</td>\n",
       "      <td>1.000000</td>\n",
       "      <td>2.000000</td>\n",
       "      <td>0.000000</td>\n",
       "      <td>12500.000000</td>\n",
       "      <td>0.000000</td>\n",
       "      <td>0.000000</td>\n",
       "      <td>...</td>\n",
       "      <td>0.000000</td>\n",
       "      <td>0.000000</td>\n",
       "      <td>5.000000</td>\n",
       "      <td>0.000000</td>\n",
       "      <td>2.000000</td>\n",
       "      <td>0.000000</td>\n",
       "      <td>1.000000</td>\n",
       "      <td>0.000000</td>\n",
       "      <td>1.000000</td>\n",
       "      <td>26.000000</td>\n",
       "    </tr>\n",
       "    <tr>\n",
       "      <th>50%</th>\n",
       "      <td>12.943465</td>\n",
       "      <td>77.637235</td>\n",
       "      <td>1050.000000</td>\n",
       "      <td>2.000000</td>\n",
       "      <td>1.000000</td>\n",
       "      <td>3.000000</td>\n",
       "      <td>1.000000</td>\n",
       "      <td>17500.000000</td>\n",
       "      <td>0.000000</td>\n",
       "      <td>0.000000</td>\n",
       "      <td>...</td>\n",
       "      <td>0.000000</td>\n",
       "      <td>0.000000</td>\n",
       "      <td>5.000000</td>\n",
       "      <td>1.000000</td>\n",
       "      <td>2.000000</td>\n",
       "      <td>0.000000</td>\n",
       "      <td>2.000000</td>\n",
       "      <td>2.000000</td>\n",
       "      <td>1.000000</td>\n",
       "      <td>66.000000</td>\n",
       "    </tr>\n",
       "    <tr>\n",
       "      <th>75%</th>\n",
       "      <td>12.970715</td>\n",
       "      <td>77.698906</td>\n",
       "      <td>1263.000000</td>\n",
       "      <td>2.000000</td>\n",
       "      <td>3.000000</td>\n",
       "      <td>4.000000</td>\n",
       "      <td>2.000000</td>\n",
       "      <td>24000.000000</td>\n",
       "      <td>1.000000</td>\n",
       "      <td>1.000000</td>\n",
       "      <td>...</td>\n",
       "      <td>1.000000</td>\n",
       "      <td>0.000000</td>\n",
       "      <td>5.000000</td>\n",
       "      <td>3.000000</td>\n",
       "      <td>2.000000</td>\n",
       "      <td>3.000000</td>\n",
       "      <td>2.000000</td>\n",
       "      <td>2.000000</td>\n",
       "      <td>1.000000</td>\n",
       "      <td>99.000000</td>\n",
       "    </tr>\n",
       "    <tr>\n",
       "      <th>max</th>\n",
       "      <td>12.999999</td>\n",
       "      <td>77.852451</td>\n",
       "      <td>2200.000000</td>\n",
       "      <td>21.000000</td>\n",
       "      <td>25.000000</td>\n",
       "      <td>26.000000</td>\n",
       "      <td>13.000000</td>\n",
       "      <td>50000.000000</td>\n",
       "      <td>1.000000</td>\n",
       "      <td>1.000000</td>\n",
       "      <td>...</td>\n",
       "      <td>1.000000</td>\n",
       "      <td>1.000000</td>\n",
       "      <td>6.000000</td>\n",
       "      <td>3.000000</td>\n",
       "      <td>2.000000</td>\n",
       "      <td>3.000000</td>\n",
       "      <td>2.000000</td>\n",
       "      <td>3.000000</td>\n",
       "      <td>5.000000</td>\n",
       "      <td>134.000000</td>\n",
       "    </tr>\n",
       "  </tbody>\n",
       "</table>\n",
       "<p>8 rows × 33 columns</p>\n",
       "</div>"
      ],
      "text/plain": [
       "           latitude     longitude  property_size      bathroom         floor  \\\n",
       "count  17667.000000  17667.000000   17667.000000  17667.000000  17667.000000   \n",
       "mean      12.945511     77.637230    1035.396219      1.838512      1.906775   \n",
       "std        0.029318      0.071526     404.911914      0.676726      2.201029   \n",
       "min       12.900004     77.500177       1.000000      1.000000      0.000000   \n",
       "25%       12.918288     77.574020     700.000000      1.000000      1.000000   \n",
       "50%       12.943465     77.637235    1050.000000      2.000000      1.000000   \n",
       "75%       12.970715     77.698906    1263.000000      2.000000      3.000000   \n",
       "max       12.999999     77.852451    2200.000000     21.000000     25.000000   \n",
       "\n",
       "        total_floor     balconies          rent          LIFT           GYM  \\\n",
       "count  17667.000000  17667.000000  17667.000000  17667.000000  17667.000000   \n",
       "mean       3.871229      1.160808  18906.717836      0.409577      0.256127   \n",
       "std        3.189530      0.980916   8031.712341      0.491770      0.436505   \n",
       "min        0.000000      0.000000   8000.000000      0.000000      0.000000   \n",
       "25%        2.000000      0.000000  12500.000000      0.000000      0.000000   \n",
       "50%        3.000000      1.000000  17500.000000      0.000000      0.000000   \n",
       "75%        4.000000      2.000000  24000.000000      1.000000      1.000000   \n",
       "max       26.000000     13.000000  50000.000000      1.000000      1.000000   \n",
       "\n",
       "       ...            PB            VP  age_of_property  lease_type_encoded  \\\n",
       "count  ...  17667.000000  17667.000000     17667.000000        17667.000000   \n",
       "mean   ...      0.377200      0.244184         5.048622            1.521028   \n",
       "std    ...      0.484699      0.429615         0.471852            1.478801   \n",
       "min    ...      0.000000      0.000000         4.000000            0.000000   \n",
       "25%    ...      0.000000      0.000000         5.000000            0.000000   \n",
       "50%    ...      0.000000      0.000000         5.000000            1.000000   \n",
       "75%    ...      1.000000      0.000000         5.000000            3.000000   \n",
       "max    ...      1.000000      1.000000         6.000000            3.000000   \n",
       "\n",
       "       furnishing_encoded  parking_encoded  water_supply_encoded  \\\n",
       "count        17667.000000     17667.000000          17667.000000   \n",
       "mean             1.816890         1.209883              1.367578   \n",
       "std              0.516162         1.388518              0.737128   \n",
       "min              0.000000         0.000000              0.000000   \n",
       "25%              2.000000         0.000000              1.000000   \n",
       "50%              2.000000         0.000000              2.000000   \n",
       "75%              2.000000         3.000000              2.000000   \n",
       "max              2.000000         3.000000              2.000000   \n",
       "\n",
       "       building_type_encoded  BHK_type_encoded  locality_encoded  \n",
       "count           17667.000000      17667.000000      17667.000000  \n",
       "mean                1.208638          1.153110         65.924209  \n",
       "std                 1.132483          0.910424         40.881470  \n",
       "min                 0.000000          0.000000          0.000000  \n",
       "25%                 0.000000          1.000000         26.000000  \n",
       "50%                 2.000000          1.000000         66.000000  \n",
       "75%                 2.000000          1.000000         99.000000  \n",
       "max                 3.000000          5.000000        134.000000  \n",
       "\n",
       "[8 rows x 33 columns]"
      ]
     },
     "execution_count": 93,
     "metadata": {},
     "output_type": "execute_result"
    }
   ],
   "source": [
    "df.describe()"
   ]
  },
  {
   "cell_type": "code",
   "execution_count": 97,
   "metadata": {
    "scrolled": false
   },
   "outputs": [
    {
     "data": {
      "text/plain": [
       "latitude                 0\n",
       "longitude                0\n",
       "property_size            0\n",
       "bathroom                 0\n",
       "facing                   0\n",
       "floor                    0\n",
       "total_floor              0\n",
       "balconies                0\n",
       "rent                     0\n",
       "LIFT                     0\n",
       "GYM                      0\n",
       "AC                       0\n",
       "CLUB                     0\n",
       "INTERCOM                 0\n",
       "POOL                     0\n",
       "CPA                      0\n",
       "FS                       0\n",
       "SERVANT                  0\n",
       "SECURITY                 0\n",
       "GP                       0\n",
       "PARK                     0\n",
       "RWH                      0\n",
       "STP                      0\n",
       "HK                       0\n",
       "PB                       0\n",
       "VP                       0\n",
       "age_of_property          0\n",
       "lease_type_encoded       0\n",
       "furnishing_encoded       0\n",
       "parking_encoded          0\n",
       "water_supply_encoded     0\n",
       "building_type_encoded    0\n",
       "BHK_type_encoded         0\n",
       "locality_encoded         0\n",
       "dtype: int64"
      ]
     },
     "execution_count": 97,
     "metadata": {},
     "output_type": "execute_result"
    }
   ],
   "source": [
    "df.isnull().sum()"
   ]
  },
  {
   "cell_type": "markdown",
   "metadata": {},
   "source": [
    "# Model Building"
   ]
  },
  {
   "cell_type": "code",
   "execution_count": 102,
   "metadata": {},
   "outputs": [
    {
     "name": "stdout",
     "output_type": "stream",
     "text": [
      "Linear Regression (L2) - RMSE: 4580.715770892365\n",
      "Linear Regression (L1) - RMSE: 4580.693333029902\n",
      "Polynomial Regression - RMSE: 4797.908456974728\n",
      "Random Forest - RMSE: 3532.258016077102\n",
      "XGBoost - RMSE: 3416.8371565033276\n",
      "Support Vector Machines - RMSE: 4828.157457077213\n",
      "Ensemble Learning (Voting Regressor) - RMSE: 3899.4484688600865\n"
     ]
    }
   ],
   "source": [
    "import pandas as pd\n",
    "from sklearn.model_selection import train_test_split\n",
    "from sklearn.preprocessing import StandardScaler, PolynomialFeatures\n",
    "from sklearn.linear_model import LinearRegression, Ridge, Lasso\n",
    "from sklearn.ensemble import RandomForestRegressor, VotingRegressor\n",
    "import xgboost as xgb\n",
    "from sklearn.svm import SVR\n",
    "from sklearn.metrics import mean_squared_error, r2_score\n",
    "#from tensorflow import keras\n",
    "#from keras.models import Sequential\n",
    "#from keras.layers import Dense\n",
    "#from keras.optimizers import Adam\n",
    "from sklearn.ensemble import BaggingRegressor, GradientBoostingRegressor\n",
    "\n",
    "# Load your dataset\n",
    "\n",
    "# Preprocessing\n",
    "# Handle missing values, encode categorical variables, etc.\n",
    "\n",
    "# Split the dataset into features (X) and target variable (y)\n",
    "X = df.drop(columns=['rent'])\n",
    "y = df['rent']\n",
    "\n",
    "# Split the data into training and testing sets\n",
    "X_train, X_test, y_train, y_test = train_test_split(X, y, test_size=0.2, random_state=42)\n",
    "\n",
    "# Feature Scaling\n",
    "scaler = StandardScaler()\n",
    "X_train_scaled = scaler.fit_transform(X_train)\n",
    "X_test_scaled = scaler.transform(X_test)\n",
    "\n",
    "# Linear Regression (L2)\n",
    "lin_reg = Ridge(alpha=1.0)\n",
    "lin_reg.fit(X_train_scaled, y_train)\n",
    "y_pred_lin_reg = lin_reg.predict(X_test_scaled)\n",
    "\n",
    "# Linear Regression (L1)\n",
    "lasso_reg = Lasso(alpha=0.1)\n",
    "lasso_reg.fit(X_train_scaled, y_train)\n",
    "y_pred_lasso_reg = lasso_reg.predict(X_test_scaled)\n",
    "\n",
    "# Polynomial Regression\n",
    "poly = PolynomialFeatures(degree=2)\n",
    "X_train_poly = poly.fit_transform(X_train_scaled)\n",
    "X_test_poly = poly.transform(X_test_scaled)\n",
    "poly_reg = LinearRegression()\n",
    "poly_reg.fit(X_train_poly, y_train)\n",
    "y_pred_poly_reg = poly_reg.predict(X_test_poly)\n",
    "\n",
    "# Random Forest\n",
    "rf_reg = RandomForestRegressor(n_estimators=100, random_state=42)\n",
    "rf_reg.fit(X_train_scaled, y_train)\n",
    "y_pred_rf_reg = rf_reg.predict(X_test_scaled)\n",
    "\n",
    "# XGBoost\n",
    "xgb_reg = xgb.XGBRegressor(n_estimators=100, learning_rate=0.1, random_state=42)\n",
    "xgb_reg.fit(X_train_scaled, y_train)\n",
    "y_pred_xgb_reg = xgb_reg.predict(X_test_scaled)\n",
    "\n",
    "# Artificial Neural Networks (ANN)\n",
    "# ann_model = Sequential()\n",
    "# ann_model.add(Dense(units=128, activation='relu', input_dim=X_train_scaled.shape[1]))\n",
    "# ann_model.add(Dense(units=64, activation='relu'))\n",
    "# ann_model.add(Dense(units=1))\n",
    "# ann_model.compile(optimizer=Adam(learning_rate=0.001), loss='mean_squared_error')\n",
    "# ann_model.fit(X_train_scaled, y_train, epochs=50, batch_size=32, verbose=0)\n",
    "# y_pred_ann = ann_model.predict(X_test_scaled)\n",
    "\n",
    "# Support Vector Machines (SVM)\n",
    "svm_reg = SVR(kernel='linear')\n",
    "svm_reg.fit(X_train_scaled, y_train)\n",
    "y_pred_svm_reg = svm_reg.predict(X_test_scaled)\n",
    "\n",
    "# Ensemble Learning (Voting Regressor)\n",
    "ensemble_model = VotingRegressor(estimators=[\n",
    "    ('lin_reg', lin_reg),\n",
    "    ('lasso_reg', lasso_reg),\n",
    "    ('rf_reg', rf_reg),\n",
    "    ('xgb_reg', xgb_reg),\n",
    "    ('svm_reg', svm_reg)\n",
    "])\n",
    "ensemble_model.fit(X_train_scaled, y_train)\n",
    "y_pred_ensemble = ensemble_model.predict(X_test_scaled)\n",
    "\n",
    "# Evaluate Models\n",
    "print(\"Linear Regression (L2) - RMSE:\", mean_squared_error(y_test, y_pred_lin_reg, squared=False))\n",
    "print(\"Linear Regression (L1) - RMSE:\", mean_squared_error(y_test, y_pred_lasso_reg, squared=False))\n",
    "print(\"Polynomial Regression - RMSE:\", mean_squared_error(y_test, y_pred_poly_reg, squared=False))\n",
    "print(\"Random Forest - RMSE:\", mean_squared_error(y_test, y_pred_rf_reg, squared=False))\n",
    "print(\"XGBoost - RMSE:\", mean_squared_error(y_test, y_pred_xgb_reg, squared=False))\n",
    "#print(\"Artificial Neural Networks - RMSE:\", mean_squared_error(y_test, y_pred_ann, squared=False))\n",
    "print(\"Support Vector Machines - RMSE:\", mean_squared_error(y_test, y_pred_svm_reg, squared=False))\n",
    "print(\"Ensemble Learning (Voting Regressor) - RMSE:\", mean_squared_error(y_test, y_pred_ensemble, squared=False))\n",
    "\n"
   ]
  },
  {
   "cell_type": "code",
   "execution_count": 103,
   "metadata": {},
   "outputs": [
    {
     "data": {
      "text/plain": [
       "0.8180867783402497"
      ]
     },
     "execution_count": 103,
     "metadata": {},
     "output_type": "execute_result"
    }
   ],
   "source": [
    "r2_score(y_test, y_pred_xgb_reg)"
   ]
  },
  {
   "cell_type": "code",
   "execution_count": 112,
   "metadata": {},
   "outputs": [
    {
     "data": {
      "text/plain": [
       "0.8238001314893116"
      ]
     },
     "execution_count": 112,
     "metadata": {},
     "output_type": "execute_result"
    }
   ],
   "source": [
    "xgb_reg = xgb.XGBRegressor(n_estimators=300, learning_rate=0.1, random_state=42)\n",
    "xgb_reg.fit(X_train_scaled, y_train)\n",
    "y_pred_xgb_reg = xgb_reg.predict(X_test_scaled)\n",
    "r2_score(y_test, y_pred_xgb_reg)"
   ]
  },
  {
   "cell_type": "code",
   "execution_count": 114,
   "metadata": {},
   "outputs": [
    {
     "data": {
      "text/plain": [
       "0.8068464937860642"
      ]
     },
     "execution_count": 114,
     "metadata": {},
     "output_type": "execute_result"
    }
   ],
   "source": []
  },
  {
   "cell_type": "code",
   "execution_count": null,
   "metadata": {},
   "outputs": [],
   "source": []
  }
 ],
 "metadata": {
  "kernelspec": {
   "display_name": "Python 3 (ipykernel)",
   "language": "python",
   "name": "python3"
  },
  "language_info": {
   "codemirror_mode": {
    "name": "ipython",
    "version": 3
   },
   "file_extension": ".py",
   "mimetype": "text/x-python",
   "name": "python",
   "nbconvert_exporter": "python",
   "pygments_lexer": "ipython3",
   "version": "3.9.16"
  }
 },
 "nbformat": 4,
 "nbformat_minor": 2
}
