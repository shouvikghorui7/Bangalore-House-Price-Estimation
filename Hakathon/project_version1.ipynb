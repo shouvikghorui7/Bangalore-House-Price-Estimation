{
 "cells": [
  {
   "cell_type": "code",
   "execution_count": 1,
   "metadata": {},
   "outputs": [],
   "source": [
    "import json\n",
    "import pandas as pd\n",
    "import seaborn as sns\n",
    "import matplotlib.pyplot as plt\n",
    "from datetime import datetime\n",
    "from sklearn.preprocessing import LabelEncoder"
   ]
  },
  {
   "cell_type": "code",
   "execution_count": 112,
   "metadata": {},
   "outputs": [
    {
     "data": {
      "text/html": [
       "<div>\n",
       "<style scoped>\n",
       "    .dataframe tbody tr th:only-of-type {\n",
       "        vertical-align: middle;\n",
       "    }\n",
       "\n",
       "    .dataframe tbody tr th {\n",
       "        vertical-align: top;\n",
       "    }\n",
       "\n",
       "    .dataframe thead th {\n",
       "        text-align: right;\n",
       "    }\n",
       "</style>\n",
       "<table border=\"1\" class=\"dataframe\">\n",
       "  <thead>\n",
       "    <tr style=\"text-align: right;\">\n",
       "      <th></th>\n",
       "      <th>Unnamed: 0</th>\n",
       "      <th>id</th>\n",
       "      <th>type</th>\n",
       "      <th>locality</th>\n",
       "      <th>activation_date</th>\n",
       "      <th>latitude</th>\n",
       "      <th>longitude</th>\n",
       "      <th>lease_type</th>\n",
       "      <th>gym</th>\n",
       "      <th>lift</th>\n",
       "      <th>...</th>\n",
       "      <th>SERVANT</th>\n",
       "      <th>SECURITY</th>\n",
       "      <th>SC</th>\n",
       "      <th>GP</th>\n",
       "      <th>PARK</th>\n",
       "      <th>RWH</th>\n",
       "      <th>STP</th>\n",
       "      <th>HK</th>\n",
       "      <th>PB</th>\n",
       "      <th>VP</th>\n",
       "    </tr>\n",
       "  </thead>\n",
       "  <tbody>\n",
       "    <tr>\n",
       "      <th>8574</th>\n",
       "      <td>8574</td>\n",
       "      <td>ff80818163c529be0163c5f65582255c</td>\n",
       "      <td>BHK2</td>\n",
       "      <td>New Tippasandra</td>\n",
       "      <td>2018-04-06 18:44:00</td>\n",
       "      <td>12.971352</td>\n",
       "      <td>77.656944</td>\n",
       "      <td>FAMILY</td>\n",
       "      <td>0.0</td>\n",
       "      <td>1.0</td>\n",
       "      <td>...</td>\n",
       "      <td>0</td>\n",
       "      <td>1</td>\n",
       "      <td>1</td>\n",
       "      <td>0</td>\n",
       "      <td>0</td>\n",
       "      <td>1</td>\n",
       "      <td>0</td>\n",
       "      <td>0</td>\n",
       "      <td>0</td>\n",
       "      <td>0</td>\n",
       "    </tr>\n",
       "    <tr>\n",
       "      <th>9037</th>\n",
       "      <td>9037</td>\n",
       "      <td>ff808181629acf750162a473e6404467</td>\n",
       "      <td>BHK3</td>\n",
       "      <td>Vijaya Nagar</td>\n",
       "      <td>2018-09-04 16:14:00</td>\n",
       "      <td>12.962614</td>\n",
       "      <td>77.540636</td>\n",
       "      <td>FAMILY</td>\n",
       "      <td>0.0</td>\n",
       "      <td>0.0</td>\n",
       "      <td>...</td>\n",
       "      <td>0</td>\n",
       "      <td>1</td>\n",
       "      <td>1</td>\n",
       "      <td>0</td>\n",
       "      <td>1</td>\n",
       "      <td>0</td>\n",
       "      <td>0</td>\n",
       "      <td>0</td>\n",
       "      <td>0</td>\n",
       "      <td>0</td>\n",
       "    </tr>\n",
       "    <tr>\n",
       "      <th>658</th>\n",
       "      <td>658</td>\n",
       "      <td>ff8081815e233dd2015e2c6717cb3f98</td>\n",
       "      <td>BHK2</td>\n",
       "      <td>Whitefield</td>\n",
       "      <td>2018-05-24 19:42:00</td>\n",
       "      <td>12.966168</td>\n",
       "      <td>77.724777</td>\n",
       "      <td>ANYONE</td>\n",
       "      <td>1.0</td>\n",
       "      <td>1.0</td>\n",
       "      <td>...</td>\n",
       "      <td>0</td>\n",
       "      <td>1</td>\n",
       "      <td>1</td>\n",
       "      <td>1</td>\n",
       "      <td>1</td>\n",
       "      <td>1</td>\n",
       "      <td>1</td>\n",
       "      <td>1</td>\n",
       "      <td>1</td>\n",
       "      <td>1</td>\n",
       "    </tr>\n",
       "    <tr>\n",
       "      <th>14317</th>\n",
       "      <td>14317</td>\n",
       "      <td>ff808181507c3c0501507f8079b8147b</td>\n",
       "      <td>BHK2</td>\n",
       "      <td>Vijayanagar</td>\n",
       "      <td>2018-07-31 17:11:00</td>\n",
       "      <td>12.965612</td>\n",
       "      <td>77.532669</td>\n",
       "      <td>FAMILY</td>\n",
       "      <td>0.0</td>\n",
       "      <td>0.0</td>\n",
       "      <td>...</td>\n",
       "      <td>0</td>\n",
       "      <td>0</td>\n",
       "      <td>1</td>\n",
       "      <td>0</td>\n",
       "      <td>1</td>\n",
       "      <td>0</td>\n",
       "      <td>0</td>\n",
       "      <td>0</td>\n",
       "      <td>0</td>\n",
       "      <td>1</td>\n",
       "    </tr>\n",
       "    <tr>\n",
       "      <th>13779</th>\n",
       "      <td>13779</td>\n",
       "      <td>ff8081815df00c39015df39e7da51bbe</td>\n",
       "      <td>BHK1</td>\n",
       "      <td>Munnekollal</td>\n",
       "      <td>2018-07-20 15:24:00</td>\n",
       "      <td>12.944681</td>\n",
       "      <td>77.708031</td>\n",
       "      <td>FAMILY</td>\n",
       "      <td>0.0</td>\n",
       "      <td>0.0</td>\n",
       "      <td>...</td>\n",
       "      <td>0</td>\n",
       "      <td>1</td>\n",
       "      <td>0</td>\n",
       "      <td>1</td>\n",
       "      <td>0</td>\n",
       "      <td>0</td>\n",
       "      <td>0</td>\n",
       "      <td>0</td>\n",
       "      <td>0</td>\n",
       "      <td>1</td>\n",
       "    </tr>\n",
       "    <tr>\n",
       "      <th>19409</th>\n",
       "      <td>19409</td>\n",
       "      <td>ff808181629acf750162a474693544b6</td>\n",
       "      <td>BHK2</td>\n",
       "      <td>Muneshwara Nagar</td>\n",
       "      <td>2018-04-21 18:26:00</td>\n",
       "      <td>12.900732</td>\n",
       "      <td>77.646260</td>\n",
       "      <td>FAMILY</td>\n",
       "      <td>1.0</td>\n",
       "      <td>1.0</td>\n",
       "      <td>...</td>\n",
       "      <td>0</td>\n",
       "      <td>1</td>\n",
       "      <td>0</td>\n",
       "      <td>0</td>\n",
       "      <td>1</td>\n",
       "      <td>0</td>\n",
       "      <td>0</td>\n",
       "      <td>1</td>\n",
       "      <td>1</td>\n",
       "      <td>0</td>\n",
       "    </tr>\n",
       "    <tr>\n",
       "      <th>10062</th>\n",
       "      <td>10062</td>\n",
       "      <td>ff80818151b924d00151bdb44af12c4f</td>\n",
       "      <td>BHK1</td>\n",
       "      <td>Mahaganapathi Nagar</td>\n",
       "      <td>2018-02-07 16:08:00</td>\n",
       "      <td>12.987614</td>\n",
       "      <td>77.550075</td>\n",
       "      <td>ANYONE</td>\n",
       "      <td>0.0</td>\n",
       "      <td>0.0</td>\n",
       "      <td>...</td>\n",
       "      <td>0</td>\n",
       "      <td>0</td>\n",
       "      <td>1</td>\n",
       "      <td>0</td>\n",
       "      <td>1</td>\n",
       "      <td>0</td>\n",
       "      <td>0</td>\n",
       "      <td>0</td>\n",
       "      <td>0</td>\n",
       "      <td>0</td>\n",
       "    </tr>\n",
       "    <tr>\n",
       "      <th>10423</th>\n",
       "      <td>10423</td>\n",
       "      <td>ff8081816108a1fb01611c245e6c2429</td>\n",
       "      <td>BHK1</td>\n",
       "      <td>Domlur</td>\n",
       "      <td>2018-01-27 11:31:00</td>\n",
       "      <td>12.961380</td>\n",
       "      <td>77.634631</td>\n",
       "      <td>ANYONE</td>\n",
       "      <td>0.0</td>\n",
       "      <td>0.0</td>\n",
       "      <td>...</td>\n",
       "      <td>0</td>\n",
       "      <td>1</td>\n",
       "      <td>1</td>\n",
       "      <td>0</td>\n",
       "      <td>1</td>\n",
       "      <td>0</td>\n",
       "      <td>0</td>\n",
       "      <td>0</td>\n",
       "      <td>0</td>\n",
       "      <td>0</td>\n",
       "    </tr>\n",
       "    <tr>\n",
       "      <th>9331</th>\n",
       "      <td>9331</td>\n",
       "      <td>ff808181615a62ea01615ae798a54079</td>\n",
       "      <td>BHK1</td>\n",
       "      <td>Malleshpalya</td>\n",
       "      <td>2018-03-02 14:59:00</td>\n",
       "      <td>12.975863</td>\n",
       "      <td>77.673506</td>\n",
       "      <td>ANYONE</td>\n",
       "      <td>0.0</td>\n",
       "      <td>0.0</td>\n",
       "      <td>...</td>\n",
       "      <td>0</td>\n",
       "      <td>0</td>\n",
       "      <td>1</td>\n",
       "      <td>0</td>\n",
       "      <td>1</td>\n",
       "      <td>0</td>\n",
       "      <td>0</td>\n",
       "      <td>0</td>\n",
       "      <td>0</td>\n",
       "      <td>0</td>\n",
       "    </tr>\n",
       "    <tr>\n",
       "      <th>10275</th>\n",
       "      <td>10275</td>\n",
       "      <td>ff8081815da6ce90015da6f388fa05cf</td>\n",
       "      <td>BHK2</td>\n",
       "      <td>Richmond Town</td>\n",
       "      <td>2017-03-08 13:24:00</td>\n",
       "      <td>12.965444</td>\n",
       "      <td>77.605917</td>\n",
       "      <td>ANYONE</td>\n",
       "      <td>0.0</td>\n",
       "      <td>0.0</td>\n",
       "      <td>...</td>\n",
       "      <td>0</td>\n",
       "      <td>0</td>\n",
       "      <td>1</td>\n",
       "      <td>0</td>\n",
       "      <td>1</td>\n",
       "      <td>0</td>\n",
       "      <td>0</td>\n",
       "      <td>0</td>\n",
       "      <td>0</td>\n",
       "      <td>0</td>\n",
       "    </tr>\n",
       "  </tbody>\n",
       "</table>\n",
       "<p>10 rows × 44 columns</p>\n",
       "</div>"
      ],
      "text/plain": [
       "       Unnamed: 0                                id  type  \\\n",
       "8574         8574  ff80818163c529be0163c5f65582255c  BHK2   \n",
       "9037         9037  ff808181629acf750162a473e6404467  BHK3   \n",
       "658           658  ff8081815e233dd2015e2c6717cb3f98  BHK2   \n",
       "14317       14317  ff808181507c3c0501507f8079b8147b  BHK2   \n",
       "13779       13779  ff8081815df00c39015df39e7da51bbe  BHK1   \n",
       "19409       19409  ff808181629acf750162a474693544b6  BHK2   \n",
       "10062       10062  ff80818151b924d00151bdb44af12c4f  BHK1   \n",
       "10423       10423  ff8081816108a1fb01611c245e6c2429  BHK1   \n",
       "9331         9331  ff808181615a62ea01615ae798a54079  BHK1   \n",
       "10275       10275  ff8081815da6ce90015da6f388fa05cf  BHK2   \n",
       "\n",
       "                  locality      activation_date   latitude  longitude  \\\n",
       "8574       New Tippasandra  2018-04-06 18:44:00  12.971352  77.656944   \n",
       "9037          Vijaya Nagar  2018-09-04 16:14:00  12.962614  77.540636   \n",
       "658             Whitefield  2018-05-24 19:42:00  12.966168  77.724777   \n",
       "14317          Vijayanagar  2018-07-31 17:11:00  12.965612  77.532669   \n",
       "13779          Munnekollal  2018-07-20 15:24:00  12.944681  77.708031   \n",
       "19409     Muneshwara Nagar  2018-04-21 18:26:00  12.900732  77.646260   \n",
       "10062  Mahaganapathi Nagar  2018-02-07 16:08:00  12.987614  77.550075   \n",
       "10423               Domlur  2018-01-27 11:31:00  12.961380  77.634631   \n",
       "9331          Malleshpalya  2018-03-02 14:59:00  12.975863  77.673506   \n",
       "10275        Richmond Town  2017-03-08 13:24:00  12.965444  77.605917   \n",
       "\n",
       "      lease_type  gym  lift  ...  SERVANT  SECURITY SC GP  PARK  RWH  STP HK  \\\n",
       "8574      FAMILY  0.0   1.0  ...        0         1  1  0     0    1    0  0   \n",
       "9037      FAMILY  0.0   0.0  ...        0         1  1  0     1    0    0  0   \n",
       "658       ANYONE  1.0   1.0  ...        0         1  1  1     1    1    1  1   \n",
       "14317     FAMILY  0.0   0.0  ...        0         0  1  0     1    0    0  0   \n",
       "13779     FAMILY  0.0   0.0  ...        0         1  0  1     0    0    0  0   \n",
       "19409     FAMILY  1.0   1.0  ...        0         1  0  0     1    0    0  1   \n",
       "10062     ANYONE  0.0   0.0  ...        0         0  1  0     1    0    0  0   \n",
       "10423     ANYONE  0.0   0.0  ...        0         1  1  0     1    0    0  0   \n",
       "9331      ANYONE  0.0   0.0  ...        0         0  1  0     1    0    0  0   \n",
       "10275     ANYONE  0.0   0.0  ...        0         0  1  0     1    0    0  0   \n",
       "\n",
       "       PB  VP  \n",
       "8574    0   0  \n",
       "9037    0   0  \n",
       "658     1   1  \n",
       "14317   0   1  \n",
       "13779   0   1  \n",
       "19409   1   0  \n",
       "10062   0   0  \n",
       "10423   0   0  \n",
       "9331    0   0  \n",
       "10275   0   0  \n",
       "\n",
       "[10 rows x 44 columns]"
      ]
     },
     "execution_count": 112,
     "metadata": {},
     "output_type": "execute_result"
    }
   ],
   "source": [
    "# Load the dataset\n",
    "data = pd.read_csv('no_commas_location.csv')\n",
    "data.sample(10)"
   ]
  },
  {
   "cell_type": "code",
   "execution_count": 113,
   "metadata": {},
   "outputs": [],
   "source": [
    "\n",
    "# Group by 'locality' and count occurrences\n",
    "locality_counts = data.groupby('locality').size()\n",
    "\n",
    "# Create a boolean mask to filter rows with repeating unique values\n",
    "repeating_unique_mask = data['locality'].map(locality_counts) > 10\n",
    "\n",
    "# Filter the DataFrame to keep only rows wit\n",
    "data = data[repeating_unique_mask]"
   ]
  },
  {
   "cell_type": "code",
   "execution_count": 114,
   "metadata": {},
   "outputs": [
    {
     "data": {
      "text/plain": [
       "Whitefield              1502\n",
       "HSR Layout               797\n",
       "Banashankari             746\n",
       "Bellandur                619\n",
       "Marathahalli             527\n",
       "                        ... \n",
       "BTM Layout 1st Stage      11\n",
       "Tavarekere                11\n",
       "Kodipur                   11\n",
       "Sampangi Rama Nagar       11\n",
       "Jagadish Nagar            11\n",
       "Name: locality, Length: 198, dtype: int64"
      ]
     },
     "execution_count": 114,
     "metadata": {},
     "output_type": "execute_result"
    }
   ],
   "source": [
    "data['locality'].value_counts()"
   ]
  },
  {
   "cell_type": "code",
   "execution_count": 115,
   "metadata": {},
   "outputs": [
    {
     "data": {
      "text/plain": [
       "198"
      ]
     },
     "execution_count": 115,
     "metadata": {},
     "output_type": "execute_result"
    }
   ],
   "source": [
    "len(data['locality'].unique())"
   ]
  },
  {
   "cell_type": "code",
   "execution_count": 116,
   "metadata": {},
   "outputs": [
    {
     "data": {
      "text/html": [
       "<div>\n",
       "<style scoped>\n",
       "    .dataframe tbody tr th:only-of-type {\n",
       "        vertical-align: middle;\n",
       "    }\n",
       "\n",
       "    .dataframe tbody tr th {\n",
       "        vertical-align: top;\n",
       "    }\n",
       "\n",
       "    .dataframe thead th {\n",
       "        text-align: right;\n",
       "    }\n",
       "</style>\n",
       "<table border=\"1\" class=\"dataframe\">\n",
       "  <thead>\n",
       "    <tr style=\"text-align: right;\">\n",
       "      <th></th>\n",
       "      <th>Unnamed: 0</th>\n",
       "      <th>latitude</th>\n",
       "      <th>longitude</th>\n",
       "      <th>gym</th>\n",
       "      <th>lift</th>\n",
       "      <th>swimming_pool</th>\n",
       "      <th>negotiable</th>\n",
       "      <th>property_size</th>\n",
       "      <th>property_age</th>\n",
       "      <th>bathroom</th>\n",
       "      <th>...</th>\n",
       "      <th>SERVANT</th>\n",
       "      <th>SECURITY</th>\n",
       "      <th>SC</th>\n",
       "      <th>GP</th>\n",
       "      <th>PARK</th>\n",
       "      <th>RWH</th>\n",
       "      <th>STP</th>\n",
       "      <th>HK</th>\n",
       "      <th>PB</th>\n",
       "      <th>VP</th>\n",
       "    </tr>\n",
       "  </thead>\n",
       "  <tbody>\n",
       "    <tr>\n",
       "      <th>0</th>\n",
       "      <td>0</td>\n",
       "      <td>12.934471</td>\n",
       "      <td>77.634471</td>\n",
       "      <td>1.0</td>\n",
       "      <td>1.0</td>\n",
       "      <td>1.0</td>\n",
       "      <td>0.0</td>\n",
       "      <td>1250.0</td>\n",
       "      <td>25.0</td>\n",
       "      <td>2.0</td>\n",
       "      <td>...</td>\n",
       "      <td>0</td>\n",
       "      <td>1</td>\n",
       "      <td>1</td>\n",
       "      <td>1</td>\n",
       "      <td>0</td>\n",
       "      <td>1</td>\n",
       "      <td>1</td>\n",
       "      <td>0</td>\n",
       "      <td>1</td>\n",
       "      <td>1</td>\n",
       "    </tr>\n",
       "    <tr>\n",
       "      <th>1</th>\n",
       "      <td>1</td>\n",
       "      <td>12.929557</td>\n",
       "      <td>77.672280</td>\n",
       "      <td>0.0</td>\n",
       "      <td>1.0</td>\n",
       "      <td>0.0</td>\n",
       "      <td>1.0</td>\n",
       "      <td>1400.0</td>\n",
       "      <td>4.0</td>\n",
       "      <td>2.0</td>\n",
       "      <td>...</td>\n",
       "      <td>0</td>\n",
       "      <td>1</td>\n",
       "      <td>1</td>\n",
       "      <td>0</td>\n",
       "      <td>1</td>\n",
       "      <td>1</td>\n",
       "      <td>1</td>\n",
       "      <td>0</td>\n",
       "      <td>1</td>\n",
       "      <td>1</td>\n",
       "    </tr>\n",
       "    <tr>\n",
       "      <th>3</th>\n",
       "      <td>3</td>\n",
       "      <td>12.955991</td>\n",
       "      <td>77.531634</td>\n",
       "      <td>0.0</td>\n",
       "      <td>0.0</td>\n",
       "      <td>0.0</td>\n",
       "      <td>1.0</td>\n",
       "      <td>600.0</td>\n",
       "      <td>3.0</td>\n",
       "      <td>1.0</td>\n",
       "      <td>...</td>\n",
       "      <td>0</td>\n",
       "      <td>0</td>\n",
       "      <td>0</td>\n",
       "      <td>0</td>\n",
       "      <td>0</td>\n",
       "      <td>0</td>\n",
       "      <td>0</td>\n",
       "      <td>0</td>\n",
       "      <td>0</td>\n",
       "      <td>0</td>\n",
       "    </tr>\n",
       "    <tr>\n",
       "      <th>4</th>\n",
       "      <td>4</td>\n",
       "      <td>12.963903</td>\n",
       "      <td>77.649446</td>\n",
       "      <td>0.0</td>\n",
       "      <td>0.0</td>\n",
       "      <td>0.0</td>\n",
       "      <td>1.0</td>\n",
       "      <td>1500.0</td>\n",
       "      <td>15.0</td>\n",
       "      <td>3.0</td>\n",
       "      <td>...</td>\n",
       "      <td>0</td>\n",
       "      <td>0</td>\n",
       "      <td>0</td>\n",
       "      <td>0</td>\n",
       "      <td>1</td>\n",
       "      <td>0</td>\n",
       "      <td>0</td>\n",
       "      <td>0</td>\n",
       "      <td>0</td>\n",
       "      <td>1</td>\n",
       "    </tr>\n",
       "    <tr>\n",
       "      <th>5</th>\n",
       "      <td>5</td>\n",
       "      <td>12.986196</td>\n",
       "      <td>77.718314</td>\n",
       "      <td>1.0</td>\n",
       "      <td>1.0</td>\n",
       "      <td>1.0</td>\n",
       "      <td>1.0</td>\n",
       "      <td>1080.0</td>\n",
       "      <td>0.0</td>\n",
       "      <td>2.0</td>\n",
       "      <td>...</td>\n",
       "      <td>0</td>\n",
       "      <td>1</td>\n",
       "      <td>0</td>\n",
       "      <td>0</td>\n",
       "      <td>0</td>\n",
       "      <td>0</td>\n",
       "      <td>0</td>\n",
       "      <td>0</td>\n",
       "      <td>1</td>\n",
       "      <td>0</td>\n",
       "    </tr>\n",
       "  </tbody>\n",
       "</table>\n",
       "<p>5 rows × 34 columns</p>\n",
       "</div>"
      ],
      "text/plain": [
       "   Unnamed: 0   latitude  longitude  gym  lift  swimming_pool  negotiable  \\\n",
       "0           0  12.934471  77.634471  1.0   1.0            1.0         0.0   \n",
       "1           1  12.929557  77.672280  0.0   1.0            0.0         1.0   \n",
       "3           3  12.955991  77.531634  0.0   0.0            0.0         1.0   \n",
       "4           4  12.963903  77.649446  0.0   0.0            0.0         1.0   \n",
       "5           5  12.986196  77.718314  1.0   1.0            1.0         1.0   \n",
       "\n",
       "   property_size  property_age  bathroom  ...  SERVANT  SECURITY  SC  GP  \\\n",
       "0         1250.0          25.0       2.0  ...        0         1   1   1   \n",
       "1         1400.0           4.0       2.0  ...        0         1   1   0   \n",
       "3          600.0           3.0       1.0  ...        0         0   0   0   \n",
       "4         1500.0          15.0       3.0  ...        0         0   0   0   \n",
       "5         1080.0           0.0       2.0  ...        0         1   0   0   \n",
       "\n",
       "   PARK  RWH  STP  HK  PB  VP  \n",
       "0     0    1    1   0   1   1  \n",
       "1     1    1    1   0   1   1  \n",
       "3     0    0    0   0   0   0  \n",
       "4     1    0    0   0   0   1  \n",
       "5     0    0    0   0   1   0  \n",
       "\n",
       "[5 rows x 34 columns]"
      ]
     },
     "execution_count": 116,
     "metadata": {},
     "output_type": "execute_result"
    }
   ],
   "source": [
    "df_num = data.select_dtypes(include = ['float64', 'int64'])\n",
    "df_num.head()"
   ]
  },
  {
   "cell_type": "code",
   "execution_count": 88,
   "metadata": {},
   "outputs": [
    {
     "data": {
      "text/plain": [
       "array([[<AxesSubplot:title={'center':'Unnamed: 0'}>,\n",
       "        <AxesSubplot:title={'center':'latitude'}>,\n",
       "        <AxesSubplot:title={'center':'longitude'}>,\n",
       "        <AxesSubplot:title={'center':'gym'}>,\n",
       "        <AxesSubplot:title={'center':'lift'}>,\n",
       "        <AxesSubplot:title={'center':'swimming_pool'}>],\n",
       "       [<AxesSubplot:title={'center':'negotiable'}>,\n",
       "        <AxesSubplot:title={'center':'property_size'}>,\n",
       "        <AxesSubplot:title={'center':'property_age'}>,\n",
       "        <AxesSubplot:title={'center':'bathroom'}>,\n",
       "        <AxesSubplot:title={'center':'cup_board'}>,\n",
       "        <AxesSubplot:title={'center':'floor'}>],\n",
       "       [<AxesSubplot:title={'center':'total_floor'}>,\n",
       "        <AxesSubplot:title={'center':'balconies'}>,\n",
       "        <AxesSubplot:title={'center':'rent'}>,\n",
       "        <AxesSubplot:title={'center':'LIFT'}>,\n",
       "        <AxesSubplot:title={'center':'GYM'}>,\n",
       "        <AxesSubplot:title={'center':'INTERNET'}>],\n",
       "       [<AxesSubplot:title={'center':'AC'}>,\n",
       "        <AxesSubplot:title={'center':'CLUB'}>,\n",
       "        <AxesSubplot:title={'center':'INTERCOM'}>,\n",
       "        <AxesSubplot:title={'center':'POOL'}>,\n",
       "        <AxesSubplot:title={'center':'CPA'}>,\n",
       "        <AxesSubplot:title={'center':'FS'}>],\n",
       "       [<AxesSubplot:title={'center':'SERVANT'}>,\n",
       "        <AxesSubplot:title={'center':'SECURITY'}>,\n",
       "        <AxesSubplot:title={'center':'SC'}>,\n",
       "        <AxesSubplot:title={'center':'GP'}>,\n",
       "        <AxesSubplot:title={'center':'PARK'}>,\n",
       "        <AxesSubplot:title={'center':'RWH'}>],\n",
       "       [<AxesSubplot:title={'center':'STP'}>,\n",
       "        <AxesSubplot:title={'center':'HK'}>,\n",
       "        <AxesSubplot:title={'center':'PB'}>,\n",
       "        <AxesSubplot:title={'center':'VP'}>, <AxesSubplot:>,\n",
       "        <AxesSubplot:>]], dtype=object)"
      ]
     },
     "execution_count": 88,
     "metadata": {},
     "output_type": "execute_result"
    },
    {
     "data": {
      "image/png": "[encoded data removed]",
      "text/plain": [
       "<Figure size 1600x2000 with 36 Axes>"
      ]
     },
     "metadata": {},
     "output_type": "display_data"
    }
   ],
   "source": [
    "df_num.hist(figsize=(16, 20), bins=50, xlabelsize=8, ylabelsize=8)"
   ]
  },
  {
   "cell_type": "code",
   "execution_count": 117,
   "metadata": {},
   "outputs": [
    {
     "name": "stdout",
     "output_type": "stream",
     "text": [
      "<class 'pandas.core.frame.DataFrame'>\n",
      "Int64Index: 18932 entries, 0 to 20554\n",
      "Data columns (total 44 columns):\n",
      " #   Column           Non-Null Count  Dtype  \n",
      "---  ------           --------------  -----  \n",
      " 0   Unnamed: 0       18932 non-null  int64  \n",
      " 1   id               18932 non-null  object \n",
      " 2   type             18932 non-null  object \n",
      " 3   locality         18932 non-null  object \n",
      " 4   activation_date  18932 non-null  object \n",
      " 5   latitude         18932 non-null  float64\n",
      " 6   longitude        18932 non-null  float64\n",
      " 7   lease_type       18932 non-null  object \n",
      " 8   gym              18932 non-null  float64\n",
      " 9   lift             18932 non-null  float64\n",
      " 10  swimming_pool    18932 non-null  float64\n",
      " 11  negotiable       18932 non-null  float64\n",
      " 12  furnishing       18932 non-null  object \n",
      " 13  parking          18932 non-null  object \n",
      " 14  property_size    18932 non-null  float64\n",
      " 15  property_age     18932 non-null  float64\n",
      " 16  bathroom         18932 non-null  float64\n",
      " 17  facing           18932 non-null  object \n",
      " 18  cup_board        18932 non-null  float64\n",
      " 19  floor            18932 non-null  float64\n",
      " 20  total_floor      18932 non-null  float64\n",
      " 21  water_supply     18932 non-null  object \n",
      " 22  building_type    18932 non-null  object \n",
      " 23  balconies        18932 non-null  float64\n",
      " 24  rent             18932 non-null  float64\n",
      " 25  LIFT             18932 non-null  int64  \n",
      " 26  GYM              18932 non-null  int64  \n",
      " 27  INTERNET         18932 non-null  int64  \n",
      " 28  AC               18932 non-null  int64  \n",
      " 29  CLUB             18932 non-null  int64  \n",
      " 30  INTERCOM         18932 non-null  int64  \n",
      " 31  POOL             18932 non-null  int64  \n",
      " 32  CPA              18932 non-null  int64  \n",
      " 33  FS               18932 non-null  int64  \n",
      " 34  SERVANT          18932 non-null  int64  \n",
      " 35  SECURITY         18932 non-null  int64  \n",
      " 36  SC               18932 non-null  int64  \n",
      " 37  GP               18932 non-null  int64  \n",
      " 38  PARK             18932 non-null  int64  \n",
      " 39  RWH              18932 non-null  int64  \n",
      " 40  STP              18932 non-null  int64  \n",
      " 41  HK               18932 non-null  int64  \n",
      " 42  PB               18932 non-null  int64  \n",
      " 43  VP               18932 non-null  int64  \n",
      "dtypes: float64(14), int64(20), object(10)\n",
      "memory usage: 6.5+ MB\n"
     ]
    }
   ],
   "source": [
    "data.info()"
   ]
  },
  {
   "cell_type": "code",
   "execution_count": 126,
   "metadata": {},
   "outputs": [
    {
     "name": "stdout",
     "output_type": "stream",
     "text": [
      "id                 0\n",
      "type               0\n",
      "locality           0\n",
      "activation_date    0\n",
      "latitude           0\n",
      "longitude          0\n",
      "lease_type         0\n",
      "gym                0\n",
      "lift               0\n",
      "swimming_pool      0\n",
      "negotiable         0\n",
      "furnishing         0\n",
      "parking            0\n",
      "property_size      0\n",
      "property_age       0\n",
      "bathroom           0\n",
      "facing             0\n",
      "cup_board          0\n",
      "floor              0\n",
      "total_floor        0\n",
      "water_supply       0\n",
      "building_type      0\n",
      "balconies          0\n",
      "rent               0\n",
      "LIFT               0\n",
      "GYM                0\n",
      "INTERNET           0\n",
      "AC                 0\n",
      "CLUB               0\n",
      "INTERCOM           0\n",
      "POOL               0\n",
      "CPA                0\n",
      "FS                 0\n",
      "SERVANT            0\n",
      "SECURITY           0\n",
      "SC                 0\n",
      "GP                 0\n",
      "PARK               0\n",
      "RWH                0\n",
      "STP                0\n",
      "HK                 0\n",
      "PB                 0\n",
      "VP                 0\n",
      "dtype: int64\n"
     ]
    }
   ],
   "source": [
    "#chaking NA values \n",
    "data['activation_date'] = pd.to_datetime(data['activation_date'])\n",
    "nan_counts_per_column = data.isna().sum()\n",
    "print(nan_counts_per_column)"
   ]
  },
  {
   "cell_type": "code",
   "execution_count": 118,
   "metadata": {},
   "outputs": [
    {
     "name": "stdout",
     "output_type": "stream",
     "text": [
      "Unnamed: 0         0.0\n",
      "id                 0.0\n",
      "type               0.0\n",
      "locality           0.0\n",
      "activation_date    0.0\n",
      "latitude           0.0\n",
      "longitude          0.0\n",
      "lease_type         0.0\n",
      "gym                0.0\n",
      "lift               0.0\n",
      "swimming_pool      0.0\n",
      "negotiable         0.0\n",
      "furnishing         0.0\n",
      "parking            0.0\n",
      "property_size      0.0\n",
      "property_age       0.0\n",
      "bathroom           0.0\n",
      "facing             0.0\n",
      "cup_board          0.0\n",
      "floor              0.0\n",
      "total_floor        0.0\n",
      "water_supply       0.0\n",
      "building_type      0.0\n",
      "balconies          0.0\n",
      "rent               0.0\n",
      "LIFT               0.0\n",
      "GYM                0.0\n",
      "INTERNET           0.0\n",
      "AC                 0.0\n",
      "CLUB               0.0\n",
      "INTERCOM           0.0\n",
      "POOL               0.0\n",
      "CPA                0.0\n",
      "FS                 0.0\n",
      "SERVANT            0.0\n",
      "SECURITY           0.0\n",
      "SC                 0.0\n",
      "GP                 0.0\n",
      "PARK               0.0\n",
      "RWH                0.0\n",
      "STP                0.0\n",
      "HK                 0.0\n",
      "PB                 0.0\n",
      "VP                 0.0\n",
      "dtype: float64\n"
     ]
    }
   ],
   "source": [
    "# NA values %\n",
    "nan_percentage_per_column = (filtered_data.isna().sum() / len(filtered_data)) * 100\n",
    "print(nan_percentage_per_column)"
   ]
  },
  {
   "cell_type": "code",
   "execution_count": 100,
   "metadata": {},
   "outputs": [
    {
     "ename": "KeyError",
     "evalue": "'amenities'",
     "output_type": "error",
     "traceback": [
      "\u001b[1;31m---------------------------------------------------------------------------\u001b[0m",
      "\u001b[1;31mKeyError\u001b[0m                                  Traceback (most recent call last)",
      "File \u001b[1;32mc:\\Users\\hi\\anaconda3\\lib\\site-packages\\pandas\\core\\indexes\\base.py:3621\u001b[0m, in \u001b[0;36mIndex.get_loc\u001b[1;34m(self, key, method, tolerance)\u001b[0m\n\u001b[0;32m   3620\u001b[0m \u001b[39mtry\u001b[39;00m:\n\u001b[1;32m-> 3621\u001b[0m     \u001b[39mreturn\u001b[39;00m \u001b[39mself\u001b[39;49m\u001b[39m.\u001b[39;49m_engine\u001b[39m.\u001b[39;49mget_loc(casted_key)\n\u001b[0;32m   3622\u001b[0m \u001b[39mexcept\u001b[39;00m \u001b[39mKeyError\u001b[39;00m \u001b[39mas\u001b[39;00m err:\n",
      "File \u001b[1;32mc:\\Users\\hi\\anaconda3\\lib\\site-packages\\pandas\\_libs\\index.pyx:136\u001b[0m, in \u001b[0;36mpandas._libs.index.IndexEngine.get_loc\u001b[1;34m()\u001b[0m\n",
      "File \u001b[1;32mc:\\Users\\hi\\anaconda3\\lib\\site-packages\\pandas\\_libs\\index.pyx:163\u001b[0m, in \u001b[0;36mpandas._libs.index.IndexEngine.get_loc\u001b[1;34m()\u001b[0m\n",
      "File \u001b[1;32mpandas\\_libs\\hashtable_class_helper.pxi:5198\u001b[0m, in \u001b[0;36mpandas._libs.hashtable.PyObjectHashTable.get_item\u001b[1;34m()\u001b[0m\n",
      "File \u001b[1;32mpandas\\_libs\\hashtable_class_helper.pxi:5206\u001b[0m, in \u001b[0;36mpandas._libs.hashtable.PyObjectHashTable.get_item\u001b[1;34m()\u001b[0m\n",
      "\u001b[1;31mKeyError\u001b[0m: 'amenities'",
      "\nThe above exception was the direct cause of the following exception:\n",
      "\u001b[1;31mKeyError\u001b[0m                                  Traceback (most recent call last)",
      "Cell \u001b[1;32mIn[100], line 5\u001b[0m\n\u001b[0;32m      2\u001b[0m columns_cata \u001b[39m=\u001b[39m [\u001b[39m'\u001b[39m\u001b[39mtype\u001b[39m\u001b[39m'\u001b[39m, \u001b[39m'\u001b[39m\u001b[39mlocality\u001b[39m\u001b[39m'\u001b[39m, \u001b[39m'\u001b[39m\u001b[39mactivation_date\u001b[39m\u001b[39m'\u001b[39m, \u001b[39m'\u001b[39m\u001b[39mlease_type\u001b[39m\u001b[39m'\u001b[39m, \u001b[39m'\u001b[39m\u001b[39mfurnishing\u001b[39m\u001b[39m'\u001b[39m, \u001b[39m'\u001b[39m\u001b[39mfacing\u001b[39m\u001b[39m'\u001b[39m, \u001b[39m'\u001b[39m\u001b[39mamenities\u001b[39m\u001b[39m'\u001b[39m, \u001b[39m'\u001b[39m\u001b[39mwater_supply\u001b[39m\u001b[39m'\u001b[39m, \u001b[39m'\u001b[39m\u001b[39mbuilding_type\u001b[39m\u001b[39m'\u001b[39m,\u001b[39m'\u001b[39m\u001b[39mparking\u001b[39m\u001b[39m'\u001b[39m]\n\u001b[0;32m      4\u001b[0m \u001b[39mfor\u001b[39;00m col \u001b[39min\u001b[39;00m columns_cata:\n\u001b[1;32m----> 5\u001b[0m     mode_value \u001b[39m=\u001b[39m data[col]\u001b[39m.\u001b[39mmode()[\u001b[39m0\u001b[39m]\n\u001b[0;32m      6\u001b[0m     data[col]\u001b[39m.\u001b[39mfillna(mode_value, inplace\u001b[39m=\u001b[39m\u001b[39mTrue\u001b[39;00m)\n\u001b[0;32m      7\u001b[0m columns_int\u001b[39m=\u001b[39m\u001b[39mset\u001b[39m(data\u001b[39m.\u001b[39mcolumns) \u001b[39m-\u001b[39m \u001b[39mset\u001b[39m(columns_cata) \u001b[39m-\u001b[39m \u001b[39mset\u001b[39m([\u001b[39m'\u001b[39m\u001b[39mid\u001b[39m\u001b[39m'\u001b[39m])\n",
      "File \u001b[1;32mc:\\Users\\hi\\anaconda3\\lib\\site-packages\\pandas\\core\\frame.py:3505\u001b[0m, in \u001b[0;36mDataFrame.__getitem__\u001b[1;34m(self, key)\u001b[0m\n\u001b[0;32m   3503\u001b[0m \u001b[39mif\u001b[39;00m \u001b[39mself\u001b[39m\u001b[39m.\u001b[39mcolumns\u001b[39m.\u001b[39mnlevels \u001b[39m>\u001b[39m \u001b[39m1\u001b[39m:\n\u001b[0;32m   3504\u001b[0m     \u001b[39mreturn\u001b[39;00m \u001b[39mself\u001b[39m\u001b[39m.\u001b[39m_getitem_multilevel(key)\n\u001b[1;32m-> 3505\u001b[0m indexer \u001b[39m=\u001b[39m \u001b[39mself\u001b[39;49m\u001b[39m.\u001b[39;49mcolumns\u001b[39m.\u001b[39;49mget_loc(key)\n\u001b[0;32m   3506\u001b[0m \u001b[39mif\u001b[39;00m is_integer(indexer):\n\u001b[0;32m   3507\u001b[0m     indexer \u001b[39m=\u001b[39m [indexer]\n",
      "File \u001b[1;32mc:\\Users\\hi\\anaconda3\\lib\\site-packages\\pandas\\core\\indexes\\base.py:3623\u001b[0m, in \u001b[0;36mIndex.get_loc\u001b[1;34m(self, key, method, tolerance)\u001b[0m\n\u001b[0;32m   3621\u001b[0m     \u001b[39mreturn\u001b[39;00m \u001b[39mself\u001b[39m\u001b[39m.\u001b[39m_engine\u001b[39m.\u001b[39mget_loc(casted_key)\n\u001b[0;32m   3622\u001b[0m \u001b[39mexcept\u001b[39;00m \u001b[39mKeyError\u001b[39;00m \u001b[39mas\u001b[39;00m err:\n\u001b[1;32m-> 3623\u001b[0m     \u001b[39mraise\u001b[39;00m \u001b[39mKeyError\u001b[39;00m(key) \u001b[39mfrom\u001b[39;00m \u001b[39merr\u001b[39;00m\n\u001b[0;32m   3624\u001b[0m \u001b[39mexcept\u001b[39;00m \u001b[39mTypeError\u001b[39;00m:\n\u001b[0;32m   3625\u001b[0m     \u001b[39m# If we have a listlike key, _check_indexing_error will raise\u001b[39;00m\n\u001b[0;32m   3626\u001b[0m     \u001b[39m#  InvalidIndexError. Otherwise we fall through and re-raise\u001b[39;00m\n\u001b[0;32m   3627\u001b[0m     \u001b[39m#  the TypeError.\u001b[39;00m\n\u001b[0;32m   3628\u001b[0m     \u001b[39mself\u001b[39m\u001b[39m.\u001b[39m_check_indexing_error(key)\n",
      "\u001b[1;31mKeyError\u001b[0m: 'amenities'"
     ]
    }
   ],
   "source": [
    "#Fill Na Values with mode and median\n",
    "columns_cata = ['type', 'locality', 'activation_date', 'lease_type', 'furnishing', 'facing', 'amenities', 'water_supply', 'building_type','parking']\n",
    "\n",
    "for col in columns_cata:\n",
    "    mode_value = data[col].mode()[0]\n",
    "    data[col].fillna(mode_value, inplace=True)\n",
    "columns_int=set(data.columns) - set(columns_cata) - set(['id'])\n",
    "for col in columns_int:\n",
    "    median_value = data[col].median()\n",
    "    data[col].fillna(median_value, inplace=True)\n"
   ]
  },
  {
   "cell_type": "code",
   "execution_count": 10,
   "metadata": {},
   "outputs": [
    {
     "name": "stdout",
     "output_type": "stream",
     "text": [
      "id                 0.0\n",
      "type               0.0\n",
      "locality           0.0\n",
      "activation_date    0.0\n",
      "latitude           0.0\n",
      "longitude          0.0\n",
      "lease_type         0.0\n",
      "gym                0.0\n",
      "lift               0.0\n",
      "swimming_pool      0.0\n",
      "negotiable         0.0\n",
      "furnishing         0.0\n",
      "parking            0.0\n",
      "property_size      0.0\n",
      "property_age       0.0\n",
      "bathroom           0.0\n",
      "facing             0.0\n",
      "cup_board          0.0\n",
      "floor              0.0\n",
      "total_floor        0.0\n",
      "amenities          0.0\n",
      "water_supply       0.0\n",
      "building_type      0.0\n",
      "balconies          0.0\n",
      "rent               0.0\n",
      "dtype: float64\n"
     ]
    }
   ],
   "source": [
    "# NA values %\n",
    "nan_percentage_per_column = (data.isna().sum() / len(data)) * 100\n",
    "print(nan_percentage_per_column)"
   ]
  },
  {
   "cell_type": "code",
   "execution_count": 11,
   "metadata": {},
   "outputs": [],
   "source": [
    "#categorical variable\n",
    "#Extract the amenities column and convert it from a JSON-like string to a dictionary\n",
    "data['amenities'] = data['amenities'].apply(json.loads)\n",
    "#Extract amenities and create new columns\n",
    "amenities_list = ['LIFT', 'GYM', 'INTERNET', 'AC', 'CLUB', 'INTERCOM', 'POOL', 'CPA', 'FS', 'SERVANT', 'SECURITY', 'SC', 'GP', 'PARK', 'RWH', 'STP', 'HK', 'PB', 'VP']\n",
    "for amenity in amenities_list:\n",
    "    data[amenity] = data['amenities'].apply(lambda x: 1 if amenity in x and x[amenity] else 0)\n",
    "#Drop the original 'amenities' column if no longer needed\n",
    "data.drop('amenities', axis=1, inplace=True)"
   ]
  },
  {
   "cell_type": "code",
   "execution_count": 119,
   "metadata": {},
   "outputs": [
    {
     "data": {
      "text/plain": [
       "0        1\n",
       "1        0\n",
       "3        0\n",
       "4        0\n",
       "5        1\n",
       "        ..\n",
       "20550    0\n",
       "20551    0\n",
       "20552    0\n",
       "20553    0\n",
       "20554    0\n",
       "Name: GYM, Length: 18932, dtype: int64"
      ]
     },
     "execution_count": 119,
     "metadata": {},
     "output_type": "execute_result"
    }
   ],
   "source": []
  },
  {
   "cell_type": "code",
   "execution_count": 101,
   "metadata": {},
   "outputs": [
    {
     "data": {
      "image/png": "[encoded data removed]",
      "text/plain": [
       "<Figure size 1200x1000 with 2 Axes>"
      ]
     },
     "metadata": {},
     "output_type": "display_data"
    }
   ],
   "source": [
    "correlation_matrix = data.corr()\n",
    "\n",
    "# Plot a heatmap of the correlation matrix\n",
    "plt.figure(figsize=(12, 10))\n",
    "sns.heatmap(correlation_matrix, cmap='coolwarm')\n",
    "plt.title(\"Correlation Heatmap\")\n",
    "plt.show()"
   ]
  },
  {
   "cell_type": "code",
   "execution_count": 102,
   "metadata": {},
   "outputs": [
    {
     "name": "stdout",
     "output_type": "stream",
     "text": [
      "Correlation with the target variable:\n",
      "rent             1.000000\n",
      "bathroom         0.679920\n",
      "property_size    0.582598\n",
      "LIFT             0.492946\n",
      "PB               0.483563\n",
      "balconies        0.476877\n",
      "lift             0.463695\n",
      "POOL             0.458775\n",
      "GYM              0.451418\n",
      "total_floor      0.440989\n",
      "swimming_pool    0.438717\n",
      "gym              0.433268\n",
      "CLUB             0.431906\n",
      "SECURITY         0.414413\n",
      "FS               0.413169\n",
      "INTERCOM         0.398068\n",
      "CPA              0.342497\n",
      "VP               0.318126\n",
      "floor            0.310666\n",
      "HK               0.310035\n",
      "RWH              0.284758\n",
      "STP              0.276824\n",
      "longitude        0.263012\n",
      "AC               0.233342\n",
      "GP               0.223994\n",
      "SERVANT          0.203332\n",
      "PARK             0.145756\n",
      "negotiable       0.058840\n",
      "latitude         0.036180\n",
      "Unnamed: 0       0.005357\n",
      "cup_board       -0.001601\n",
      "property_age    -0.009381\n",
      "SC              -0.009401\n",
      "INTERNET        -0.019503\n",
      "Name: rent, dtype: float64\n"
     ]
    }
   ],
   "source": [
    "# Extract correlations with the target variable\n",
    "target_correlations = correlation_matrix['rent'].sort_values(ascending=False)\n",
    "\n",
    "print(\"Correlation with the target variable:\")\n",
    "print(target_correlations)\n"
   ]
  },
  {
   "cell_type": "code",
   "execution_count": 120,
   "metadata": {},
   "outputs": [],
   "source": [
    "data.drop(columns=['Unnamed: 0'],inplace=True)"
   ]
  },
  {
   "cell_type": "code",
   "execution_count": 123,
   "metadata": {},
   "outputs": [
    {
     "name": "stdout",
     "output_type": "stream",
     "text": [
      "<class 'pandas.core.frame.DataFrame'>\n",
      "Int64Index: 18932 entries, 0 to 20554\n",
      "Data columns (total 43 columns):\n",
      " #   Column           Non-Null Count  Dtype  \n",
      "---  ------           --------------  -----  \n",
      " 0   id               18932 non-null  object \n",
      " 1   type             18932 non-null  object \n",
      " 2   locality         18932 non-null  object \n",
      " 3   activation_date  18932 non-null  object \n",
      " 4   latitude         18932 non-null  float64\n",
      " 5   longitude        18932 non-null  float64\n",
      " 6   lease_type       18932 non-null  object \n",
      " 7   gym              18932 non-null  float64\n",
      " 8   lift             18932 non-null  float64\n",
      " 9   swimming_pool    18932 non-null  float64\n",
      " 10  negotiable       18932 non-null  float64\n",
      " 11  furnishing       18932 non-null  object \n",
      " 12  parking          18932 non-null  object \n",
      " 13  property_size    18932 non-null  float64\n",
      " 14  property_age     18932 non-null  float64\n",
      " 15  bathroom         18932 non-null  float64\n",
      " 16  facing           18932 non-null  object \n",
      " 17  cup_board        18932 non-null  float64\n",
      " 18  floor            18932 non-null  float64\n",
      " 19  total_floor      18932 non-null  float64\n",
      " 20  water_supply     18932 non-null  object \n",
      " 21  building_type    18932 non-null  object \n",
      " 22  balconies        18932 non-null  float64\n",
      " 23  rent             18932 non-null  float64\n",
      " 24  LIFT             18932 non-null  int64  \n",
      " 25  GYM              18932 non-null  int64  \n",
      " 26  INTERNET         18932 non-null  int64  \n",
      " 27  AC               18932 non-null  int64  \n",
      " 28  CLUB             18932 non-null  int64  \n",
      " 29  INTERCOM         18932 non-null  int64  \n",
      " 30  POOL             18932 non-null  int64  \n",
      " 31  CPA              18932 non-null  int64  \n",
      " 32  FS               18932 non-null  int64  \n",
      " 33  SERVANT          18932 non-null  int64  \n",
      " 34  SECURITY         18932 non-null  int64  \n",
      " 35  SC               18932 non-null  int64  \n",
      " 36  GP               18932 non-null  int64  \n",
      " 37  PARK             18932 non-null  int64  \n",
      " 38  RWH              18932 non-null  int64  \n",
      " 39  STP              18932 non-null  int64  \n",
      " 40  HK               18932 non-null  int64  \n",
      " 41  PB               18932 non-null  int64  \n",
      " 42  VP               18932 non-null  int64  \n",
      "dtypes: float64(14), int64(19), object(10)\n",
      "memory usage: 6.4+ MB\n"
     ]
    }
   ],
   "source": [
    "#drop when corr value < 0.1 with rent data set\n",
    "columns_to_drop=['negotiable','cup_board','SC','property_age','INTERNET']\n",
    "df=data.drop(columns=columns_to_drop)\n",
    "data.info()"
   ]
  },
  {
   "cell_type": "code",
   "execution_count": 127,
   "metadata": {},
   "outputs": [
    {
     "ename": "TypeError",
     "evalue": "unsupported operand type(s) for -: 'Timestamp' and 'str'",
     "output_type": "error",
     "traceback": [
      "\u001b[1;31m---------------------------------------------------------------------------\u001b[0m",
      "\u001b[1;31mTypeError\u001b[0m                                 Traceback (most recent call last)",
      "Cell \u001b[1;32mIn[127], line 3\u001b[0m\n\u001b[0;32m      1\u001b[0m \u001b[39m# calculate Age and drop the date time\u001b[39;00m\n\u001b[0;32m      2\u001b[0m current_date \u001b[39m=\u001b[39m datetime\u001b[39m.\u001b[39mtoday()\n\u001b[1;32m----> 3\u001b[0m df[\u001b[39m'\u001b[39m\u001b[39mage_of_property\u001b[39m\u001b[39m'\u001b[39m] \u001b[39m=\u001b[39m (current_date \u001b[39m-\u001b[39;49m df[\u001b[39m'\u001b[39;49m\u001b[39mactivation_date\u001b[39;49m\u001b[39m'\u001b[39;49m])\u001b[39m.\u001b[39mdt\u001b[39m.\u001b[39mdays \u001b[39m/\u001b[39m\u001b[39m/\u001b[39m \u001b[39m365\u001b[39m\n\u001b[0;32m      4\u001b[0m df\u001b[39m.\u001b[39mdrop(columns\u001b[39m=\u001b[39m[\u001b[39m'\u001b[39m\u001b[39mactivation_date\u001b[39m\u001b[39m'\u001b[39m],inplace\u001b[39m=\u001b[39m\u001b[39mTrue\u001b[39;00m)\n\u001b[0;32m      5\u001b[0m df\u001b[39m.\u001b[39mcolumns\n",
      "File \u001b[1;32mc:\\Users\\hi\\anaconda3\\lib\\site-packages\\pandas\\core\\ops\\common.py:70\u001b[0m, in \u001b[0;36m_unpack_zerodim_and_defer.<locals>.new_method\u001b[1;34m(self, other)\u001b[0m\n\u001b[0;32m     66\u001b[0m             \u001b[39mreturn\u001b[39;00m \u001b[39mNotImplemented\u001b[39m\n\u001b[0;32m     68\u001b[0m other \u001b[39m=\u001b[39m item_from_zerodim(other)\n\u001b[1;32m---> 70\u001b[0m \u001b[39mreturn\u001b[39;00m method(\u001b[39mself\u001b[39;49m, other)\n",
      "File \u001b[1;32mc:\\Users\\hi\\anaconda3\\lib\\site-packages\\pandas\\core\\arraylike.py:112\u001b[0m, in \u001b[0;36mOpsMixin.__rsub__\u001b[1;34m(self, other)\u001b[0m\n\u001b[0;32m    110\u001b[0m \u001b[39m@unpack_zerodim_and_defer\u001b[39m(\u001b[39m\"\u001b[39m\u001b[39m__rsub__\u001b[39m\u001b[39m\"\u001b[39m)\n\u001b[0;32m    111\u001b[0m \u001b[39mdef\u001b[39;00m \u001b[39m__rsub__\u001b[39m(\u001b[39mself\u001b[39m, other):\n\u001b[1;32m--> 112\u001b[0m     \u001b[39mreturn\u001b[39;00m \u001b[39mself\u001b[39;49m\u001b[39m.\u001b[39;49m_arith_method(other, roperator\u001b[39m.\u001b[39;49mrsub)\n",
      "File \u001b[1;32mc:\\Users\\hi\\anaconda3\\lib\\site-packages\\pandas\\core\\series.py:5639\u001b[0m, in \u001b[0;36mSeries._arith_method\u001b[1;34m(self, other, op)\u001b[0m\n\u001b[0;32m   5637\u001b[0m \u001b[39mdef\u001b[39;00m \u001b[39m_arith_method\u001b[39m(\u001b[39mself\u001b[39m, other, op):\n\u001b[0;32m   5638\u001b[0m     \u001b[39mself\u001b[39m, other \u001b[39m=\u001b[39m ops\u001b[39m.\u001b[39malign_method_SERIES(\u001b[39mself\u001b[39m, other)\n\u001b[1;32m-> 5639\u001b[0m     \u001b[39mreturn\u001b[39;00m base\u001b[39m.\u001b[39;49mIndexOpsMixin\u001b[39m.\u001b[39;49m_arith_method(\u001b[39mself\u001b[39;49m, other, op)\n",
      "File \u001b[1;32mc:\\Users\\hi\\anaconda3\\lib\\site-packages\\pandas\\core\\base.py:1295\u001b[0m, in \u001b[0;36mIndexOpsMixin._arith_method\u001b[1;34m(self, other, op)\u001b[0m\n\u001b[0;32m   1292\u001b[0m rvalues \u001b[39m=\u001b[39m ensure_wrapped_if_datetimelike(rvalues)\n\u001b[0;32m   1294\u001b[0m \u001b[39mwith\u001b[39;00m np\u001b[39m.\u001b[39merrstate(\u001b[39mall\u001b[39m\u001b[39m=\u001b[39m\u001b[39m\"\u001b[39m\u001b[39mignore\u001b[39m\u001b[39m\"\u001b[39m):\n\u001b[1;32m-> 1295\u001b[0m     result \u001b[39m=\u001b[39m ops\u001b[39m.\u001b[39;49marithmetic_op(lvalues, rvalues, op)\n\u001b[0;32m   1297\u001b[0m \u001b[39mreturn\u001b[39;00m \u001b[39mself\u001b[39m\u001b[39m.\u001b[39m_construct_result(result, name\u001b[39m=\u001b[39mres_name)\n",
      "File \u001b[1;32mc:\\Users\\hi\\anaconda3\\lib\\site-packages\\pandas\\core\\ops\\array_ops.py:216\u001b[0m, in \u001b[0;36marithmetic_op\u001b[1;34m(left, right, op)\u001b[0m\n\u001b[0;32m    203\u001b[0m \u001b[39m# NB: We assume that extract_array and ensure_wrapped_if_datetimelike\u001b[39;00m\n\u001b[0;32m    204\u001b[0m \u001b[39m#  have already been called on `left` and `right`,\u001b[39;00m\n\u001b[0;32m    205\u001b[0m \u001b[39m#  and `maybe_prepare_scalar_for_op` has already been called on `right`\u001b[39;00m\n\u001b[0;32m    206\u001b[0m \u001b[39m# We need to special-case datetime64/timedelta64 dtypes (e.g. because numpy\u001b[39;00m\n\u001b[0;32m    207\u001b[0m \u001b[39m# casts integer dtypes to timedelta64 when operating with timedelta64 - GH#22390)\u001b[39;00m\n\u001b[0;32m    209\u001b[0m \u001b[39mif\u001b[39;00m (\n\u001b[0;32m    210\u001b[0m     should_extension_dispatch(left, right)\n\u001b[0;32m    211\u001b[0m     \u001b[39mor\u001b[39;00m \u001b[39misinstance\u001b[39m(right, (Timedelta, BaseOffset, Timestamp))\n\u001b[1;32m   (...)\u001b[0m\n\u001b[0;32m    214\u001b[0m     \u001b[39m# Timedelta/Timestamp and other custom scalars are included in the check\u001b[39;00m\n\u001b[0;32m    215\u001b[0m     \u001b[39m# because numexpr will fail on it, see GH#31457\u001b[39;00m\n\u001b[1;32m--> 216\u001b[0m     res_values \u001b[39m=\u001b[39m op(left, right)\n\u001b[0;32m    217\u001b[0m \u001b[39melse\u001b[39;00m:\n\u001b[0;32m    218\u001b[0m     \u001b[39m# TODO we should handle EAs consistently and move this check before the if/else\u001b[39;00m\n\u001b[0;32m    219\u001b[0m     \u001b[39m# (https://github.com/pandas-dev/pandas/issues/41165)\u001b[39;00m\n\u001b[0;32m    220\u001b[0m     _bool_arith_check(op, left, right)\n",
      "File \u001b[1;32mc:\\Users\\hi\\anaconda3\\lib\\site-packages\\pandas\\core\\roperator.py:13\u001b[0m, in \u001b[0;36mrsub\u001b[1;34m(left, right)\u001b[0m\n\u001b[0;32m     12\u001b[0m \u001b[39mdef\u001b[39;00m \u001b[39mrsub\u001b[39m(left, right):\n\u001b[1;32m---> 13\u001b[0m     \u001b[39mreturn\u001b[39;00m right \u001b[39m-\u001b[39;49m left\n",
      "\u001b[1;31mTypeError\u001b[0m: unsupported operand type(s) for -: 'Timestamp' and 'str'"
     ]
    }
   ],
   "source": [
    "# calculate Age and drop the date time\n",
    "current_date = datetime.today()\n",
    "df['age_of_property'] = (current_date - df['activation_date']).dt.days // 365\n",
    "df.drop(columns=['activation_date'],inplace=True)\n",
    "df.columns"
   ]
  },
  {
   "cell_type": "code",
   "execution_count": 125,
   "metadata": {},
   "outputs": [
    {
     "ename": "NameError",
     "evalue": "name 'age_of_property' is not defined",
     "output_type": "error",
     "traceback": [
      "\u001b[1;31m---------------------------------------------------------------------------\u001b[0m",
      "\u001b[1;31mNameError\u001b[0m                                 Traceback (most recent call last)",
      "Cell \u001b[1;32mIn[125], line 1\u001b[0m\n\u001b[1;32m----> 1\u001b[0m age_of_property[\u001b[39m'\u001b[39m\u001b[39mage_of_property\u001b[39m\u001b[39m'\u001b[39m]\n",
      "\u001b[1;31mNameError\u001b[0m: name 'age_of_property' is not defined"
     ]
    }
   ],
   "source": []
  },
  {
   "cell_type": "code",
   "execution_count": 18,
   "metadata": {},
   "outputs": [],
   "source": [
    "#drop high correlated value > 0.8\n",
    "df.drop(columns=['lift','gym','swimming_pool'],inplace=True)"
   ]
  },
  {
   "cell_type": "code",
   "execution_count": 21,
   "metadata": {},
   "outputs": [
    {
     "data": {
      "image/png": "[encoded data removed]",
      "text/plain": [
       "<Figure size 864x720 with 2 Axes>"
      ]
     },
     "metadata": {
      "needs_background": "light"
     },
     "output_type": "display_data"
    }
   ],
   "source": [
    "correlation_matrix = df.corr()\n",
    "# Filter correlation values based on the threshold\n",
    "threshold = 0.75\n",
    "filtered_corr_matrix = correlation_matrix[abs(correlation_matrix) > threshold]\n",
    "\n",
    "# Plot a heatmap of the filtered correlation matrix\n",
    "plt.figure(figsize=(12, 10))\n",
    "sns.heatmap(filtered_corr_matrix, cmap='coolwarm')\n",
    "plt.title(\"Correlation Heatmap (Threshold > 0.85)\")\n",
    "plt.show()"
   ]
  },
  {
   "cell_type": "code",
   "execution_count": 19,
   "metadata": {},
   "outputs": [
    {
     "data": {
      "text/plain": [
       "(20555, 35)"
      ]
     },
     "execution_count": 19,
     "metadata": {},
     "output_type": "execute_result"
    }
   ],
   "source": [
    "df.shape"
   ]
  },
  {
   "cell_type": "code",
   "execution_count": 25,
   "metadata": {},
   "outputs": [
    {
     "name": "stdout",
     "output_type": "stream",
     "text": [
      "<class 'pandas.core.frame.DataFrame'>\n",
      "RangeIndex: 20555 entries, 0 to 20554\n",
      "Data columns (total 35 columns):\n",
      " #   Column           Non-Null Count  Dtype  \n",
      "---  ------           --------------  -----  \n",
      " 0   id               20555 non-null  object \n",
      " 1   type             20555 non-null  object \n",
      " 2   locality         20555 non-null  object \n",
      " 3   latitude         20555 non-null  float64\n",
      " 4   longitude        20555 non-null  float64\n",
      " 5   lease_type       20555 non-null  object \n",
      " 6   furnishing       20555 non-null  object \n",
      " 7   parking          20555 non-null  object \n",
      " 8   property_size    20555 non-null  float64\n",
      " 9   bathroom         20555 non-null  float64\n",
      " 10  facing           20555 non-null  object \n",
      " 11  floor            20555 non-null  float64\n",
      " 12  total_floor      20555 non-null  float64\n",
      " 13  water_supply     20555 non-null  object \n",
      " 14  building_type    20555 non-null  object \n",
      " 15  balconies        20555 non-null  float64\n",
      " 16  rent             20555 non-null  float64\n",
      " 17  LIFT             20555 non-null  int64  \n",
      " 18  GYM              20555 non-null  int64  \n",
      " 19  AC               20555 non-null  int64  \n",
      " 20  CLUB             20555 non-null  int64  \n",
      " 21  INTERCOM         20555 non-null  int64  \n",
      " 22  POOL             20555 non-null  int64  \n",
      " 23  CPA              20555 non-null  int64  \n",
      " 24  FS               20555 non-null  int64  \n",
      " 25  SERVANT          20555 non-null  int64  \n",
      " 26  SECURITY         20555 non-null  int64  \n",
      " 27  GP               20555 non-null  int64  \n",
      " 28  PARK             20555 non-null  int64  \n",
      " 29  RWH              20555 non-null  int64  \n",
      " 30  STP              20555 non-null  int64  \n",
      " 31  HK               20555 non-null  int64  \n",
      " 32  PB               20555 non-null  int64  \n",
      " 33  VP               20555 non-null  int64  \n",
      " 34  age_of_property  20555 non-null  int64  \n",
      "dtypes: float64(8), int64(18), object(9)\n",
      "memory usage: 5.5+ MB\n"
     ]
    }
   ],
   "source": [
    "df.info()"
   ]
  },
  {
   "cell_type": "markdown",
   "metadata": {},
   "source": [
    "# Chcek Column by column for outliers "
   ]
  },
  {
   "cell_type": "code",
   "execution_count": 20,
   "metadata": {},
   "outputs": [
    {
     "data": {
      "text/plain": [
       "BHK2        11705\n",
       "BHK3         4388\n",
       "BHK1         3613\n",
       "RK1           553\n",
       "BHK4          233\n",
       "BHK4PLUS       31\n",
       "bhk2           16\n",
       "bhk3           12\n",
       "1BHK1           4\n",
       "Name: type, dtype: int64"
      ]
     },
     "execution_count": 20,
     "metadata": {},
     "output_type": "execute_result"
    }
   ],
   "source": [
    "df['type'].value_counts()"
   ]
  },
  {
   "cell_type": "code",
   "execution_count": 21,
   "metadata": {},
   "outputs": [
    {
     "data": {
      "text/plain": [
       "BHK2        11721\n",
       "BHK3         4400\n",
       "BHK1         3617\n",
       "RK1           553\n",
       "BHK4          233\n",
       "BHK4PLUS       31\n",
       "Name: type, dtype: int64"
      ]
     },
     "execution_count": 21,
     "metadata": {},
     "output_type": "execute_result"
    }
   ],
   "source": [
    "df['type'] = df['type'].replace('1BHK1', 'BHK1')\n",
    "df['type'] = df['type'].replace('bhk2', 'BHK2')\n",
    "df['type'] = df['type'].replace('bhk3', 'BHK3')\n",
    "df['type'].value_counts()\n"
   ]
  },
  {
   "cell_type": "code",
   "execution_count": 25,
   "metadata": {},
   "outputs": [
    {
     "data": {
      "text/plain": [
       "FAMILY      10213\n",
       "ANYONE       9697\n",
       "BACHELOR      587\n",
       "COMPANY        58\n",
       "Name: lease_type, dtype: int64"
      ]
     },
     "execution_count": 25,
     "metadata": {},
     "output_type": "execute_result"
    }
   ],
   "source": [
    "df['lease_type'].value_counts()"
   ]
  },
  {
   "cell_type": "code",
   "execution_count": 26,
   "metadata": {},
   "outputs": [
    {
     "data": {
      "text/plain": [
       "SEMI_FURNISHED     17950\n",
       "NOT_FURNISHED       1429\n",
       "FULLY_FURNISHED     1176\n",
       "Name: furnishing, dtype: int64"
      ]
     },
     "execution_count": 26,
     "metadata": {},
     "output_type": "execute_result"
    }
   ],
   "source": [
    "df['furnishing'].value_counts()"
   ]
  },
  {
   "cell_type": "code",
   "execution_count": 27,
   "metadata": {},
   "outputs": [
    {
     "data": {
      "text/plain": [
       "BOTH            10841\n",
       "TWO_WHEELER      7224\n",
       "FOUR_WHEELER     1448\n",
       "NONE             1042\n",
       "Name: parking, dtype: int64"
      ]
     },
     "execution_count": 27,
     "metadata": {},
     "output_type": "execute_result"
    }
   ],
   "source": [
    "df['parking'].value_counts()"
   ]
  },
  {
   "cell_type": "code",
   "execution_count": 33,
   "metadata": {},
   "outputs": [
    {
     "data": {
      "text/plain": [
       "CORP_BORE      10421\n",
       "CORPORATION     6569\n",
       "BOREWELL        3014\n",
       "Name: water_supply, dtype: int64"
      ]
     },
     "execution_count": 33,
     "metadata": {},
     "output_type": "execute_result"
    }
   ],
   "source": [
    "df['water_supply'].value_counts()"
   ]
  },
  {
   "cell_type": "code",
   "execution_count": 34,
   "metadata": {},
   "outputs": [
    {
     "data": {
      "text/plain": [
       "IF    9130\n",
       "AP    8668\n",
       "IH    2198\n",
       "GC       8\n",
       "Name: building_type, dtype: int64"
      ]
     },
     "execution_count": 34,
     "metadata": {},
     "output_type": "execute_result"
    }
   ],
   "source": [
    "df['building_type'].value_counts()"
   ]
  },
  {
   "cell_type": "code",
   "execution_count": 35,
   "metadata": {},
   "outputs": [
    {
     "data": {
      "text/plain": [
       "BHK2        11686\n",
       "BHK3         4047\n",
       "BHK1         3613\n",
       "RK1           552\n",
       "BHK4           96\n",
       "BHK4PLUS       10\n",
       "Name: type, dtype: int64"
      ]
     },
     "execution_count": 35,
     "metadata": {},
     "output_type": "execute_result"
    }
   ],
   "source": [
    "df['type'].value_counts()"
   ]
  },
  {
   "cell_type": "code",
   "execution_count": 36,
   "metadata": {},
   "outputs": [],
   "source": [
    "label_encoder = LabelEncoder()\n",
    "# For lease_type\n",
    "df['lease_type_encoded'] = label_encoder.fit_transform(df['lease_type'])\n",
    "# Drop the original 'lease_type' column\n",
    "df.drop(columns=['lease_type'], inplace=True)\n",
    "\n",
    "#\n",
    "df['furnishing_encoded'] = label_encoder.fit_transform(df['furnishing'])\n",
    "df.drop(columns=['furnishing'], inplace=True)\n",
    "\n",
    "#\n",
    "df['parking_encoded'] = label_encoder.fit_transform(df['parking'])\n",
    "df.drop(columns=['parking'], inplace=True)\n",
    "\n",
    "#\n",
    "df['water_supply_encoded'] = label_encoder.fit_transform(df['water_supply'])\n",
    "df.drop(columns=['water_supply'], inplace=True)\n",
    "\n",
    "#\n",
    "df['building_type_encoded'] = label_encoder.fit_transform(df['building_type'])\n",
    "df.drop(columns=['building_type'], inplace=True)\n",
    "\n",
    "#\n",
    "df['BHK_type_encoded'] = label_encoder.fit_transform(df['type'])\n",
    "df.drop(columns = ['type'], inplace=True)"
   ]
  },
  {
   "cell_type": "code",
   "execution_count": 23,
   "metadata": {},
   "outputs": [
    {
     "data": {
      "text/html": [
       "<div>\n",
       "<style scoped>\n",
       "    .dataframe tbody tr th:only-of-type {\n",
       "        vertical-align: middle;\n",
       "    }\n",
       "\n",
       "    .dataframe tbody tr th {\n",
       "        vertical-align: top;\n",
       "    }\n",
       "\n",
       "    .dataframe thead th {\n",
       "        text-align: right;\n",
       "    }\n",
       "</style>\n",
       "<table border=\"1\" class=\"dataframe\">\n",
       "  <thead>\n",
       "    <tr style=\"text-align: right;\">\n",
       "      <th></th>\n",
       "      <th>id</th>\n",
       "      <th>type</th>\n",
       "      <th>locality</th>\n",
       "      <th>latitude</th>\n",
       "      <th>longitude</th>\n",
       "      <th>lease_type</th>\n",
       "      <th>furnishing</th>\n",
       "      <th>parking</th>\n",
       "      <th>property_size</th>\n",
       "      <th>bathroom</th>\n",
       "      <th>...</th>\n",
       "      <th>SECURITY</th>\n",
       "      <th>GP</th>\n",
       "      <th>PARK</th>\n",
       "      <th>RWH</th>\n",
       "      <th>STP</th>\n",
       "      <th>HK</th>\n",
       "      <th>PB</th>\n",
       "      <th>VP</th>\n",
       "      <th>age_of_property</th>\n",
       "      <th>lease_type_encoded</th>\n",
       "    </tr>\n",
       "  </thead>\n",
       "  <tbody>\n",
       "    <tr>\n",
       "      <th>0</th>\n",
       "      <td>ff8081815733a243015733b2876600a6</td>\n",
       "      <td>BHK2</td>\n",
       "      <td>Whitefield</td>\n",
       "      <td>12.934471</td>\n",
       "      <td>77.634471</td>\n",
       "      <td>FAMILY</td>\n",
       "      <td>SEMI_FURNISHED</td>\n",
       "      <td>BOTH</td>\n",
       "      <td>1250.0</td>\n",
       "      <td>2.0</td>\n",
       "      <td>...</td>\n",
       "      <td>1</td>\n",
       "      <td>1</td>\n",
       "      <td>0</td>\n",
       "      <td>1</td>\n",
       "      <td>1</td>\n",
       "      <td>0</td>\n",
       "      <td>1</td>\n",
       "      <td>1</td>\n",
       "      <td>5</td>\n",
       "      <td>3</td>\n",
       "    </tr>\n",
       "    <tr>\n",
       "      <th>1</th>\n",
       "      <td>ff8081815ee25e15015ee50004da2acd</td>\n",
       "      <td>BHK2</td>\n",
       "      <td>Bellandur</td>\n",
       "      <td>12.929557</td>\n",
       "      <td>77.672280</td>\n",
       "      <td>ANYONE</td>\n",
       "      <td>SEMI_FURNISHED</td>\n",
       "      <td>BOTH</td>\n",
       "      <td>1400.0</td>\n",
       "      <td>2.0</td>\n",
       "      <td>...</td>\n",
       "      <td>1</td>\n",
       "      <td>0</td>\n",
       "      <td>1</td>\n",
       "      <td>1</td>\n",
       "      <td>1</td>\n",
       "      <td>0</td>\n",
       "      <td>1</td>\n",
       "      <td>1</td>\n",
       "      <td>5</td>\n",
       "      <td>0</td>\n",
       "    </tr>\n",
       "    <tr>\n",
       "      <th>2</th>\n",
       "      <td>ff80818163f29c9e0163f46770b873e7</td>\n",
       "      <td>BHK3</td>\n",
       "      <td>Thiruvanmiyur</td>\n",
       "      <td>12.982870</td>\n",
       "      <td>80.262012</td>\n",
       "      <td>FAMILY</td>\n",
       "      <td>SEMI_FURNISHED</td>\n",
       "      <td>BOTH</td>\n",
       "      <td>1350.0</td>\n",
       "      <td>3.0</td>\n",
       "      <td>...</td>\n",
       "      <td>0</td>\n",
       "      <td>0</td>\n",
       "      <td>1</td>\n",
       "      <td>0</td>\n",
       "      <td>0</td>\n",
       "      <td>0</td>\n",
       "      <td>1</td>\n",
       "      <td>1</td>\n",
       "      <td>4</td>\n",
       "      <td>3</td>\n",
       "    </tr>\n",
       "    <tr>\n",
       "      <th>3</th>\n",
       "      <td>ff80818164b68a700164b74b1b247a1d</td>\n",
       "      <td>BHK1</td>\n",
       "      <td>Attiguppe</td>\n",
       "      <td>12.955991</td>\n",
       "      <td>77.531634</td>\n",
       "      <td>FAMILY</td>\n",
       "      <td>SEMI_FURNISHED</td>\n",
       "      <td>TWO_WHEELER</td>\n",
       "      <td>600.0</td>\n",
       "      <td>1.0</td>\n",
       "      <td>...</td>\n",
       "      <td>0</td>\n",
       "      <td>0</td>\n",
       "      <td>0</td>\n",
       "      <td>0</td>\n",
       "      <td>0</td>\n",
       "      <td>0</td>\n",
       "      <td>0</td>\n",
       "      <td>0</td>\n",
       "      <td>5</td>\n",
       "      <td>3</td>\n",
       "    </tr>\n",
       "    <tr>\n",
       "      <th>4</th>\n",
       "      <td>ff80818163b1faf00163b4b9b8a163b1</td>\n",
       "      <td>BHK3</td>\n",
       "      <td>Kodihalli</td>\n",
       "      <td>12.963903</td>\n",
       "      <td>77.649446</td>\n",
       "      <td>FAMILY</td>\n",
       "      <td>SEMI_FURNISHED</td>\n",
       "      <td>BOTH</td>\n",
       "      <td>1500.0</td>\n",
       "      <td>3.0</td>\n",
       "      <td>...</td>\n",
       "      <td>0</td>\n",
       "      <td>0</td>\n",
       "      <td>1</td>\n",
       "      <td>0</td>\n",
       "      <td>0</td>\n",
       "      <td>0</td>\n",
       "      <td>0</td>\n",
       "      <td>1</td>\n",
       "      <td>5</td>\n",
       "      <td>3</td>\n",
       "    </tr>\n",
       "  </tbody>\n",
       "</table>\n",
       "<p>5 rows × 36 columns</p>\n",
       "</div>"
      ],
      "text/plain": [
       "                                 id  type       locality   latitude  \\\n",
       "0  ff8081815733a243015733b2876600a6  BHK2     Whitefield  12.934471   \n",
       "1  ff8081815ee25e15015ee50004da2acd  BHK2      Bellandur  12.929557   \n",
       "2  ff80818163f29c9e0163f46770b873e7  BHK3  Thiruvanmiyur  12.982870   \n",
       "3  ff80818164b68a700164b74b1b247a1d  BHK1      Attiguppe  12.955991   \n",
       "4  ff80818163b1faf00163b4b9b8a163b1  BHK3      Kodihalli  12.963903   \n",
       "\n",
       "   longitude lease_type      furnishing      parking  property_size  bathroom  \\\n",
       "0  77.634471     FAMILY  SEMI_FURNISHED         BOTH         1250.0       2.0   \n",
       "1  77.672280     ANYONE  SEMI_FURNISHED         BOTH         1400.0       2.0   \n",
       "2  80.262012     FAMILY  SEMI_FURNISHED         BOTH         1350.0       3.0   \n",
       "3  77.531634     FAMILY  SEMI_FURNISHED  TWO_WHEELER          600.0       1.0   \n",
       "4  77.649446     FAMILY  SEMI_FURNISHED         BOTH         1500.0       3.0   \n",
       "\n",
       "   ... SECURITY  GP  PARK RWH STP  HK  PB  VP  age_of_property  \\\n",
       "0  ...        1   1     0   1   1   0   1   1                5   \n",
       "1  ...        1   0     1   1   1   0   1   1                5   \n",
       "2  ...        0   0     1   0   0   0   1   1                4   \n",
       "3  ...        0   0     0   0   0   0   0   0                5   \n",
       "4  ...        0   0     1   0   0   0   0   1                5   \n",
       "\n",
       "   lease_type_encoded  \n",
       "0                   3  \n",
       "1                   0  \n",
       "2                   3  \n",
       "3                   3  \n",
       "4                   3  \n",
       "\n",
       "[5 rows x 36 columns]"
      ]
     },
     "execution_count": 23,
     "metadata": {},
     "output_type": "execute_result"
    }
   ],
   "source": [
    "df.head()"
   ]
  },
  {
   "cell_type": "code",
   "execution_count": 28,
   "metadata": {
    "scrolled": true
   },
   "outputs": [
    {
     "data": {
      "text/plain": [
       "1200.0    1784\n",
       "600.0     1456\n",
       "1000.0    1304\n",
       "800.0     1086\n",
       "1100.0     897\n",
       "          ... \n",
       "1628.0       1\n",
       "1051.0       1\n",
       "948.0        1\n",
       "1913.0       1\n",
       "415.0        1\n",
       "Name: property_size, Length: 1141, dtype: int64"
      ]
     },
     "execution_count": 28,
     "metadata": {},
     "output_type": "execute_result"
    }
   ],
   "source": [
    "df['property_size'].value_counts()"
   ]
  },
  {
   "cell_type": "code",
   "execution_count": 29,
   "metadata": {
    "scrolled": true
   },
   "outputs": [
    {
     "data": {
      "image/png": "[encoded data removed]",
      "text/plain": [
       "<Figure size 800x600 with 1 Axes>"
      ]
     },
     "metadata": {},
     "output_type": "display_data"
    }
   ],
   "source": [
    "# Create a box plot\n",
    "plt.figure(figsize=(8, 6))\n",
    "plt.boxplot(df['property_size'], vert=False)\n",
    "plt.title('Box Plot of Property Size')\n",
    "plt.xlabel('Property Size')\n",
    "plt.show()"
   ]
  },
  {
   "cell_type": "code",
   "execution_count": 31,
   "metadata": {},
   "outputs": [],
   "source": [
    "# Remove the outliers\n",
    "Q1 = df['property_size'].quantile(0.25)\n",
    "Q3 = df['property_size'].quantile(0.75)\n",
    "IQR = Q3 - Q1\n",
    "#Identify and print outliers \n",
    "df = df[(df['property_size'] >= Q1 - 1.5 * IQR) & (df['property_size'] <= Q3 + 1.5 * IQR)]"
   ]
  },
  {
   "cell_type": "code",
   "execution_count": 45,
   "metadata": {},
   "outputs": [
    {
     "data": {
      "image/png": "[encoded data removed]",
      "text/plain": [
       "<Figure size 576x432 with 1 Axes>"
      ]
     },
     "metadata": {
      "needs_background": "light"
     },
     "output_type": "display_data"
    }
   ],
   "source": [
    "# Create a box plot\n",
    "plt.figure(figsize=(8, 6))\n",
    "plt.boxplot(df['property_size'], vert=False)\n",
    "plt.title('Box Plot of Property Size')\n",
    "plt.xlabel('Property Size')\n",
    "plt.show()"
   ]
  },
  {
   "cell_type": "code",
   "execution_count": 46,
   "metadata": {
    "scrolled": false
   },
   "outputs": [
    {
     "data": {
      "text/plain": [
       "2.0     11260\n",
       "1.0      6253\n",
       "3.0      2419\n",
       "4.0       141\n",
       "5.0         6\n",
       "21.0        1\n",
       "Name: bathroom, dtype: int64"
      ]
     },
     "execution_count": 46,
     "metadata": {},
     "output_type": "execute_result"
    }
   ],
   "source": [
    "df['bathroom'].value_counts()"
   ]
  },
  {
   "cell_type": "code",
   "execution_count": 47,
   "metadata": {
    "scrolled": true
   },
   "outputs": [
    {
     "data": {
      "image/png": "[encoded data removed]",
      "text/plain": [
       "<Figure size 576x432 with 1 Axes>"
      ]
     },
     "metadata": {
      "needs_background": "light"
     },
     "output_type": "display_data"
    }
   ],
   "source": [
    "# Create a box plot\n",
    "plt.figure(figsize=(8, 6))\n",
    "plt.boxplot(df['bathroom'], vert=False)\n",
    "plt.title('Box Plot of Property Size')\n",
    "plt.xlabel('bathroom ')\n",
    "plt.show()"
   ]
  },
  {
   "cell_type": "code",
   "execution_count": 32,
   "metadata": {},
   "outputs": [
    {
     "data": {
      "text/html": [
       "<div>\n",
       "<style scoped>\n",
       "    .dataframe tbody tr th:only-of-type {\n",
       "        vertical-align: middle;\n",
       "    }\n",
       "\n",
       "    .dataframe tbody tr th {\n",
       "        vertical-align: top;\n",
       "    }\n",
       "\n",
       "    .dataframe thead th {\n",
       "        text-align: right;\n",
       "    }\n",
       "</style>\n",
       "<table border=\"1\" class=\"dataframe\">\n",
       "  <thead>\n",
       "    <tr style=\"text-align: right;\">\n",
       "      <th></th>\n",
       "      <th>rent</th>\n",
       "    </tr>\n",
       "    <tr>\n",
       "      <th>bathroom</th>\n",
       "      <th></th>\n",
       "    </tr>\n",
       "  </thead>\n",
       "  <tbody>\n",
       "    <tr>\n",
       "      <th>1.0</th>\n",
       "      <td>12136.380617</td>\n",
       "    </tr>\n",
       "    <tr>\n",
       "      <th>2.0</th>\n",
       "      <td>19879.533635</td>\n",
       "    </tr>\n",
       "    <tr>\n",
       "      <th>3.0</th>\n",
       "      <td>28840.201183</td>\n",
       "    </tr>\n",
       "    <tr>\n",
       "      <th>4.0</th>\n",
       "      <td>33140.000000</td>\n",
       "    </tr>\n",
       "    <tr>\n",
       "      <th>5.0</th>\n",
       "      <td>38666.666667</td>\n",
       "    </tr>\n",
       "    <tr>\n",
       "      <th>21.0</th>\n",
       "      <td>27000.000000</td>\n",
       "    </tr>\n",
       "  </tbody>\n",
       "</table>\n",
       "</div>"
      ],
      "text/plain": [
       "                  rent\n",
       "bathroom              \n",
       "1.0       12136.380617\n",
       "2.0       19879.533635\n",
       "3.0       28840.201183\n",
       "4.0       33140.000000\n",
       "5.0       38666.666667\n",
       "21.0      27000.000000"
      ]
     },
     "execution_count": 32,
     "metadata": {},
     "output_type": "execute_result"
    }
   ],
   "source": [
    "df[['bathroom','rent']].groupby(['bathroom']).mean()"
   ]
  },
  {
   "cell_type": "markdown",
   "metadata": {},
   "source": [
    "## Facing"
   ]
  },
  {
   "cell_type": "code",
   "execution_count": 37,
   "metadata": {},
   "outputs": [
    {
     "data": {
      "text/plain": [
       "E     9307\n",
       "N     5781\n",
       "W     2557\n",
       "S     1189\n",
       "NE     784\n",
       "SE     188\n",
       "NW     142\n",
       "SW      56\n",
       "Name: facing, dtype: int64"
      ]
     },
     "execution_count": 37,
     "metadata": {},
     "output_type": "execute_result"
    }
   ],
   "source": [
    "df['facing'].value_counts()"
   ]
  },
  {
   "cell_type": "code",
   "execution_count": 38,
   "metadata": {},
   "outputs": [
    {
     "data": {
      "text/html": [
       "<div>\n",
       "<style scoped>\n",
       "    .dataframe tbody tr th:only-of-type {\n",
       "        vertical-align: middle;\n",
       "    }\n",
       "\n",
       "    .dataframe tbody tr th {\n",
       "        vertical-align: top;\n",
       "    }\n",
       "\n",
       "    .dataframe thead th {\n",
       "        text-align: right;\n",
       "    }\n",
       "</style>\n",
       "<table border=\"1\" class=\"dataframe\">\n",
       "  <thead>\n",
       "    <tr style=\"text-align: right;\">\n",
       "      <th></th>\n",
       "      <th>rent</th>\n",
       "    </tr>\n",
       "    <tr>\n",
       "      <th>facing</th>\n",
       "      <th></th>\n",
       "    </tr>\n",
       "  </thead>\n",
       "  <tbody>\n",
       "    <tr>\n",
       "      <th>E</th>\n",
       "      <td>18617.032771</td>\n",
       "    </tr>\n",
       "    <tr>\n",
       "      <th>N</th>\n",
       "      <td>17529.974918</td>\n",
       "    </tr>\n",
       "    <tr>\n",
       "      <th>NE</th>\n",
       "      <td>21048.783163</td>\n",
       "    </tr>\n",
       "    <tr>\n",
       "      <th>NW</th>\n",
       "      <td>21066.901408</td>\n",
       "    </tr>\n",
       "    <tr>\n",
       "      <th>S</th>\n",
       "      <td>18142.178301</td>\n",
       "    </tr>\n",
       "    <tr>\n",
       "      <th>SE</th>\n",
       "      <td>21283.202128</td>\n",
       "    </tr>\n",
       "    <tr>\n",
       "      <th>SW</th>\n",
       "      <td>24107.142857</td>\n",
       "    </tr>\n",
       "    <tr>\n",
       "      <th>W</th>\n",
       "      <td>20025.439578</td>\n",
       "    </tr>\n",
       "  </tbody>\n",
       "</table>\n",
       "</div>"
      ],
      "text/plain": [
       "                rent\n",
       "facing              \n",
       "E       18617.032771\n",
       "N       17529.974918\n",
       "NE      21048.783163\n",
       "NW      21066.901408\n",
       "S       18142.178301\n",
       "SE      21283.202128\n",
       "SW      24107.142857\n",
       "W       20025.439578"
      ]
     },
     "execution_count": 38,
     "metadata": {},
     "output_type": "execute_result"
    }
   ],
   "source": [
    "df[['facing','rent']].groupby(['facing']).mean()"
   ]
  },
  {
   "cell_type": "code",
   "execution_count": 39,
   "metadata": {},
   "outputs": [
    {
     "data": {
      "text/plain": [
       "<seaborn.axisgrid.JointGrid at 0x1d856346d90>"
      ]
     },
     "execution_count": 39,
     "metadata": {},
     "output_type": "execute_result"
    },
    {
     "data": {
      "image/png": "[encoded data removed]",
      "text/plain": [
       "<Figure size 600x600 with 3 Axes>"
      ]
     },
     "metadata": {},
     "output_type": "display_data"
    }
   ],
   "source": [
    "sns.jointplot(x = 'facing', y = 'rent', data = df)"
   ]
  },
  {
   "cell_type": "code",
   "execution_count": 40,
   "metadata": {},
   "outputs": [],
   "source": [
    "label_encoder = LabelEncoder()\n",
    "df['facing_encoded'] = label_encoder.fit_transform(df['facing'])\n",
    "df.drop(columns=['facing'], inplace=True)"
   ]
  },
  {
   "cell_type": "code",
   "execution_count": 41,
   "metadata": {},
   "outputs": [
    {
     "data": {
      "text/plain": [
       "Whitefield                       1025\n",
       "HSR Layout                        657\n",
       "Banashankari                      625\n",
       "Marathahalli                      463\n",
       "Mahadevapura                      425\n",
       "BTM Layout                        422\n",
       "JP Nagar                          422\n",
       "RR Nagar                          408\n",
       "Bellandur                         406\n",
       "Koramangala                       357\n",
       "Jayanagar                         353\n",
       "Munnekollal                       322\n",
       "BTM 2nd Stage                     313\n",
       "Varthur                           297\n",
       "Vijaya Nagar                      283\n",
       "Kaggadasapura                     273\n",
       "Basavanagudi                      247\n",
       "Brookefield                       243\n",
       "Rajaji Nagar                      238\n",
       "Indiranagar                       227\n",
       "Ejipura                           221\n",
       "Nagarbhavi                        215\n",
       "Kumaraswamy Layout                206\n",
       "Bommanahalli                      202\n",
       "Kasavanahalli                     198\n",
       "Basaveshwar Nagar                 192\n",
       "Uttarahalli Hobli                 176\n",
       "Hoodi                             173\n",
       "C V Raman Nagar                   172\n",
       "Padmanabhanagar                   158\n",
       "Murgesh Pallya                    147\n",
       "Doddanekkundi                     141\n",
       "Banashankari 3rd Stage            139\n",
       "Ulsoor                            133\n",
       "Kadugodi                          127\n",
       "Whitefield Hope Farm Junction     124\n",
       "Doddakannelli                     113\n",
       "BTM Layout 1                      111\n",
       "Chikkalasandra                    110\n",
       "Kaikondrahalli                    103\n",
       "Domlur                            102\n",
       "Nallurhalli,Whitefield             97\n",
       "Wilson Garden                      96\n",
       "Doddanekundi                       94\n",
       "Kodihalli                          93\n",
       "Suddagunte Palya                   92\n",
       "Hosakerehalli                      90\n",
       "Kadubeesanahalli                   90\n",
       "New Tippasandra                    81\n",
       "Adugodi                            81\n",
       "Name: locality, dtype: int64"
      ]
     },
     "execution_count": 41,
     "metadata": {},
     "output_type": "execute_result"
    }
   ],
   "source": [
    "df['locality'].value_counts()[0:50]"
   ]
  },
  {
   "cell_type": "code",
   "execution_count": 42,
   "metadata": {},
   "outputs": [
    {
     "data": {
      "text/plain": [
       "1.0     5803\n",
       "0.0     4748\n",
       "2.0     4490\n",
       "3.0     2550\n",
       "4.0     1166\n",
       "5.0      280\n",
       "6.0      190\n",
       "7.0      176\n",
       "8.0      120\n",
       "9.0      118\n",
       "10.0      98\n",
       "11.0      80\n",
       "12.0      57\n",
       "14.0      41\n",
       "13.0      29\n",
       "15.0      18\n",
       "16.0      17\n",
       "17.0       7\n",
       "19.0       6\n",
       "18.0       5\n",
       "20.0       3\n",
       "25.0       1\n",
       "22.0       1\n",
       "Name: floor, dtype: int64"
      ]
     },
     "execution_count": 42,
     "metadata": {},
     "output_type": "execute_result"
    }
   ],
   "source": [
    "df['floor'].value_counts()"
   ]
  },
  {
   "cell_type": "code",
   "execution_count": 43,
   "metadata": {},
   "outputs": [
    {
     "data": {
      "text/plain": [
       "<AxesSubplot:xlabel='floor', ylabel='Count'>"
      ]
     },
     "execution_count": 43,
     "metadata": {},
     "output_type": "execute_result"
    },
    {
     "data": {
      "image/png": "[encoded data removed]",
      "text/plain": [
       "<Figure size 640x480 with 1 Axes>"
      ]
     },
     "metadata": {},
     "output_type": "display_data"
    }
   ],
   "source": [
    "sns.histplot(data=df, x=\"floor\")"
   ]
  },
  {
   "cell_type": "code",
   "execution_count": 44,
   "metadata": {},
   "outputs": [
    {
     "data": {
      "text/plain": [
       "4.0     4787\n",
       "2.0     4734\n",
       "3.0     4612\n",
       "1.0     1980\n",
       "5.0     1468\n",
       "0.0      331\n",
       "14.0     230\n",
       "6.0      209\n",
       "12.0     198\n",
       "9.0      195\n",
       "11.0     190\n",
       "10.0     184\n",
       "8.0      179\n",
       "13.0     164\n",
       "7.0      159\n",
       "15.0     113\n",
       "19.0      63\n",
       "16.0      62\n",
       "18.0      46\n",
       "17.0      35\n",
       "20.0      21\n",
       "21.0      18\n",
       "23.0       9\n",
       "24.0       7\n",
       "25.0       5\n",
       "22.0       4\n",
       "26.0       1\n",
       "Name: total_floor, dtype: int64"
      ]
     },
     "execution_count": 44,
     "metadata": {},
     "output_type": "execute_result"
    }
   ],
   "source": [
    "df['total_floor'].value_counts()"
   ]
  },
  {
   "cell_type": "code",
   "execution_count": 45,
   "metadata": {
    "scrolled": true
   },
   "outputs": [
    {
     "data": {
      "image/png": "[encoded data removed]",
      "text/plain": [
       "<Figure size 800x600 with 1 Axes>"
      ]
     },
     "metadata": {},
     "output_type": "display_data"
    }
   ],
   "source": [
    "plt.figure(figsize=(8, 6))\n",
    "sns.scatterplot(x=df['floor'], y=df['total_floor'])\n",
    "plt.title(\"Scatter Plot: {} vs {}\".format('total_floor', 'floor'))\n",
    "plt.xlabel('floor')\n",
    "plt.ylabel('total_floor')\n",
    "plt.show()"
   ]
  },
  {
   "cell_type": "code",
   "execution_count": 46,
   "metadata": {},
   "outputs": [
    {
     "data": {
      "text/plain": [
       "1.0     7883\n",
       "0.0     5829\n",
       "2.0     4519\n",
       "3.0     1485\n",
       "4.0      254\n",
       "5.0       29\n",
       "10.0       3\n",
       "13.0       1\n",
       "6.0        1\n",
       "Name: balconies, dtype: int64"
      ]
     },
     "execution_count": 46,
     "metadata": {},
     "output_type": "execute_result"
    }
   ],
   "source": [
    "df['balconies'].value_counts()"
   ]
  },
  {
   "cell_type": "code",
   "execution_count": 53,
   "metadata": {},
   "outputs": [],
   "source": [
    "df.drop(columns = ['id', 'locality'], inplace=True)"
   ]
  },
  {
   "cell_type": "code",
   "execution_count": 48,
   "metadata": {},
   "outputs": [
    {
     "data": {
      "text/plain": [
       "(20004, 33)"
      ]
     },
     "execution_count": 48,
     "metadata": {},
     "output_type": "execute_result"
    }
   ],
   "source": [
    "df.shape"
   ]
  },
  {
   "cell_type": "code",
   "execution_count": 54,
   "metadata": {},
   "outputs": [
    {
     "name": "stdout",
     "output_type": "stream",
     "text": [
      "<class 'pandas.core.frame.DataFrame'>\n",
      "Int64Index: 20004 entries, 0 to 20554\n",
      "Data columns (total 33 columns):\n",
      " #   Column                 Non-Null Count  Dtype  \n",
      "---  ------                 --------------  -----  \n",
      " 0   latitude               20004 non-null  float64\n",
      " 1   longitude              20004 non-null  float64\n",
      " 2   property_size          20004 non-null  float64\n",
      " 3   bathroom               20004 non-null  float64\n",
      " 4   floor                  20004 non-null  float64\n",
      " 5   total_floor            20004 non-null  float64\n",
      " 6   balconies              20004 non-null  float64\n",
      " 7   rent                   20004 non-null  float64\n",
      " 8   LIFT                   20004 non-null  int64  \n",
      " 9   GYM                    20004 non-null  int64  \n",
      " 10  AC                     20004 non-null  int64  \n",
      " 11  CLUB                   20004 non-null  int64  \n",
      " 12  INTERCOM               20004 non-null  int64  \n",
      " 13  POOL                   20004 non-null  int64  \n",
      " 14  CPA                    20004 non-null  int64  \n",
      " 15  FS                     20004 non-null  int64  \n",
      " 16  SERVANT                20004 non-null  int64  \n",
      " 17  SECURITY               20004 non-null  int64  \n",
      " 18  GP                     20004 non-null  int64  \n",
      " 19  PARK                   20004 non-null  int64  \n",
      " 20  RWH                    20004 non-null  int64  \n",
      " 21  STP                    20004 non-null  int64  \n",
      " 22  HK                     20004 non-null  int64  \n",
      " 23  PB                     20004 non-null  int64  \n",
      " 24  VP                     20004 non-null  int64  \n",
      " 25  age_of_property        20004 non-null  int64  \n",
      " 26  lease_type_encoded     20004 non-null  int32  \n",
      " 27  furnishing_encoded     20004 non-null  int32  \n",
      " 28  parking_encoded        20004 non-null  int32  \n",
      " 29  water_supply_encoded   20004 non-null  int32  \n",
      " 30  building_type_encoded  20004 non-null  int32  \n",
      " 31  BHK_type_encoded       20004 non-null  int32  \n",
      " 32  facing_encoded         20004 non-null  int32  \n",
      "dtypes: float64(8), int32(7), int64(18)\n",
      "memory usage: 4.7 MB\n"
     ]
    }
   ],
   "source": [
    "df.info()"
   ]
  },
  {
   "cell_type": "code",
   "execution_count": 51,
   "metadata": {},
   "outputs": [
    {
     "data": {
      "text/html": [
       "<div>\n",
       "<style scoped>\n",
       "    .dataframe tbody tr th:only-of-type {\n",
       "        vertical-align: middle;\n",
       "    }\n",
       "\n",
       "    .dataframe tbody tr th {\n",
       "        vertical-align: top;\n",
       "    }\n",
       "\n",
       "    .dataframe thead th {\n",
       "        text-align: right;\n",
       "    }\n",
       "</style>\n",
       "<table border=\"1\" class=\"dataframe\">\n",
       "  <thead>\n",
       "    <tr style=\"text-align: right;\">\n",
       "      <th></th>\n",
       "      <th>latitude</th>\n",
       "      <th>longitude</th>\n",
       "      <th>property_size</th>\n",
       "      <th>bathroom</th>\n",
       "      <th>floor</th>\n",
       "      <th>total_floor</th>\n",
       "      <th>balconies</th>\n",
       "      <th>rent</th>\n",
       "      <th>LIFT</th>\n",
       "      <th>GYM</th>\n",
       "      <th>...</th>\n",
       "      <th>PB</th>\n",
       "      <th>VP</th>\n",
       "      <th>age_of_property</th>\n",
       "      <th>lease_type_encoded</th>\n",
       "      <th>furnishing_encoded</th>\n",
       "      <th>parking_encoded</th>\n",
       "      <th>water_supply_encoded</th>\n",
       "      <th>building_type_encoded</th>\n",
       "      <th>BHK_type_encoded</th>\n",
       "      <th>facing_encoded</th>\n",
       "    </tr>\n",
       "  </thead>\n",
       "  <tbody>\n",
       "    <tr>\n",
       "      <th>count</th>\n",
       "      <td>20004.000000</td>\n",
       "      <td>20004.000000</td>\n",
       "      <td>20004.000000</td>\n",
       "      <td>20004.000000</td>\n",
       "      <td>20004.000000</td>\n",
       "      <td>20004.000000</td>\n",
       "      <td>20004.000000</td>\n",
       "      <td>20004.000000</td>\n",
       "      <td>20004.000000</td>\n",
       "      <td>20004.000000</td>\n",
       "      <td>...</td>\n",
       "      <td>20004.000000</td>\n",
       "      <td>20004.000000</td>\n",
       "      <td>20004.000000</td>\n",
       "      <td>20004.000000</td>\n",
       "      <td>20004.000000</td>\n",
       "      <td>20004.000000</td>\n",
       "      <td>20004.000000</td>\n",
       "      <td>20004.000000</td>\n",
       "      <td>20004.000000</td>\n",
       "      <td>20004.000000</td>\n",
       "    </tr>\n",
       "    <tr>\n",
       "      <th>mean</th>\n",
       "      <td>12.945857</td>\n",
       "      <td>77.637109</td>\n",
       "      <td>1017.974605</td>\n",
       "      <td>1.820036</td>\n",
       "      <td>1.867526</td>\n",
       "      <td>3.784393</td>\n",
       "      <td>1.129074</td>\n",
       "      <td>18607.808238</td>\n",
       "      <td>0.392172</td>\n",
       "      <td>0.240602</td>\n",
       "      <td>...</td>\n",
       "      <td>0.360428</td>\n",
       "      <td>0.233803</td>\n",
       "      <td>5.051840</td>\n",
       "      <td>1.521346</td>\n",
       "      <td>1.815987</td>\n",
       "      <td>1.252150</td>\n",
       "      <td>1.370276</td>\n",
       "      <td>1.242851</td>\n",
       "      <td>1.143171</td>\n",
       "      <td>1.584983</td>\n",
       "    </tr>\n",
       "    <tr>\n",
       "      <th>std</th>\n",
       "      <td>0.029555</td>\n",
       "      <td>0.111176</td>\n",
       "      <td>393.759395</td>\n",
       "      <td>0.666513</td>\n",
       "      <td>2.149827</td>\n",
       "      <td>3.117595</td>\n",
       "      <td>0.977596</td>\n",
       "      <td>7932.959840</td>\n",
       "      <td>0.488247</td>\n",
       "      <td>0.427460</td>\n",
       "      <td>...</td>\n",
       "      <td>0.480137</td>\n",
       "      <td>0.423259</td>\n",
       "      <td>0.473422</td>\n",
       "      <td>1.478569</td>\n",
       "      <td>0.513267</td>\n",
       "      <td>1.394638</td>\n",
       "      <td>0.731121</td>\n",
       "      <td>1.127085</td>\n",
       "      <td>0.909766</td>\n",
       "      <td>2.355397</td>\n",
       "    </tr>\n",
       "    <tr>\n",
       "      <th>min</th>\n",
       "      <td>12.900004</td>\n",
       "      <td>77.500072</td>\n",
       "      <td>1.000000</td>\n",
       "      <td>1.000000</td>\n",
       "      <td>0.000000</td>\n",
       "      <td>0.000000</td>\n",
       "      <td>0.000000</td>\n",
       "      <td>8000.000000</td>\n",
       "      <td>0.000000</td>\n",
       "      <td>0.000000</td>\n",
       "      <td>...</td>\n",
       "      <td>0.000000</td>\n",
       "      <td>0.000000</td>\n",
       "      <td>4.000000</td>\n",
       "      <td>0.000000</td>\n",
       "      <td>0.000000</td>\n",
       "      <td>0.000000</td>\n",
       "      <td>0.000000</td>\n",
       "      <td>0.000000</td>\n",
       "      <td>0.000000</td>\n",
       "      <td>0.000000</td>\n",
       "    </tr>\n",
       "    <tr>\n",
       "      <th>25%</th>\n",
       "      <td>12.918498</td>\n",
       "      <td>77.572156</td>\n",
       "      <td>700.000000</td>\n",
       "      <td>1.000000</td>\n",
       "      <td>1.000000</td>\n",
       "      <td>2.000000</td>\n",
       "      <td>0.000000</td>\n",
       "      <td>12000.000000</td>\n",
       "      <td>0.000000</td>\n",
       "      <td>0.000000</td>\n",
       "      <td>...</td>\n",
       "      <td>0.000000</td>\n",
       "      <td>0.000000</td>\n",
       "      <td>5.000000</td>\n",
       "      <td>0.000000</td>\n",
       "      <td>2.000000</td>\n",
       "      <td>0.000000</td>\n",
       "      <td>1.000000</td>\n",
       "      <td>0.000000</td>\n",
       "      <td>1.000000</td>\n",
       "      <td>0.000000</td>\n",
       "    </tr>\n",
       "    <tr>\n",
       "      <th>50%</th>\n",
       "      <td>12.944050</td>\n",
       "      <td>77.633149</td>\n",
       "      <td>1000.000000</td>\n",
       "      <td>2.000000</td>\n",
       "      <td>1.000000</td>\n",
       "      <td>3.000000</td>\n",
       "      <td>1.000000</td>\n",
       "      <td>17000.000000</td>\n",
       "      <td>0.000000</td>\n",
       "      <td>0.000000</td>\n",
       "      <td>...</td>\n",
       "      <td>0.000000</td>\n",
       "      <td>0.000000</td>\n",
       "      <td>5.000000</td>\n",
       "      <td>1.000000</td>\n",
       "      <td>2.000000</td>\n",
       "      <td>0.000000</td>\n",
       "      <td>2.000000</td>\n",
       "      <td>2.000000</td>\n",
       "      <td>1.000000</td>\n",
       "      <td>1.000000</td>\n",
       "    </tr>\n",
       "    <tr>\n",
       "      <th>75%</th>\n",
       "      <td>12.970992</td>\n",
       "      <td>77.695549</td>\n",
       "      <td>1250.000000</td>\n",
       "      <td>2.000000</td>\n",
       "      <td>2.000000</td>\n",
       "      <td>4.000000</td>\n",
       "      <td>2.000000</td>\n",
       "      <td>23000.000000</td>\n",
       "      <td>1.000000</td>\n",
       "      <td>0.000000</td>\n",
       "      <td>...</td>\n",
       "      <td>1.000000</td>\n",
       "      <td>0.000000</td>\n",
       "      <td>5.000000</td>\n",
       "      <td>3.000000</td>\n",
       "      <td>2.000000</td>\n",
       "      <td>3.000000</td>\n",
       "      <td>2.000000</td>\n",
       "      <td>2.000000</td>\n",
       "      <td>1.000000</td>\n",
       "      <td>1.000000</td>\n",
       "    </tr>\n",
       "    <tr>\n",
       "      <th>max</th>\n",
       "      <td>12.999999</td>\n",
       "      <td>80.266346</td>\n",
       "      <td>2075.000000</td>\n",
       "      <td>21.000000</td>\n",
       "      <td>25.000000</td>\n",
       "      <td>26.000000</td>\n",
       "      <td>13.000000</td>\n",
       "      <td>50000.000000</td>\n",
       "      <td>1.000000</td>\n",
       "      <td>1.000000</td>\n",
       "      <td>...</td>\n",
       "      <td>1.000000</td>\n",
       "      <td>1.000000</td>\n",
       "      <td>6.000000</td>\n",
       "      <td>3.000000</td>\n",
       "      <td>2.000000</td>\n",
       "      <td>3.000000</td>\n",
       "      <td>2.000000</td>\n",
       "      <td>3.000000</td>\n",
       "      <td>5.000000</td>\n",
       "      <td>7.000000</td>\n",
       "    </tr>\n",
       "  </tbody>\n",
       "</table>\n",
       "<p>8 rows × 33 columns</p>\n",
       "</div>"
      ],
      "text/plain": [
       "           latitude     longitude  property_size      bathroom         floor  \\\n",
       "count  20004.000000  20004.000000   20004.000000  20004.000000  20004.000000   \n",
       "mean      12.945857     77.637109    1017.974605      1.820036      1.867526   \n",
       "std        0.029555      0.111176     393.759395      0.666513      2.149827   \n",
       "min       12.900004     77.500072       1.000000      1.000000      0.000000   \n",
       "25%       12.918498     77.572156     700.000000      1.000000      1.000000   \n",
       "50%       12.944050     77.633149    1000.000000      2.000000      1.000000   \n",
       "75%       12.970992     77.695549    1250.000000      2.000000      2.000000   \n",
       "max       12.999999     80.266346    2075.000000     21.000000     25.000000   \n",
       "\n",
       "        total_floor     balconies          rent          LIFT           GYM  \\\n",
       "count  20004.000000  20004.000000  20004.000000  20004.000000  20004.000000   \n",
       "mean       3.784393      1.129074  18607.808238      0.392172      0.240602   \n",
       "std        3.117595      0.977596   7932.959840      0.488247      0.427460   \n",
       "min        0.000000      0.000000   8000.000000      0.000000      0.000000   \n",
       "25%        2.000000      0.000000  12000.000000      0.000000      0.000000   \n",
       "50%        3.000000      1.000000  17000.000000      0.000000      0.000000   \n",
       "75%        4.000000      2.000000  23000.000000      1.000000      0.000000   \n",
       "max       26.000000     13.000000  50000.000000      1.000000      1.000000   \n",
       "\n",
       "       ...            PB            VP  age_of_property  lease_type_encoded  \\\n",
       "count  ...  20004.000000  20004.000000     20004.000000        20004.000000   \n",
       "mean   ...      0.360428      0.233803         5.051840            1.521346   \n",
       "std    ...      0.480137      0.423259         0.473422            1.478569   \n",
       "min    ...      0.000000      0.000000         4.000000            0.000000   \n",
       "25%    ...      0.000000      0.000000         5.000000            0.000000   \n",
       "50%    ...      0.000000      0.000000         5.000000            1.000000   \n",
       "75%    ...      1.000000      0.000000         5.000000            3.000000   \n",
       "max    ...      1.000000      1.000000         6.000000            3.000000   \n",
       "\n",
       "       furnishing_encoded  parking_encoded  water_supply_encoded  \\\n",
       "count        20004.000000     20004.000000          20004.000000   \n",
       "mean             1.815987         1.252150              1.370276   \n",
       "std              0.513267         1.394638              0.731121   \n",
       "min              0.000000         0.000000              0.000000   \n",
       "25%              2.000000         0.000000              1.000000   \n",
       "50%              2.000000         0.000000              2.000000   \n",
       "75%              2.000000         3.000000              2.000000   \n",
       "max              2.000000         3.000000              2.000000   \n",
       "\n",
       "       building_type_encoded  BHK_type_encoded  facing_encoded  \n",
       "count           20004.000000      20004.000000    20004.000000  \n",
       "mean                1.242851          1.143171        1.584983  \n",
       "std                 1.127085          0.909766        2.355397  \n",
       "min                 0.000000          0.000000        0.000000  \n",
       "25%                 0.000000          1.000000        0.000000  \n",
       "50%                 2.000000          1.000000        1.000000  \n",
       "75%                 2.000000          1.000000        1.000000  \n",
       "max                 3.000000          5.000000        7.000000  \n",
       "\n",
       "[8 rows x 33 columns]"
      ]
     },
     "execution_count": 51,
     "metadata": {},
     "output_type": "execute_result"
    }
   ],
   "source": [
    "df.describe()"
   ]
  },
  {
   "cell_type": "code",
   "execution_count": 52,
   "metadata": {
    "scrolled": false
   },
   "outputs": [
    {
     "data": {
      "text/plain": [
       "latitude                 0\n",
       "longitude                0\n",
       "property_size            0\n",
       "bathroom                 0\n",
       "floor                    0\n",
       "total_floor              0\n",
       "balconies                0\n",
       "rent                     0\n",
       "LIFT                     0\n",
       "GYM                      0\n",
       "AC                       0\n",
       "CLUB                     0\n",
       "INTERCOM                 0\n",
       "POOL                     0\n",
       "CPA                      0\n",
       "FS                       0\n",
       "SERVANT                  0\n",
       "SECURITY                 0\n",
       "GP                       0\n",
       "PARK                     0\n",
       "RWH                      0\n",
       "STP                      0\n",
       "HK                       0\n",
       "PB                       0\n",
       "VP                       0\n",
       "age_of_property          0\n",
       "lease_type_encoded       0\n",
       "furnishing_encoded       0\n",
       "parking_encoded          0\n",
       "water_supply_encoded     0\n",
       "building_type_encoded    0\n",
       "BHK_type_encoded         0\n",
       "facing_encoded           0\n",
       "dtype: int64"
      ]
     },
     "execution_count": 52,
     "metadata": {},
     "output_type": "execute_result"
    }
   ],
   "source": [
    "df.isnull().sum()"
   ]
  },
  {
   "cell_type": "code",
   "execution_count": null,
   "metadata": {},
   "outputs": [],
   "source": []
  },
  {
   "cell_type": "markdown",
   "metadata": {},
   "source": [
    "# Model Building"
   ]
  },
  {
   "cell_type": "code",
   "execution_count": 92,
   "metadata": {},
   "outputs": [
    {
     "data": {
      "text/plain": [
       "LinearRegression()"
      ]
     },
     "execution_count": 92,
     "metadata": {},
     "output_type": "execute_result"
    }
   ],
   "source": [
    "\n",
    "from sklearn.model_selection import train_test_split\n",
    "from sklearn.linear_model import LinearRegression\n",
    "from sklearn.metrics import mean_squared_error\n",
    "\n",
    "\n",
    "# Create feature (X) and target (y) arrays\n",
    "X = df.drop(columns=['rent'])\n",
    "y = df['rent']\n",
    "\n",
    "# Split the data into training and testing sets\n",
    "X_train, X_test, y_train, y_test = train_test_split(X, y, test_size=0.2, random_state=42)\n",
    "\n",
    "# Initialize the Linear Regression model\n",
    "model = LinearRegression()\n",
    "\n",
    "# Train the model on the training data\n",
    "model.fit(X_train, y_train)\n"
   ]
  },
  {
   "cell_type": "code",
   "execution_count": 60,
   "metadata": {},
   "outputs": [
    {
     "name": "stdout",
     "output_type": "stream",
     "text": [
      "Linear Regression (L2) - RMSE: 4818.4966489264225\n",
      "Linear Regression (L1) - RMSE: 4818.474122303057\n",
      "Polynomial Regression - RMSE: 5147.497027296091\n",
      "Random Forest - RMSE: 3551.325341214774\n",
      "XGBoost - RMSE: 3404.19070839945\n",
      "Support Vector Machines - RMSE: 5093.361996700601\n",
      "Ensemble Learning (Voting Regressor) - RMSE: 4042.1639219239487\n"
     ]
    }
   ],
   "source": [
    "import pandas as pd\n",
    "from sklearn.model_selection import train_test_split\n",
    "from sklearn.preprocessing import StandardScaler, PolynomialFeatures\n",
    "from sklearn.linear_model import LinearRegression, Ridge, Lasso\n",
    "from sklearn.ensemble import RandomForestRegressor, VotingRegressor\n",
    "import xgboost as xgb\n",
    "from sklearn.svm import SVR\n",
    "from sklearn.metrics import mean_squared_error, r2_score\n",
    "#from tensorflow import keras\n",
    "#from keras.models import Sequential\n",
    "#from keras.layers import Dense\n",
    "#from keras.optimizers import Adam\n",
    "from sklearn.ensemble import BaggingRegressor, GradientBoostingRegressor\n",
    "\n",
    "# Load your dataset\n",
    "\n",
    "# Preprocessing\n",
    "# Handle missing values, encode categorical variables, etc.\n",
    "\n",
    "# Split the dataset into features (X) and target variable (y)\n",
    "X = df.drop(columns=['rent'])\n",
    "y = df['rent']\n",
    "\n",
    "# Split the data into training and testing sets\n",
    "X_train, X_test, y_train, y_test = train_test_split(X, y, test_size=0.2, random_state=42)\n",
    "\n",
    "# Feature Scaling\n",
    "scaler = StandardScaler()\n",
    "X_train_scaled = scaler.fit_transform(X_train)\n",
    "X_test_scaled = scaler.transform(X_test)\n",
    "\n",
    "# Linear Regression (L2)\n",
    "lin_reg = Ridge(alpha=1.0)\n",
    "lin_reg.fit(X_train_scaled, y_train)\n",
    "y_pred_lin_reg = lin_reg.predict(X_test_scaled)\n",
    "\n",
    "# Linear Regression (L1)\n",
    "lasso_reg = Lasso(alpha=0.1)\n",
    "lasso_reg.fit(X_train_scaled, y_train)\n",
    "y_pred_lasso_reg = lasso_reg.predict(X_test_scaled)\n",
    "\n",
    "# Polynomial Regression\n",
    "poly = PolynomialFeatures(degree=2)\n",
    "X_train_poly = poly.fit_transform(X_train_scaled)\n",
    "X_test_poly = poly.transform(X_test_scaled)\n",
    "poly_reg = LinearRegression()\n",
    "poly_reg.fit(X_train_poly, y_train)\n",
    "y_pred_poly_reg = poly_reg.predict(X_test_poly)\n",
    "\n",
    "# Random Forest\n",
    "rf_reg = RandomForestRegressor(n_estimators=100, random_state=42)\n",
    "rf_reg.fit(X_train_scaled, y_train)\n",
    "y_pred_rf_reg = rf_reg.predict(X_test_scaled)\n",
    "\n",
    "# XGBoost\n",
    "xgb_reg = xgb.XGBRegressor(n_estimators=100, learning_rate=0.1, random_state=42)\n",
    "xgb_reg.fit(X_train_scaled, y_train)\n",
    "y_pred_xgb_reg = xgb_reg.predict(X_test_scaled)\n",
    "\n",
    "# Artificial Neural Networks (ANN)\n",
    "# ann_model = Sequential()\n",
    "# ann_model.add(Dense(units=128, activation='relu', input_dim=X_train_scaled.shape[1]))\n",
    "# ann_model.add(Dense(units=64, activation='relu'))\n",
    "# ann_model.add(Dense(units=1))\n",
    "# ann_model.compile(optimizer=Adam(learning_rate=0.001), loss='mean_squared_error')\n",
    "# ann_model.fit(X_train_scaled, y_train, epochs=50, batch_size=32, verbose=0)\n",
    "# y_pred_ann = ann_model.predict(X_test_scaled)\n",
    "\n",
    "# Support Vector Machines (SVM)\n",
    "svm_reg = SVR(kernel='linear')\n",
    "svm_reg.fit(X_train_scaled, y_train)\n",
    "y_pred_svm_reg = svm_reg.predict(X_test_scaled)\n",
    "\n",
    "# Ensemble Learning (Voting Regressor)\n",
    "ensemble_model = VotingRegressor(estimators=[\n",
    "    ('lin_reg', lin_reg),\n",
    "    ('lasso_reg', lasso_reg),\n",
    "    ('rf_reg', rf_reg),\n",
    "    ('xgb_reg', xgb_reg),\n",
    "    ('svm_reg', svm_reg)\n",
    "])\n",
    "ensemble_model.fit(X_train_scaled, y_train)\n",
    "y_pred_ensemble = ensemble_model.predict(X_test_scaled)\n",
    "\n",
    "# Evaluate Models\n",
    "print(\"Linear Regression (L2) - RMSE:\", mean_squared_error(y_test, y_pred_lin_reg, squared=False))\n",
    "print(\"Linear Regression (L1) - RMSE:\", mean_squared_error(y_test, y_pred_lasso_reg, squared=False))\n",
    "print(\"Polynomial Regression - RMSE:\", mean_squared_error(y_test, y_pred_poly_reg, squared=False))\n",
    "print(\"Random Forest - RMSE:\", mean_squared_error(y_test, y_pred_rf_reg, squared=False))\n",
    "print(\"XGBoost - RMSE:\", mean_squared_error(y_test, y_pred_xgb_reg, squared=False))\n",
    "#print(\"Artificial Neural Networks - RMSE:\", mean_squared_error(y_test, y_pred_ann, squared=False))\n",
    "print(\"Support Vector Machines - RMSE:\", mean_squared_error(y_test, y_pred_svm_reg, squared=False))\n",
    "print(\"Ensemble Learning (Voting Regressor) - RMSE:\", mean_squared_error(y_test, y_pred_ensemble, squared=False))\n",
    "\n"
   ]
  },
  {
   "cell_type": "code",
   "execution_count": 64,
   "metadata": {},
   "outputs": [
    {
     "data": {
      "text/plain": [
       "0.8058015154960168"
      ]
     },
     "execution_count": 64,
     "metadata": {},
     "output_type": "execute_result"
    }
   ],
   "source": [
    "r2_score(y_test, y_pred_rf_reg)"
   ]
  },
  {
   "cell_type": "code",
   "execution_count": 66,
   "metadata": {},
   "outputs": [
    {
     "ename": "KeyboardInterrupt",
     "evalue": "",
     "output_type": "error",
     "traceback": [
      "\u001b[1;31m---------------------------------------------------------------------------\u001b[0m",
      "\u001b[1;31mKeyboardInterrupt\u001b[0m                         Traceback (most recent call last)",
      "Cell \u001b[1;32mIn[66], line 15\u001b[0m\n\u001b[0;32m      8\u001b[0m param_grid_rf \u001b[39m=\u001b[39m {\n\u001b[0;32m      9\u001b[0m     \u001b[39m'\u001b[39m\u001b[39mn_estimators\u001b[39m\u001b[39m'\u001b[39m: [\u001b[39m100\u001b[39m, \u001b[39m200\u001b[39m, \u001b[39m300\u001b[39m],\n\u001b[0;32m     10\u001b[0m     \u001b[39m'\u001b[39m\u001b[39mmax_depth\u001b[39m\u001b[39m'\u001b[39m: [\u001b[39mNone\u001b[39;00m, \u001b[39m10\u001b[39m, \u001b[39m20\u001b[39m],\n\u001b[0;32m     11\u001b[0m     \u001b[39m'\u001b[39m\u001b[39mmin_samples_split\u001b[39m\u001b[39m'\u001b[39m: [\u001b[39m2\u001b[39m, \u001b[39m5\u001b[39m, \u001b[39m10\u001b[39m],\n\u001b[0;32m     12\u001b[0m     \u001b[39m'\u001b[39m\u001b[39mmin_samples_leaf\u001b[39m\u001b[39m'\u001b[39m: [\u001b[39m1\u001b[39m, \u001b[39m2\u001b[39m, \u001b[39m4\u001b[39m],\n\u001b[0;32m     13\u001b[0m }\n\u001b[0;32m     14\u001b[0m grid_search_rf \u001b[39m=\u001b[39m GridSearchCV(RandomForestRegressor(random_state\u001b[39m=\u001b[39m\u001b[39m42\u001b[39m), param_grid_rf, cv\u001b[39m=\u001b[39m\u001b[39m5\u001b[39m, scoring\u001b[39m=\u001b[39m\u001b[39m'\u001b[39m\u001b[39mneg_mean_squared_error\u001b[39m\u001b[39m'\u001b[39m)\n\u001b[1;32m---> 15\u001b[0m grid_search_rf\u001b[39m.\u001b[39;49mfit(X_train_scaled, y_train)\n\u001b[0;32m     16\u001b[0m best_rf \u001b[39m=\u001b[39m grid_search_rf\u001b[39m.\u001b[39mbest_estimator_\n\u001b[0;32m     17\u001b[0m y_pred_best_rf \u001b[39m=\u001b[39m best_rf\u001b[39m.\u001b[39mpredict(X_test_scaled)\n",
      "File \u001b[1;32mc:\\Users\\hi\\anaconda3\\lib\\site-packages\\sklearn\\model_selection\\_search.py:874\u001b[0m, in \u001b[0;36mBaseSearchCV.fit\u001b[1;34m(self, X, y, groups, **fit_params)\u001b[0m\n\u001b[0;32m    868\u001b[0m     results \u001b[39m=\u001b[39m \u001b[39mself\u001b[39m\u001b[39m.\u001b[39m_format_results(\n\u001b[0;32m    869\u001b[0m         all_candidate_params, n_splits, all_out, all_more_results\n\u001b[0;32m    870\u001b[0m     )\n\u001b[0;32m    872\u001b[0m     \u001b[39mreturn\u001b[39;00m results\n\u001b[1;32m--> 874\u001b[0m \u001b[39mself\u001b[39;49m\u001b[39m.\u001b[39;49m_run_search(evaluate_candidates)\n\u001b[0;32m    876\u001b[0m \u001b[39m# multimetric is determined here because in the case of a callable\u001b[39;00m\n\u001b[0;32m    877\u001b[0m \u001b[39m# self.scoring the return type is only known after calling\u001b[39;00m\n\u001b[0;32m    878\u001b[0m first_test_score \u001b[39m=\u001b[39m all_out[\u001b[39m0\u001b[39m][\u001b[39m\"\u001b[39m\u001b[39mtest_scores\u001b[39m\u001b[39m\"\u001b[39m]\n",
      "File \u001b[1;32mc:\\Users\\hi\\anaconda3\\lib\\site-packages\\sklearn\\model_selection\\_search.py:1388\u001b[0m, in \u001b[0;36mGridSearchCV._run_search\u001b[1;34m(self, evaluate_candidates)\u001b[0m\n\u001b[0;32m   1386\u001b[0m \u001b[39mdef\u001b[39;00m \u001b[39m_run_search\u001b[39m(\u001b[39mself\u001b[39m, evaluate_candidates):\n\u001b[0;32m   1387\u001b[0m \u001b[39m    \u001b[39m\u001b[39m\"\"\"Search all candidates in param_grid\"\"\"\u001b[39;00m\n\u001b[1;32m-> 1388\u001b[0m     evaluate_candidates(ParameterGrid(\u001b[39mself\u001b[39;49m\u001b[39m.\u001b[39;49mparam_grid))\n",
      "File \u001b[1;32mc:\\Users\\hi\\anaconda3\\lib\\site-packages\\sklearn\\model_selection\\_search.py:821\u001b[0m, in \u001b[0;36mBaseSearchCV.fit.<locals>.evaluate_candidates\u001b[1;34m(candidate_params, cv, more_results)\u001b[0m\n\u001b[0;32m    813\u001b[0m \u001b[39mif\u001b[39;00m \u001b[39mself\u001b[39m\u001b[39m.\u001b[39mverbose \u001b[39m>\u001b[39m \u001b[39m0\u001b[39m:\n\u001b[0;32m    814\u001b[0m     \u001b[39mprint\u001b[39m(\n\u001b[0;32m    815\u001b[0m         \u001b[39m\"\u001b[39m\u001b[39mFitting \u001b[39m\u001b[39m{0}\u001b[39;00m\u001b[39m folds for each of \u001b[39m\u001b[39m{1}\u001b[39;00m\u001b[39m candidates,\u001b[39m\u001b[39m\"\u001b[39m\n\u001b[0;32m    816\u001b[0m         \u001b[39m\"\u001b[39m\u001b[39m totalling \u001b[39m\u001b[39m{2}\u001b[39;00m\u001b[39m fits\u001b[39m\u001b[39m\"\u001b[39m\u001b[39m.\u001b[39mformat(\n\u001b[0;32m    817\u001b[0m             n_splits, n_candidates, n_candidates \u001b[39m*\u001b[39m n_splits\n\u001b[0;32m    818\u001b[0m         )\n\u001b[0;32m    819\u001b[0m     )\n\u001b[1;32m--> 821\u001b[0m out \u001b[39m=\u001b[39m parallel(\n\u001b[0;32m    822\u001b[0m     delayed(_fit_and_score)(\n\u001b[0;32m    823\u001b[0m         clone(base_estimator),\n\u001b[0;32m    824\u001b[0m         X,\n\u001b[0;32m    825\u001b[0m         y,\n\u001b[0;32m    826\u001b[0m         train\u001b[39m=\u001b[39;49mtrain,\n\u001b[0;32m    827\u001b[0m         test\u001b[39m=\u001b[39;49mtest,\n\u001b[0;32m    828\u001b[0m         parameters\u001b[39m=\u001b[39;49mparameters,\n\u001b[0;32m    829\u001b[0m         split_progress\u001b[39m=\u001b[39;49m(split_idx, n_splits),\n\u001b[0;32m    830\u001b[0m         candidate_progress\u001b[39m=\u001b[39;49m(cand_idx, n_candidates),\n\u001b[0;32m    831\u001b[0m         \u001b[39m*\u001b[39;49m\u001b[39m*\u001b[39;49mfit_and_score_kwargs,\n\u001b[0;32m    832\u001b[0m     )\n\u001b[0;32m    833\u001b[0m     \u001b[39mfor\u001b[39;49;00m (cand_idx, parameters), (split_idx, (train, test)) \u001b[39min\u001b[39;49;00m product(\n\u001b[0;32m    834\u001b[0m         \u001b[39menumerate\u001b[39;49m(candidate_params), \u001b[39menumerate\u001b[39;49m(cv\u001b[39m.\u001b[39;49msplit(X, y, groups))\n\u001b[0;32m    835\u001b[0m     )\n\u001b[0;32m    836\u001b[0m )\n\u001b[0;32m    838\u001b[0m \u001b[39mif\u001b[39;00m \u001b[39mlen\u001b[39m(out) \u001b[39m<\u001b[39m \u001b[39m1\u001b[39m:\n\u001b[0;32m    839\u001b[0m     \u001b[39mraise\u001b[39;00m \u001b[39mValueError\u001b[39;00m(\n\u001b[0;32m    840\u001b[0m         \u001b[39m\"\u001b[39m\u001b[39mNo fits were performed. \u001b[39m\u001b[39m\"\u001b[39m\n\u001b[0;32m    841\u001b[0m         \u001b[39m\"\u001b[39m\u001b[39mWas the CV iterator empty? \u001b[39m\u001b[39m\"\u001b[39m\n\u001b[0;32m    842\u001b[0m         \u001b[39m\"\u001b[39m\u001b[39mWere there no candidates?\u001b[39m\u001b[39m\"\u001b[39m\n\u001b[0;32m    843\u001b[0m     )\n",
      "File \u001b[1;32mc:\\Users\\hi\\anaconda3\\lib\\site-packages\\sklearn\\utils\\parallel.py:63\u001b[0m, in \u001b[0;36mParallel.__call__\u001b[1;34m(self, iterable)\u001b[0m\n\u001b[0;32m     58\u001b[0m config \u001b[39m=\u001b[39m get_config()\n\u001b[0;32m     59\u001b[0m iterable_with_config \u001b[39m=\u001b[39m (\n\u001b[0;32m     60\u001b[0m     (_with_config(delayed_func, config), args, kwargs)\n\u001b[0;32m     61\u001b[0m     \u001b[39mfor\u001b[39;00m delayed_func, args, kwargs \u001b[39min\u001b[39;00m iterable\n\u001b[0;32m     62\u001b[0m )\n\u001b[1;32m---> 63\u001b[0m \u001b[39mreturn\u001b[39;00m \u001b[39msuper\u001b[39;49m()\u001b[39m.\u001b[39;49m\u001b[39m__call__\u001b[39;49m(iterable_with_config)\n",
      "File \u001b[1;32mc:\\Users\\hi\\anaconda3\\lib\\site-packages\\joblib\\parallel.py:1088\u001b[0m, in \u001b[0;36mParallel.__call__\u001b[1;34m(self, iterable)\u001b[0m\n\u001b[0;32m   1085\u001b[0m \u001b[39mif\u001b[39;00m \u001b[39mself\u001b[39m\u001b[39m.\u001b[39mdispatch_one_batch(iterator):\n\u001b[0;32m   1086\u001b[0m     \u001b[39mself\u001b[39m\u001b[39m.\u001b[39m_iterating \u001b[39m=\u001b[39m \u001b[39mself\u001b[39m\u001b[39m.\u001b[39m_original_iterator \u001b[39mis\u001b[39;00m \u001b[39mnot\u001b[39;00m \u001b[39mNone\u001b[39;00m\n\u001b[1;32m-> 1088\u001b[0m \u001b[39mwhile\u001b[39;00m \u001b[39mself\u001b[39;49m\u001b[39m.\u001b[39;49mdispatch_one_batch(iterator):\n\u001b[0;32m   1089\u001b[0m     \u001b[39mpass\u001b[39;00m\n\u001b[0;32m   1091\u001b[0m \u001b[39mif\u001b[39;00m pre_dispatch \u001b[39m==\u001b[39m \u001b[39m\"\u001b[39m\u001b[39mall\u001b[39m\u001b[39m\"\u001b[39m \u001b[39mor\u001b[39;00m n_jobs \u001b[39m==\u001b[39m \u001b[39m1\u001b[39m:\n\u001b[0;32m   1092\u001b[0m     \u001b[39m# The iterable was consumed all at once by the above for loop.\u001b[39;00m\n\u001b[0;32m   1093\u001b[0m     \u001b[39m# No need to wait for async callbacks to trigger to\u001b[39;00m\n\u001b[0;32m   1094\u001b[0m     \u001b[39m# consumption.\u001b[39;00m\n",
      "File \u001b[1;32mc:\\Users\\hi\\anaconda3\\lib\\site-packages\\joblib\\parallel.py:901\u001b[0m, in \u001b[0;36mParallel.dispatch_one_batch\u001b[1;34m(self, iterator)\u001b[0m\n\u001b[0;32m    899\u001b[0m     \u001b[39mreturn\u001b[39;00m \u001b[39mFalse\u001b[39;00m\n\u001b[0;32m    900\u001b[0m \u001b[39melse\u001b[39;00m:\n\u001b[1;32m--> 901\u001b[0m     \u001b[39mself\u001b[39;49m\u001b[39m.\u001b[39;49m_dispatch(tasks)\n\u001b[0;32m    902\u001b[0m     \u001b[39mreturn\u001b[39;00m \u001b[39mTrue\u001b[39;00m\n",
      "File \u001b[1;32mc:\\Users\\hi\\anaconda3\\lib\\site-packages\\joblib\\parallel.py:819\u001b[0m, in \u001b[0;36mParallel._dispatch\u001b[1;34m(self, batch)\u001b[0m\n\u001b[0;32m    817\u001b[0m \u001b[39mwith\u001b[39;00m \u001b[39mself\u001b[39m\u001b[39m.\u001b[39m_lock:\n\u001b[0;32m    818\u001b[0m     job_idx \u001b[39m=\u001b[39m \u001b[39mlen\u001b[39m(\u001b[39mself\u001b[39m\u001b[39m.\u001b[39m_jobs)\n\u001b[1;32m--> 819\u001b[0m     job \u001b[39m=\u001b[39m \u001b[39mself\u001b[39;49m\u001b[39m.\u001b[39;49m_backend\u001b[39m.\u001b[39;49mapply_async(batch, callback\u001b[39m=\u001b[39;49mcb)\n\u001b[0;32m    820\u001b[0m     \u001b[39m# A job can complete so quickly than its callback is\u001b[39;00m\n\u001b[0;32m    821\u001b[0m     \u001b[39m# called before we get here, causing self._jobs to\u001b[39;00m\n\u001b[0;32m    822\u001b[0m     \u001b[39m# grow. To ensure correct results ordering, .insert is\u001b[39;00m\n\u001b[0;32m    823\u001b[0m     \u001b[39m# used (rather than .append) in the following line\u001b[39;00m\n\u001b[0;32m    824\u001b[0m     \u001b[39mself\u001b[39m\u001b[39m.\u001b[39m_jobs\u001b[39m.\u001b[39minsert(job_idx, job)\n",
      "File \u001b[1;32mc:\\Users\\hi\\anaconda3\\lib\\site-packages\\joblib\\_parallel_backends.py:208\u001b[0m, in \u001b[0;36mSequentialBackend.apply_async\u001b[1;34m(self, func, callback)\u001b[0m\n\u001b[0;32m    206\u001b[0m \u001b[39mdef\u001b[39;00m \u001b[39mapply_async\u001b[39m(\u001b[39mself\u001b[39m, func, callback\u001b[39m=\u001b[39m\u001b[39mNone\u001b[39;00m):\n\u001b[0;32m    207\u001b[0m \u001b[39m    \u001b[39m\u001b[39m\"\"\"Schedule a func to be run\"\"\"\u001b[39;00m\n\u001b[1;32m--> 208\u001b[0m     result \u001b[39m=\u001b[39m ImmediateResult(func)\n\u001b[0;32m    209\u001b[0m     \u001b[39mif\u001b[39;00m callback:\n\u001b[0;32m    210\u001b[0m         callback(result)\n",
      "File \u001b[1;32mc:\\Users\\hi\\anaconda3\\lib\\site-packages\\joblib\\_parallel_backends.py:597\u001b[0m, in \u001b[0;36mImmediateResult.__init__\u001b[1;34m(self, batch)\u001b[0m\n\u001b[0;32m    594\u001b[0m \u001b[39mdef\u001b[39;00m \u001b[39m__init__\u001b[39m(\u001b[39mself\u001b[39m, batch):\n\u001b[0;32m    595\u001b[0m     \u001b[39m# Don't delay the application, to avoid keeping the input\u001b[39;00m\n\u001b[0;32m    596\u001b[0m     \u001b[39m# arguments in memory\u001b[39;00m\n\u001b[1;32m--> 597\u001b[0m     \u001b[39mself\u001b[39m\u001b[39m.\u001b[39mresults \u001b[39m=\u001b[39m batch()\n",
      "File \u001b[1;32mc:\\Users\\hi\\anaconda3\\lib\\site-packages\\joblib\\parallel.py:288\u001b[0m, in \u001b[0;36mBatchedCalls.__call__\u001b[1;34m(self)\u001b[0m\n\u001b[0;32m    284\u001b[0m \u001b[39mdef\u001b[39;00m \u001b[39m__call__\u001b[39m(\u001b[39mself\u001b[39m):\n\u001b[0;32m    285\u001b[0m     \u001b[39m# Set the default nested backend to self._backend but do not set the\u001b[39;00m\n\u001b[0;32m    286\u001b[0m     \u001b[39m# change the default number of processes to -1\u001b[39;00m\n\u001b[0;32m    287\u001b[0m     \u001b[39mwith\u001b[39;00m parallel_backend(\u001b[39mself\u001b[39m\u001b[39m.\u001b[39m_backend, n_jobs\u001b[39m=\u001b[39m\u001b[39mself\u001b[39m\u001b[39m.\u001b[39m_n_jobs):\n\u001b[1;32m--> 288\u001b[0m         \u001b[39mreturn\u001b[39;00m [func(\u001b[39m*\u001b[39margs, \u001b[39m*\u001b[39m\u001b[39m*\u001b[39mkwargs)\n\u001b[0;32m    289\u001b[0m                 \u001b[39mfor\u001b[39;00m func, args, kwargs \u001b[39min\u001b[39;00m \u001b[39mself\u001b[39m\u001b[39m.\u001b[39mitems]\n",
      "File \u001b[1;32mc:\\Users\\hi\\anaconda3\\lib\\site-packages\\joblib\\parallel.py:288\u001b[0m, in \u001b[0;36m<listcomp>\u001b[1;34m(.0)\u001b[0m\n\u001b[0;32m    284\u001b[0m \u001b[39mdef\u001b[39;00m \u001b[39m__call__\u001b[39m(\u001b[39mself\u001b[39m):\n\u001b[0;32m    285\u001b[0m     \u001b[39m# Set the default nested backend to self._backend but do not set the\u001b[39;00m\n\u001b[0;32m    286\u001b[0m     \u001b[39m# change the default number of processes to -1\u001b[39;00m\n\u001b[0;32m    287\u001b[0m     \u001b[39mwith\u001b[39;00m parallel_backend(\u001b[39mself\u001b[39m\u001b[39m.\u001b[39m_backend, n_jobs\u001b[39m=\u001b[39m\u001b[39mself\u001b[39m\u001b[39m.\u001b[39m_n_jobs):\n\u001b[1;32m--> 288\u001b[0m         \u001b[39mreturn\u001b[39;00m [func(\u001b[39m*\u001b[39margs, \u001b[39m*\u001b[39m\u001b[39m*\u001b[39mkwargs)\n\u001b[0;32m    289\u001b[0m                 \u001b[39mfor\u001b[39;00m func, args, kwargs \u001b[39min\u001b[39;00m \u001b[39mself\u001b[39m\u001b[39m.\u001b[39mitems]\n",
      "File \u001b[1;32mc:\\Users\\hi\\anaconda3\\lib\\site-packages\\sklearn\\utils\\parallel.py:123\u001b[0m, in \u001b[0;36m_FuncWrapper.__call__\u001b[1;34m(self, *args, **kwargs)\u001b[0m\n\u001b[0;32m    121\u001b[0m     config \u001b[39m=\u001b[39m {}\n\u001b[0;32m    122\u001b[0m \u001b[39mwith\u001b[39;00m config_context(\u001b[39m*\u001b[39m\u001b[39m*\u001b[39mconfig):\n\u001b[1;32m--> 123\u001b[0m     \u001b[39mreturn\u001b[39;00m \u001b[39mself\u001b[39m\u001b[39m.\u001b[39mfunction(\u001b[39m*\u001b[39margs, \u001b[39m*\u001b[39m\u001b[39m*\u001b[39mkwargs)\n",
      "File \u001b[1;32mc:\\Users\\hi\\anaconda3\\lib\\site-packages\\sklearn\\model_selection\\_validation.py:686\u001b[0m, in \u001b[0;36m_fit_and_score\u001b[1;34m(estimator, X, y, scorer, train, test, verbose, parameters, fit_params, return_train_score, return_parameters, return_n_test_samples, return_times, return_estimator, split_progress, candidate_progress, error_score)\u001b[0m\n\u001b[0;32m    684\u001b[0m         estimator\u001b[39m.\u001b[39mfit(X_train, \u001b[39m*\u001b[39m\u001b[39m*\u001b[39mfit_params)\n\u001b[0;32m    685\u001b[0m     \u001b[39melse\u001b[39;00m:\n\u001b[1;32m--> 686\u001b[0m         estimator\u001b[39m.\u001b[39mfit(X_train, y_train, \u001b[39m*\u001b[39m\u001b[39m*\u001b[39mfit_params)\n\u001b[0;32m    688\u001b[0m \u001b[39mexcept\u001b[39;00m \u001b[39mException\u001b[39;00m:\n\u001b[0;32m    689\u001b[0m     \u001b[39m# Note fit time as time until error\u001b[39;00m\n\u001b[0;32m    690\u001b[0m     fit_time \u001b[39m=\u001b[39m time\u001b[39m.\u001b[39mtime() \u001b[39m-\u001b[39m start_time\n",
      "File \u001b[1;32mc:\\Users\\hi\\anaconda3\\lib\\site-packages\\sklearn\\ensemble\\_forest.py:473\u001b[0m, in \u001b[0;36mBaseForest.fit\u001b[1;34m(self, X, y, sample_weight)\u001b[0m\n\u001b[0;32m    462\u001b[0m trees \u001b[39m=\u001b[39m [\n\u001b[0;32m    463\u001b[0m     \u001b[39mself\u001b[39m\u001b[39m.\u001b[39m_make_estimator(append\u001b[39m=\u001b[39m\u001b[39mFalse\u001b[39;00m, random_state\u001b[39m=\u001b[39mrandom_state)\n\u001b[0;32m    464\u001b[0m     \u001b[39mfor\u001b[39;00m i \u001b[39min\u001b[39;00m \u001b[39mrange\u001b[39m(n_more_estimators)\n\u001b[0;32m    465\u001b[0m ]\n\u001b[0;32m    467\u001b[0m \u001b[39m# Parallel loop: we prefer the threading backend as the Cython code\u001b[39;00m\n\u001b[0;32m    468\u001b[0m \u001b[39m# for fitting the trees is internally releasing the Python GIL\u001b[39;00m\n\u001b[0;32m    469\u001b[0m \u001b[39m# making threading more efficient than multiprocessing in\u001b[39;00m\n\u001b[0;32m    470\u001b[0m \u001b[39m# that case. However, for joblib 0.12+ we respect any\u001b[39;00m\n\u001b[0;32m    471\u001b[0m \u001b[39m# parallel_backend contexts set at a higher level,\u001b[39;00m\n\u001b[0;32m    472\u001b[0m \u001b[39m# since correctness does not rely on using threads.\u001b[39;00m\n\u001b[1;32m--> 473\u001b[0m trees \u001b[39m=\u001b[39m Parallel(\n\u001b[0;32m    474\u001b[0m     n_jobs\u001b[39m=\u001b[39;49m\u001b[39mself\u001b[39;49m\u001b[39m.\u001b[39;49mn_jobs,\n\u001b[0;32m    475\u001b[0m     verbose\u001b[39m=\u001b[39;49m\u001b[39mself\u001b[39;49m\u001b[39m.\u001b[39;49mverbose,\n\u001b[0;32m    476\u001b[0m     prefer\u001b[39m=\u001b[39;49m\u001b[39m\"\u001b[39;49m\u001b[39mthreads\u001b[39;49m\u001b[39m\"\u001b[39;49m,\n\u001b[0;32m    477\u001b[0m )(\n\u001b[0;32m    478\u001b[0m     delayed(_parallel_build_trees)(\n\u001b[0;32m    479\u001b[0m         t,\n\u001b[0;32m    480\u001b[0m         \u001b[39mself\u001b[39;49m\u001b[39m.\u001b[39;49mbootstrap,\n\u001b[0;32m    481\u001b[0m         X,\n\u001b[0;32m    482\u001b[0m         y,\n\u001b[0;32m    483\u001b[0m         sample_weight,\n\u001b[0;32m    484\u001b[0m         i,\n\u001b[0;32m    485\u001b[0m         \u001b[39mlen\u001b[39;49m(trees),\n\u001b[0;32m    486\u001b[0m         verbose\u001b[39m=\u001b[39;49m\u001b[39mself\u001b[39;49m\u001b[39m.\u001b[39;49mverbose,\n\u001b[0;32m    487\u001b[0m         class_weight\u001b[39m=\u001b[39;49m\u001b[39mself\u001b[39;49m\u001b[39m.\u001b[39;49mclass_weight,\n\u001b[0;32m    488\u001b[0m         n_samples_bootstrap\u001b[39m=\u001b[39;49mn_samples_bootstrap,\n\u001b[0;32m    489\u001b[0m     )\n\u001b[0;32m    490\u001b[0m     \u001b[39mfor\u001b[39;49;00m i, t \u001b[39min\u001b[39;49;00m \u001b[39menumerate\u001b[39;49m(trees)\n\u001b[0;32m    491\u001b[0m )\n\u001b[0;32m    493\u001b[0m \u001b[39m# Collect newly grown trees\u001b[39;00m\n\u001b[0;32m    494\u001b[0m \u001b[39mself\u001b[39m\u001b[39m.\u001b[39mestimators_\u001b[39m.\u001b[39mextend(trees)\n",
      "File \u001b[1;32mc:\\Users\\hi\\anaconda3\\lib\\site-packages\\sklearn\\utils\\parallel.py:63\u001b[0m, in \u001b[0;36mParallel.__call__\u001b[1;34m(self, iterable)\u001b[0m\n\u001b[0;32m     58\u001b[0m config \u001b[39m=\u001b[39m get_config()\n\u001b[0;32m     59\u001b[0m iterable_with_config \u001b[39m=\u001b[39m (\n\u001b[0;32m     60\u001b[0m     (_with_config(delayed_func, config), args, kwargs)\n\u001b[0;32m     61\u001b[0m     \u001b[39mfor\u001b[39;00m delayed_func, args, kwargs \u001b[39min\u001b[39;00m iterable\n\u001b[0;32m     62\u001b[0m )\n\u001b[1;32m---> 63\u001b[0m \u001b[39mreturn\u001b[39;00m \u001b[39msuper\u001b[39;49m()\u001b[39m.\u001b[39;49m\u001b[39m__call__\u001b[39;49m(iterable_with_config)\n",
      "File \u001b[1;32mc:\\Users\\hi\\anaconda3\\lib\\site-packages\\joblib\\parallel.py:1088\u001b[0m, in \u001b[0;36mParallel.__call__\u001b[1;34m(self, iterable)\u001b[0m\n\u001b[0;32m   1085\u001b[0m \u001b[39mif\u001b[39;00m \u001b[39mself\u001b[39m\u001b[39m.\u001b[39mdispatch_one_batch(iterator):\n\u001b[0;32m   1086\u001b[0m     \u001b[39mself\u001b[39m\u001b[39m.\u001b[39m_iterating \u001b[39m=\u001b[39m \u001b[39mself\u001b[39m\u001b[39m.\u001b[39m_original_iterator \u001b[39mis\u001b[39;00m \u001b[39mnot\u001b[39;00m \u001b[39mNone\u001b[39;00m\n\u001b[1;32m-> 1088\u001b[0m \u001b[39mwhile\u001b[39;00m \u001b[39mself\u001b[39;49m\u001b[39m.\u001b[39;49mdispatch_one_batch(iterator):\n\u001b[0;32m   1089\u001b[0m     \u001b[39mpass\u001b[39;00m\n\u001b[0;32m   1091\u001b[0m \u001b[39mif\u001b[39;00m pre_dispatch \u001b[39m==\u001b[39m \u001b[39m\"\u001b[39m\u001b[39mall\u001b[39m\u001b[39m\"\u001b[39m \u001b[39mor\u001b[39;00m n_jobs \u001b[39m==\u001b[39m \u001b[39m1\u001b[39m:\n\u001b[0;32m   1092\u001b[0m     \u001b[39m# The iterable was consumed all at once by the above for loop.\u001b[39;00m\n\u001b[0;32m   1093\u001b[0m     \u001b[39m# No need to wait for async callbacks to trigger to\u001b[39;00m\n\u001b[0;32m   1094\u001b[0m     \u001b[39m# consumption.\u001b[39;00m\n",
      "File \u001b[1;32mc:\\Users\\hi\\anaconda3\\lib\\site-packages\\joblib\\parallel.py:901\u001b[0m, in \u001b[0;36mParallel.dispatch_one_batch\u001b[1;34m(self, iterator)\u001b[0m\n\u001b[0;32m    899\u001b[0m     \u001b[39mreturn\u001b[39;00m \u001b[39mFalse\u001b[39;00m\n\u001b[0;32m    900\u001b[0m \u001b[39melse\u001b[39;00m:\n\u001b[1;32m--> 901\u001b[0m     \u001b[39mself\u001b[39;49m\u001b[39m.\u001b[39;49m_dispatch(tasks)\n\u001b[0;32m    902\u001b[0m     \u001b[39mreturn\u001b[39;00m \u001b[39mTrue\u001b[39;00m\n",
      "File \u001b[1;32mc:\\Users\\hi\\anaconda3\\lib\\site-packages\\joblib\\parallel.py:819\u001b[0m, in \u001b[0;36mParallel._dispatch\u001b[1;34m(self, batch)\u001b[0m\n\u001b[0;32m    817\u001b[0m \u001b[39mwith\u001b[39;00m \u001b[39mself\u001b[39m\u001b[39m.\u001b[39m_lock:\n\u001b[0;32m    818\u001b[0m     job_idx \u001b[39m=\u001b[39m \u001b[39mlen\u001b[39m(\u001b[39mself\u001b[39m\u001b[39m.\u001b[39m_jobs)\n\u001b[1;32m--> 819\u001b[0m     job \u001b[39m=\u001b[39m \u001b[39mself\u001b[39;49m\u001b[39m.\u001b[39;49m_backend\u001b[39m.\u001b[39;49mapply_async(batch, callback\u001b[39m=\u001b[39;49mcb)\n\u001b[0;32m    820\u001b[0m     \u001b[39m# A job can complete so quickly than its callback is\u001b[39;00m\n\u001b[0;32m    821\u001b[0m     \u001b[39m# called before we get here, causing self._jobs to\u001b[39;00m\n\u001b[0;32m    822\u001b[0m     \u001b[39m# grow. To ensure correct results ordering, .insert is\u001b[39;00m\n\u001b[0;32m    823\u001b[0m     \u001b[39m# used (rather than .append) in the following line\u001b[39;00m\n\u001b[0;32m    824\u001b[0m     \u001b[39mself\u001b[39m\u001b[39m.\u001b[39m_jobs\u001b[39m.\u001b[39minsert(job_idx, job)\n",
      "File \u001b[1;32mc:\\Users\\hi\\anaconda3\\lib\\site-packages\\joblib\\_parallel_backends.py:208\u001b[0m, in \u001b[0;36mSequentialBackend.apply_async\u001b[1;34m(self, func, callback)\u001b[0m\n\u001b[0;32m    206\u001b[0m \u001b[39mdef\u001b[39;00m \u001b[39mapply_async\u001b[39m(\u001b[39mself\u001b[39m, func, callback\u001b[39m=\u001b[39m\u001b[39mNone\u001b[39;00m):\n\u001b[0;32m    207\u001b[0m \u001b[39m    \u001b[39m\u001b[39m\"\"\"Schedule a func to be run\"\"\"\u001b[39;00m\n\u001b[1;32m--> 208\u001b[0m     result \u001b[39m=\u001b[39m ImmediateResult(func)\n\u001b[0;32m    209\u001b[0m     \u001b[39mif\u001b[39;00m callback:\n\u001b[0;32m    210\u001b[0m         callback(result)\n",
      "File \u001b[1;32mc:\\Users\\hi\\anaconda3\\lib\\site-packages\\joblib\\_parallel_backends.py:597\u001b[0m, in \u001b[0;36mImmediateResult.__init__\u001b[1;34m(self, batch)\u001b[0m\n\u001b[0;32m    594\u001b[0m \u001b[39mdef\u001b[39;00m \u001b[39m__init__\u001b[39m(\u001b[39mself\u001b[39m, batch):\n\u001b[0;32m    595\u001b[0m     \u001b[39m# Don't delay the application, to avoid keeping the input\u001b[39;00m\n\u001b[0;32m    596\u001b[0m     \u001b[39m# arguments in memory\u001b[39;00m\n\u001b[1;32m--> 597\u001b[0m     \u001b[39mself\u001b[39m\u001b[39m.\u001b[39mresults \u001b[39m=\u001b[39m batch()\n",
      "File \u001b[1;32mc:\\Users\\hi\\anaconda3\\lib\\site-packages\\joblib\\parallel.py:288\u001b[0m, in \u001b[0;36mBatchedCalls.__call__\u001b[1;34m(self)\u001b[0m\n\u001b[0;32m    284\u001b[0m \u001b[39mdef\u001b[39;00m \u001b[39m__call__\u001b[39m(\u001b[39mself\u001b[39m):\n\u001b[0;32m    285\u001b[0m     \u001b[39m# Set the default nested backend to self._backend but do not set the\u001b[39;00m\n\u001b[0;32m    286\u001b[0m     \u001b[39m# change the default number of processes to -1\u001b[39;00m\n\u001b[0;32m    287\u001b[0m     \u001b[39mwith\u001b[39;00m parallel_backend(\u001b[39mself\u001b[39m\u001b[39m.\u001b[39m_backend, n_jobs\u001b[39m=\u001b[39m\u001b[39mself\u001b[39m\u001b[39m.\u001b[39m_n_jobs):\n\u001b[1;32m--> 288\u001b[0m         \u001b[39mreturn\u001b[39;00m [func(\u001b[39m*\u001b[39margs, \u001b[39m*\u001b[39m\u001b[39m*\u001b[39mkwargs)\n\u001b[0;32m    289\u001b[0m                 \u001b[39mfor\u001b[39;00m func, args, kwargs \u001b[39min\u001b[39;00m \u001b[39mself\u001b[39m\u001b[39m.\u001b[39mitems]\n",
      "File \u001b[1;32mc:\\Users\\hi\\anaconda3\\lib\\site-packages\\joblib\\parallel.py:288\u001b[0m, in \u001b[0;36m<listcomp>\u001b[1;34m(.0)\u001b[0m\n\u001b[0;32m    284\u001b[0m \u001b[39mdef\u001b[39;00m \u001b[39m__call__\u001b[39m(\u001b[39mself\u001b[39m):\n\u001b[0;32m    285\u001b[0m     \u001b[39m# Set the default nested backend to self._backend but do not set the\u001b[39;00m\n\u001b[0;32m    286\u001b[0m     \u001b[39m# change the default number of processes to -1\u001b[39;00m\n\u001b[0;32m    287\u001b[0m     \u001b[39mwith\u001b[39;00m parallel_backend(\u001b[39mself\u001b[39m\u001b[39m.\u001b[39m_backend, n_jobs\u001b[39m=\u001b[39m\u001b[39mself\u001b[39m\u001b[39m.\u001b[39m_n_jobs):\n\u001b[1;32m--> 288\u001b[0m         \u001b[39mreturn\u001b[39;00m [func(\u001b[39m*\u001b[39margs, \u001b[39m*\u001b[39m\u001b[39m*\u001b[39mkwargs)\n\u001b[0;32m    289\u001b[0m                 \u001b[39mfor\u001b[39;00m func, args, kwargs \u001b[39min\u001b[39;00m \u001b[39mself\u001b[39m\u001b[39m.\u001b[39mitems]\n",
      "File \u001b[1;32mc:\\Users\\hi\\anaconda3\\lib\\site-packages\\sklearn\\utils\\parallel.py:123\u001b[0m, in \u001b[0;36m_FuncWrapper.__call__\u001b[1;34m(self, *args, **kwargs)\u001b[0m\n\u001b[0;32m    121\u001b[0m     config \u001b[39m=\u001b[39m {}\n\u001b[0;32m    122\u001b[0m \u001b[39mwith\u001b[39;00m config_context(\u001b[39m*\u001b[39m\u001b[39m*\u001b[39mconfig):\n\u001b[1;32m--> 123\u001b[0m     \u001b[39mreturn\u001b[39;00m \u001b[39mself\u001b[39m\u001b[39m.\u001b[39mfunction(\u001b[39m*\u001b[39margs, \u001b[39m*\u001b[39m\u001b[39m*\u001b[39mkwargs)\n",
      "File \u001b[1;32mc:\\Users\\hi\\anaconda3\\lib\\site-packages\\sklearn\\ensemble\\_forest.py:184\u001b[0m, in \u001b[0;36m_parallel_build_trees\u001b[1;34m(tree, bootstrap, X, y, sample_weight, tree_idx, n_trees, verbose, class_weight, n_samples_bootstrap)\u001b[0m\n\u001b[0;32m    181\u001b[0m     \u001b[39melif\u001b[39;00m class_weight \u001b[39m==\u001b[39m \u001b[39m\"\u001b[39m\u001b[39mbalanced_subsample\u001b[39m\u001b[39m\"\u001b[39m:\n\u001b[0;32m    182\u001b[0m         curr_sample_weight \u001b[39m*\u001b[39m\u001b[39m=\u001b[39m compute_sample_weight(\u001b[39m\"\u001b[39m\u001b[39mbalanced\u001b[39m\u001b[39m\"\u001b[39m, y, indices\u001b[39m=\u001b[39mindices)\n\u001b[1;32m--> 184\u001b[0m     tree\u001b[39m.\u001b[39;49mfit(X, y, sample_weight\u001b[39m=\u001b[39;49mcurr_sample_weight, check_input\u001b[39m=\u001b[39;49m\u001b[39mFalse\u001b[39;49;00m)\n\u001b[0;32m    185\u001b[0m \u001b[39melse\u001b[39;00m:\n\u001b[0;32m    186\u001b[0m     tree\u001b[39m.\u001b[39mfit(X, y, sample_weight\u001b[39m=\u001b[39msample_weight, check_input\u001b[39m=\u001b[39m\u001b[39mFalse\u001b[39;00m)\n",
      "File \u001b[1;32mc:\\Users\\hi\\anaconda3\\lib\\site-packages\\sklearn\\tree\\_classes.py:1247\u001b[0m, in \u001b[0;36mDecisionTreeRegressor.fit\u001b[1;34m(self, X, y, sample_weight, check_input)\u001b[0m\n\u001b[0;32m   1218\u001b[0m \u001b[39mdef\u001b[39;00m \u001b[39mfit\u001b[39m(\u001b[39mself\u001b[39m, X, y, sample_weight\u001b[39m=\u001b[39m\u001b[39mNone\u001b[39;00m, check_input\u001b[39m=\u001b[39m\u001b[39mTrue\u001b[39;00m):\n\u001b[0;32m   1219\u001b[0m \u001b[39m    \u001b[39m\u001b[39m\"\"\"Build a decision tree regressor from the training set (X, y).\u001b[39;00m\n\u001b[0;32m   1220\u001b[0m \n\u001b[0;32m   1221\u001b[0m \u001b[39m    Parameters\u001b[39;00m\n\u001b[1;32m   (...)\u001b[0m\n\u001b[0;32m   1244\u001b[0m \u001b[39m        Fitted estimator.\u001b[39;00m\n\u001b[0;32m   1245\u001b[0m \u001b[39m    \"\"\"\u001b[39;00m\n\u001b[1;32m-> 1247\u001b[0m     \u001b[39msuper\u001b[39;49m()\u001b[39m.\u001b[39;49mfit(\n\u001b[0;32m   1248\u001b[0m         X,\n\u001b[0;32m   1249\u001b[0m         y,\n\u001b[0;32m   1250\u001b[0m         sample_weight\u001b[39m=\u001b[39;49msample_weight,\n\u001b[0;32m   1251\u001b[0m         check_input\u001b[39m=\u001b[39;49mcheck_input,\n\u001b[0;32m   1252\u001b[0m     )\n\u001b[0;32m   1253\u001b[0m     \u001b[39mreturn\u001b[39;00m \u001b[39mself\u001b[39m\n",
      "File \u001b[1;32mc:\\Users\\hi\\anaconda3\\lib\\site-packages\\sklearn\\tree\\_classes.py:379\u001b[0m, in \u001b[0;36mBaseDecisionTree.fit\u001b[1;34m(self, X, y, sample_weight, check_input)\u001b[0m\n\u001b[0;32m    368\u001b[0m \u001b[39melse\u001b[39;00m:\n\u001b[0;32m    369\u001b[0m     builder \u001b[39m=\u001b[39m BestFirstTreeBuilder(\n\u001b[0;32m    370\u001b[0m         splitter,\n\u001b[0;32m    371\u001b[0m         min_samples_split,\n\u001b[1;32m   (...)\u001b[0m\n\u001b[0;32m    376\u001b[0m         \u001b[39mself\u001b[39m\u001b[39m.\u001b[39mmin_impurity_decrease,\n\u001b[0;32m    377\u001b[0m     )\n\u001b[1;32m--> 379\u001b[0m builder\u001b[39m.\u001b[39;49mbuild(\u001b[39mself\u001b[39;49m\u001b[39m.\u001b[39;49mtree_, X, y, sample_weight)\n\u001b[0;32m    381\u001b[0m \u001b[39mif\u001b[39;00m \u001b[39mself\u001b[39m\u001b[39m.\u001b[39mn_outputs_ \u001b[39m==\u001b[39m \u001b[39m1\u001b[39m \u001b[39mand\u001b[39;00m is_classifier(\u001b[39mself\u001b[39m):\n\u001b[0;32m    382\u001b[0m     \u001b[39mself\u001b[39m\u001b[39m.\u001b[39mn_classes_ \u001b[39m=\u001b[39m \u001b[39mself\u001b[39m\u001b[39m.\u001b[39mn_classes_[\u001b[39m0\u001b[39m]\n",
      "\u001b[1;31mKeyboardInterrupt\u001b[0m: "
     ]
    }
   ],
   "source": [
    "from sklearn.model_selection import GridSearchCV\n",
    "# Feature Scaling\n",
    "scaler = StandardScaler()\n",
    "X_train_scaled = scaler.fit_transform(X_train)\n",
    "X_test_scaled = scaler.transform(X_test)\n",
    "\n",
    "# Perform GridSearchCV for Random Forest\n",
    "param_grid_rf = {\n",
    "    'n_estimators': [100, 200, 300],\n",
    "    'max_depth': [None, 10, 20],\n",
    "    'min_samples_split': [2, 5, 10],\n",
    "    'min_samples_leaf': [1, 2, 4],\n",
    "}\n",
    "grid_search_rf = GridSearchCV(RandomForestRegressor(random_state=42), param_grid_rf, cv=5, scoring='neg_mean_squared_error')\n",
    "grid_search_rf.fit(X_train_scaled, y_train)\n",
    "best_rf = grid_search_rf.best_estimator_\n",
    "y_pred_best_rf = best_rf.predict(X_test_scaled)\n",
    "\n",
    "# Perform GridSearchCV for XGBoost\n",
    "param_grid_xgb = {\n",
    "    'n_estimators': [100, 200, 300],\n",
    "    'learning_rate': [0.01, 0.1, 0.2],\n",
    "    'max_depth': [3, 4, 5],\n",
    "}\n",
    "grid_search_xgb = GridSearchCV(xgb.XGBRegressor(random_state=42), param_grid_xgb, cv=5, scoring='neg_mean_squared_error')\n",
    "grid_search_xgb.fit(X_train_scaled, y_train)\n",
    "best_xgb = grid_search_xgb.best_estimator_\n",
    "y_pred_best_xgb = best_xgb.predict(X_test_scaled)\n",
    "\n",
    "# Other models as before\n",
    "# ...\n",
    "\n",
    "# Evaluate Models\n",
    "print(\"Best Random Forest - RMSE:\", mean_squared_error(y_test, y_pred_best_rf, squared=False))\n",
    "print(\"Best XGBoost - RMSE:\", mean_squared_error(y_test, y_pred_best_xgb, squared=False))\n",
    "# ..."
   ]
  },
  {
   "cell_type": "code",
   "execution_count": null,
   "metadata": {},
   "outputs": [],
   "source": []
  }
 ],
 "metadata": {
  "kernelspec": {
   "display_name": "Python 3 (ipykernel)",
   "language": "python",
   "name": "python3"
  },
  "language_info": {
   "codemirror_mode": {
    "name": "ipython",
    "version": 3
   },
   "file_extension": ".py",
   "mimetype": "text/x-python",
   "name": "python",
   "nbconvert_exporter": "python",
   "pygments_lexer": "ipython3",
   "version": "3.9.16"
  }
 },
 "nbformat": 4,
 "nbformat_minor": 2
}
